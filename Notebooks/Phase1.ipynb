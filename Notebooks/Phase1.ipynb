{
  "nbformat": 4,
  "nbformat_minor": 0,
  "metadata": {
    "colab": {
      "provenance": [],
      "gpuType": "T4",
      "toc_visible": true
    },
    "kernelspec": {
      "name": "python3",
      "display_name": "Python 3"
    },
    "language_info": {
      "name": "python"
    },
    "accelerator": "GPU"
  },
  "cells": [
    {
      "cell_type": "markdown",
      "source": [
        "# AI/ML Project / Phase 1\n",
        "## **Course Name**: Machine Learning Techniques  \n",
        "## **Project Title**: Detecting AI-Generated Text  \n",
        "\n",
        "---\n",
        "\n",
        "### **Team Members**:\n",
        "- Amr [Replace with Full Name]\n",
        "- Lukas\n",
        "- Mohamad Hussen Chamsi  \n",
        "  \n",
        "\n",
        "---\n",
        "\n",
        "### **Instructor**: [Instructor's Full Name]  \n"
      ],
      "metadata": {
        "id": "blRE2pxXZhZi"
      }
    },
    {
      "cell_type": "markdown",
      "source": [
        "# 1 - AI Text Detection\n"
      ],
      "metadata": {
        "id": "bfYKs1tmSp3c"
      }
    },
    {
      "cell_type": "markdown",
      "source": [
        "## 1.1 - Problem Definition\n",
        "\n",
        "# Developments in AI and Large Language Models (LLMs)\n",
        "\n",
        "The recent developments in AI and large language models (LLMs) have been rapid and are growing exponentially. Lately, LLMs have become very popular and easily accessible to the public. Their use has assisted in many aspects of daily life due to their ability to provide convincingly sophisticated answers across a wide range of topics.\n",
        "\n",
        "Models such as **GPT-3**, **PaLM**, and **ChatGPT** can answer complex questions about science, mathematics, history, social trends, and more (Mitchell et al., 2023). Earlier versions of LLMs were limited to the knowledge available at the time of their training. However, recent LLMs have become more advanced, enabling them to crawl the internet, fetch relevant data from web pages, and generate answers.\n",
        "\n",
        "---\n",
        "\n",
        "## Ethical Concerns\n",
        "\n",
        "Despite their utility, the rapid development of LLMs raises significant ethical concerns:\n",
        "- **Distinguishing AI-generated vs. human-written text**: It has become increasingly challenging to tell the difference between the two.  \n",
        "- **Misuse**: Such powerful tools have been exploited for plagiarism and the production of false information on the internet.  \n",
        "- **Hallucinations**: The generation of plausible but false content (referred to as hallucination [11, 12]) can inadvertently:\n",
        "  - Propagate misinformation.\n",
        "  - Spread false narratives, fake news, and spam.  \n",
        "\n",
        "Given the rapid adoption of LLMs and the global rate of information dissemination, the risk of widespread misinformation propagation is imminent. This is a challenge that both individuals and organizations must address in the near future [13, 14].\n",
        "\n",
        "---\n",
        "\n",
        "## Need for Detection\n",
        "\n",
        "An understanding of the source of authored content – whether by an AI system or a human – is crucial. This allows for the appropriate use of such content in downstream applications with suitable oversight.\n",
        "\n",
        "Accordingly, there is an **urgent need for efficient methods to detect AI-generated text** (Guo et al., 2024).\n"
      ],
      "metadata": {
        "id": "gNC2C914SpR9"
      }
    },
    {
      "cell_type": "markdown",
      "source": [
        "## 1.2 - Connection To SDGs :\n",
        "\n",
        "Connecting the Project to Sustainable Development Goals (SDGs) Our project, focal point on addressing the challenges created by generative AI technologies, like identifying whether a text is written by AI or humans.\n",
        " This is important because AI-generated have is often misused for false informtion or plagiarism. By tackling these matter , our project supports many of (SDGs) Goals .\n",
        "\n",
        "Here are some of them:\n",
        "\n",
        "SDG 4: Quality Education. Our project helps universities and schools detect AI-generated content to ensure right and academic integrity.\n",
        "\n",
        "SDG 16: Peace, Justice, and Strong Institutions : Our contribution with the project is to try and limit the spread and helps block the false information . This will help build up trust and transparency, key elements of peaceful societies.\n",
        "\n",
        "SDG 9:\n",
        "Industry, Innovation, and Infrastructure: AI will be a powerful driver for innovation, but if misuse can lead to negative consequences. Our project boost responsible AI development by creating systems to manage its risks, like detecting misuse. our project contributes to building strong and trust digital infrastructures, fostering innovation that is ethical and inclusive\n",
        "SDG 17:\n",
        "Partnership for the Goals We work with educational institutions and technology companies to establish standardized methods for AI-text detection.\n"
      ],
      "metadata": {
        "id": "PuTf837DTf0m"
      }
    },
    {
      "cell_type": "markdown",
      "source": [
        "## 1.3 - Overview of our Approach"
      ],
      "metadata": {
        "id": "Ru6hb1METuEW"
      }
    },
    {
      "cell_type": "markdown",
      "source": [
        "# 2 - Import Libraries"
      ],
      "metadata": {
        "id": "8-WvjwS8LcMC"
      }
    },
    {
      "cell_type": "code",
      "source": [
        "!pip install gdown\n",
        "!pip install emoji\n",
        "!pip install contractions"
      ],
      "metadata": {
        "colab": {
          "base_uri": "https://localhost:8080/"
        },
        "id": "VE-2jm5cbXS_",
        "outputId": "d90db52b-c544-4f81-f195-704d49391d46"
      },
      "execution_count": null,
      "outputs": [
        {
          "output_type": "stream",
          "name": "stdout",
          "text": [
            "Requirement already satisfied: gdown in /usr/local/lib/python3.10/dist-packages (5.2.0)\n",
            "Requirement already satisfied: beautifulsoup4 in /usr/local/lib/python3.10/dist-packages (from gdown) (4.12.3)\n",
            "Requirement already satisfied: filelock in /usr/local/lib/python3.10/dist-packages (from gdown) (3.16.1)\n",
            "Requirement already satisfied: requests[socks] in /usr/local/lib/python3.10/dist-packages (from gdown) (2.32.3)\n",
            "Requirement already satisfied: tqdm in /usr/local/lib/python3.10/dist-packages (from gdown) (4.66.6)\n",
            "Requirement already satisfied: soupsieve>1.2 in /usr/local/lib/python3.10/dist-packages (from beautifulsoup4->gdown) (2.6)\n",
            "Requirement already satisfied: charset-normalizer<4,>=2 in /usr/local/lib/python3.10/dist-packages (from requests[socks]->gdown) (3.4.0)\n",
            "Requirement already satisfied: idna<4,>=2.5 in /usr/local/lib/python3.10/dist-packages (from requests[socks]->gdown) (3.10)\n",
            "Requirement already satisfied: urllib3<3,>=1.21.1 in /usr/local/lib/python3.10/dist-packages (from requests[socks]->gdown) (2.2.3)\n",
            "Requirement already satisfied: certifi>=2017.4.17 in /usr/local/lib/python3.10/dist-packages (from requests[socks]->gdown) (2024.8.30)\n",
            "Requirement already satisfied: PySocks!=1.5.7,>=1.5.6 in /usr/local/lib/python3.10/dist-packages (from requests[socks]->gdown) (1.7.1)\n",
            "Collecting emoji\n",
            "  Downloading emoji-2.14.0-py3-none-any.whl.metadata (5.7 kB)\n",
            "Downloading emoji-2.14.0-py3-none-any.whl (586 kB)\n",
            "\u001b[2K   \u001b[90m━━━━━━━━━━━━━━━━━━━━━━━━━━━━━━━━━━━━━━━━\u001b[0m \u001b[32m586.9/586.9 kB\u001b[0m \u001b[31m13.4 MB/s\u001b[0m eta \u001b[36m0:00:00\u001b[0m\n",
            "\u001b[?25hInstalling collected packages: emoji\n",
            "Successfully installed emoji-2.14.0\n",
            "Collecting contractions\n",
            "  Downloading contractions-0.1.73-py2.py3-none-any.whl.metadata (1.2 kB)\n",
            "Collecting textsearch>=0.0.21 (from contractions)\n",
            "  Downloading textsearch-0.0.24-py2.py3-none-any.whl.metadata (1.2 kB)\n",
            "Collecting anyascii (from textsearch>=0.0.21->contractions)\n",
            "  Downloading anyascii-0.3.2-py3-none-any.whl.metadata (1.5 kB)\n",
            "Collecting pyahocorasick (from textsearch>=0.0.21->contractions)\n",
            "  Downloading pyahocorasick-2.1.0-cp310-cp310-manylinux_2_5_x86_64.manylinux1_x86_64.manylinux_2_12_x86_64.manylinux2010_x86_64.whl.metadata (13 kB)\n",
            "Downloading contractions-0.1.73-py2.py3-none-any.whl (8.7 kB)\n",
            "Downloading textsearch-0.0.24-py2.py3-none-any.whl (7.6 kB)\n",
            "Downloading anyascii-0.3.2-py3-none-any.whl (289 kB)\n",
            "\u001b[2K   \u001b[90m━━━━━━━━━━━━━━━━━━━━━━━━━━━━━━━━━━━━━━━━\u001b[0m \u001b[32m289.9/289.9 kB\u001b[0m \u001b[31m5.2 MB/s\u001b[0m eta \u001b[36m0:00:00\u001b[0m\n",
            "\u001b[?25hDownloading pyahocorasick-2.1.0-cp310-cp310-manylinux_2_5_x86_64.manylinux1_x86_64.manylinux_2_12_x86_64.manylinux2010_x86_64.whl (110 kB)\n",
            "\u001b[2K   \u001b[90m━━━━━━━━━━━━━━━━━━━━━━━━━━━━━━━━━━━━━━━━\u001b[0m \u001b[32m110.7/110.7 kB\u001b[0m \u001b[31m5.5 MB/s\u001b[0m eta \u001b[36m0:00:00\u001b[0m\n",
            "\u001b[?25hInstalling collected packages: pyahocorasick, anyascii, textsearch, contractions\n",
            "Successfully installed anyascii-0.3.2 contractions-0.1.73 pyahocorasick-2.1.0 textsearch-0.0.24\n"
          ]
        }
      ]
    },
    {
      "cell_type": "code",
      "source": [
        "# imports\n",
        "import pandas as pd\n",
        "import numpy as np\n",
        "import matplotlib.pyplot as plt  # Import matplotlib for creating visualizations such as bar plots and pie charts.\n",
        "import seaborn as sns  # Import seaborn for enhanced data visualization, especially statistical plots.##\n",
        "from google.colab import files\n",
        "import zipfile\n",
        "import gdown\n",
        "import re  # Import the `re` module for performing regular expressions operations, useful for text cleaning and pattern matching.\n",
        "from sklearn.feature_extraction.text import TfidfVectorizer\n",
        "from sklearn.model_selection import train_test_split\n",
        "from sklearn.linear_model import LogisticRegression\n",
        "from sklearn.metrics import accuracy_score, classification_report, confusion_matrix\n",
        "from sklearn.ensemble import RandomForestClassifier\n",
        "import emoji  # Import the `emoji` library to handle emojis in text, including detecting and converting them to text representations.\n",
        "import contractions  # Import the `contractions` library to expand shortened words in text (e.g., \"can't\" to \"cannot\"), improving readability and analysis.\n",
        "import nltk # Import the nltk library\n",
        "from nltk.corpus import stopwords  # Import the `stopwords` list from `nltk`, used to filter out common words (e.g., \"and\", \"the\") that may not add significant value.\n",
        "from nltk.stem import WordNetLemmatizer  # Import the `WordNetLemmatizer` from `nltk` for reducing words to their base or root forms (e.g., \"running\" to \"run\")."
      ],
      "metadata": {
        "id": "JiL1VhGkndhw"
      },
      "execution_count": null,
      "outputs": []
    },
    {
      "cell_type": "markdown",
      "source": [
        "# 3 - Connect to Kaggle\n",
        "Whenever we use a Dataset from Kaggle, we load it directly from kaggle using the Kaggle API.\n",
        "\n",
        "To load any Kaggle dataset, you need to first download Kaggle's beta API, and to accept the kaggle competition rules.\n",
        "\n",
        "Get Kaggle API Credentials:\n",
        "- Go to your Kaggle account settings and scroll to the API section.\n",
        "- Click on Create New API Token. This will download a kaggle.json file containing your Kaggle API credentials.\n",
        "- Then you need to upload the kaggle.json file to collab and run the following commands"
      ],
      "metadata": {
        "id": "-jBZcTmoTmcS"
      }
    },
    {
      "cell_type": "code",
      "source": [
        "# upload your kaggle.json file\n",
        "files.upload()"
      ],
      "metadata": {
        "colab": {
          "base_uri": "https://localhost:8080/",
          "height": 84
        },
        "id": "2cp522dfT-gI",
        "outputId": "ba123b1f-00bc-4a5c-81a3-988e646490ca"
      },
      "execution_count": null,
      "outputs": [
        {
          "output_type": "display_data",
          "data": {
            "text/plain": [
              "<IPython.core.display.HTML object>"
            ],
            "text/html": [
              "\n",
              "     <input type=\"file\" id=\"files-935f4e84-eb17-45d7-8a81-08429f632339\" name=\"files[]\" multiple disabled\n",
              "        style=\"border:none\" />\n",
              "     <output id=\"result-935f4e84-eb17-45d7-8a81-08429f632339\">\n",
              "      Upload widget is only available when the cell has been executed in the\n",
              "      current browser session. Please rerun this cell to enable.\n",
              "      </output>\n",
              "      <script>// Copyright 2017 Google LLC\n",
              "//\n",
              "// Licensed under the Apache License, Version 2.0 (the \"License\");\n",
              "// you may not use this file except in compliance with the License.\n",
              "// You may obtain a copy of the License at\n",
              "//\n",
              "//      http://www.apache.org/licenses/LICENSE-2.0\n",
              "//\n",
              "// Unless required by applicable law or agreed to in writing, software\n",
              "// distributed under the License is distributed on an \"AS IS\" BASIS,\n",
              "// WITHOUT WARRANTIES OR CONDITIONS OF ANY KIND, either express or implied.\n",
              "// See the License for the specific language governing permissions and\n",
              "// limitations under the License.\n",
              "\n",
              "/**\n",
              " * @fileoverview Helpers for google.colab Python module.\n",
              " */\n",
              "(function(scope) {\n",
              "function span(text, styleAttributes = {}) {\n",
              "  const element = document.createElement('span');\n",
              "  element.textContent = text;\n",
              "  for (const key of Object.keys(styleAttributes)) {\n",
              "    element.style[key] = styleAttributes[key];\n",
              "  }\n",
              "  return element;\n",
              "}\n",
              "\n",
              "// Max number of bytes which will be uploaded at a time.\n",
              "const MAX_PAYLOAD_SIZE = 100 * 1024;\n",
              "\n",
              "function _uploadFiles(inputId, outputId) {\n",
              "  const steps = uploadFilesStep(inputId, outputId);\n",
              "  const outputElement = document.getElementById(outputId);\n",
              "  // Cache steps on the outputElement to make it available for the next call\n",
              "  // to uploadFilesContinue from Python.\n",
              "  outputElement.steps = steps;\n",
              "\n",
              "  return _uploadFilesContinue(outputId);\n",
              "}\n",
              "\n",
              "// This is roughly an async generator (not supported in the browser yet),\n",
              "// where there are multiple asynchronous steps and the Python side is going\n",
              "// to poll for completion of each step.\n",
              "// This uses a Promise to block the python side on completion of each step,\n",
              "// then passes the result of the previous step as the input to the next step.\n",
              "function _uploadFilesContinue(outputId) {\n",
              "  const outputElement = document.getElementById(outputId);\n",
              "  const steps = outputElement.steps;\n",
              "\n",
              "  const next = steps.next(outputElement.lastPromiseValue);\n",
              "  return Promise.resolve(next.value.promise).then((value) => {\n",
              "    // Cache the last promise value to make it available to the next\n",
              "    // step of the generator.\n",
              "    outputElement.lastPromiseValue = value;\n",
              "    return next.value.response;\n",
              "  });\n",
              "}\n",
              "\n",
              "/**\n",
              " * Generator function which is called between each async step of the upload\n",
              " * process.\n",
              " * @param {string} inputId Element ID of the input file picker element.\n",
              " * @param {string} outputId Element ID of the output display.\n",
              " * @return {!Iterable<!Object>} Iterable of next steps.\n",
              " */\n",
              "function* uploadFilesStep(inputId, outputId) {\n",
              "  const inputElement = document.getElementById(inputId);\n",
              "  inputElement.disabled = false;\n",
              "\n",
              "  const outputElement = document.getElementById(outputId);\n",
              "  outputElement.innerHTML = '';\n",
              "\n",
              "  const pickedPromise = new Promise((resolve) => {\n",
              "    inputElement.addEventListener('change', (e) => {\n",
              "      resolve(e.target.files);\n",
              "    });\n",
              "  });\n",
              "\n",
              "  const cancel = document.createElement('button');\n",
              "  inputElement.parentElement.appendChild(cancel);\n",
              "  cancel.textContent = 'Cancel upload';\n",
              "  const cancelPromise = new Promise((resolve) => {\n",
              "    cancel.onclick = () => {\n",
              "      resolve(null);\n",
              "    };\n",
              "  });\n",
              "\n",
              "  // Wait for the user to pick the files.\n",
              "  const files = yield {\n",
              "    promise: Promise.race([pickedPromise, cancelPromise]),\n",
              "    response: {\n",
              "      action: 'starting',\n",
              "    }\n",
              "  };\n",
              "\n",
              "  cancel.remove();\n",
              "\n",
              "  // Disable the input element since further picks are not allowed.\n",
              "  inputElement.disabled = true;\n",
              "\n",
              "  if (!files) {\n",
              "    return {\n",
              "      response: {\n",
              "        action: 'complete',\n",
              "      }\n",
              "    };\n",
              "  }\n",
              "\n",
              "  for (const file of files) {\n",
              "    const li = document.createElement('li');\n",
              "    li.append(span(file.name, {fontWeight: 'bold'}));\n",
              "    li.append(span(\n",
              "        `(${file.type || 'n/a'}) - ${file.size} bytes, ` +\n",
              "        `last modified: ${\n",
              "            file.lastModifiedDate ? file.lastModifiedDate.toLocaleDateString() :\n",
              "                                    'n/a'} - `));\n",
              "    const percent = span('0% done');\n",
              "    li.appendChild(percent);\n",
              "\n",
              "    outputElement.appendChild(li);\n",
              "\n",
              "    const fileDataPromise = new Promise((resolve) => {\n",
              "      const reader = new FileReader();\n",
              "      reader.onload = (e) => {\n",
              "        resolve(e.target.result);\n",
              "      };\n",
              "      reader.readAsArrayBuffer(file);\n",
              "    });\n",
              "    // Wait for the data to be ready.\n",
              "    let fileData = yield {\n",
              "      promise: fileDataPromise,\n",
              "      response: {\n",
              "        action: 'continue',\n",
              "      }\n",
              "    };\n",
              "\n",
              "    // Use a chunked sending to avoid message size limits. See b/62115660.\n",
              "    let position = 0;\n",
              "    do {\n",
              "      const length = Math.min(fileData.byteLength - position, MAX_PAYLOAD_SIZE);\n",
              "      const chunk = new Uint8Array(fileData, position, length);\n",
              "      position += length;\n",
              "\n",
              "      const base64 = btoa(String.fromCharCode.apply(null, chunk));\n",
              "      yield {\n",
              "        response: {\n",
              "          action: 'append',\n",
              "          file: file.name,\n",
              "          data: base64,\n",
              "        },\n",
              "      };\n",
              "\n",
              "      let percentDone = fileData.byteLength === 0 ?\n",
              "          100 :\n",
              "          Math.round((position / fileData.byteLength) * 100);\n",
              "      percent.textContent = `${percentDone}% done`;\n",
              "\n",
              "    } while (position < fileData.byteLength);\n",
              "  }\n",
              "\n",
              "  // All done.\n",
              "  yield {\n",
              "    response: {\n",
              "      action: 'complete',\n",
              "    }\n",
              "  };\n",
              "}\n",
              "\n",
              "scope.google = scope.google || {};\n",
              "scope.google.colab = scope.google.colab || {};\n",
              "scope.google.colab._files = {\n",
              "  _uploadFiles,\n",
              "  _uploadFilesContinue,\n",
              "};\n",
              "})(self);\n",
              "</script> "
            ]
          },
          "metadata": {}
        },
        {
          "output_type": "stream",
          "name": "stdout",
          "text": [
            "Saving kaggle.json to kaggle.json\n"
          ]
        },
        {
          "output_type": "execute_result",
          "data": {
            "text/plain": [
              "{'kaggle.json': b'{\"username\":\"amrashrafkandil\",\"key\":\"1d17ebbf21d4cea1c08abf3afbd3fdcd\"}'}"
            ]
          },
          "metadata": {},
          "execution_count": 3
        }
      ]
    },
    {
      "cell_type": "code",
      "source": [
        "# move the file to the required directory\n",
        "!mkdir -p ~/.kaggle\n",
        "!mv kaggle.json ~/.kaggle/\n",
        "\n",
        "# Make sure the kaggle.json file has the correct permissions\n",
        "!chmod 600 ~/.kaggle/kaggle.json"
      ],
      "metadata": {
        "id": "O1RdVaMlTh5O"
      },
      "execution_count": null,
      "outputs": []
    },
    {
      "cell_type": "markdown",
      "source": [
        "# 4 - Dataset\n",
        "\n"
      ],
      "metadata": {
        "id": "d98jVQwfT7E_"
      }
    },
    {
      "cell_type": "markdown",
      "source": [
        "## 4.1 Kaggle Competition Dataset\n",
        "\n",
        "## Competition Overview\n",
        "This competition challenges participants to develop a machine learning model that can accurately detect whether an essay was written by a student or an LLM. The competition dataset comprises a mix of student-written essays and essays generated by a variety of LLMs.\n",
        "\n",
        "## Dataset Link\n",
        "[LLM - Detect AI Generated Text Dataset](https://www.kaggle.com/competitions/llm-detect-ai-generated-text/data)\n",
        "## Dataset Description\n",
        "\n",
        "\n",
        "* All of the essays were written in response to one of **seven essay prompts**.\n",
        "* For each prompt, the subject (student or LLM) is given a list of source text to read and write their response from\n",
        "  - Students were instructed to read one or more source texts and then write a response.\n",
        "  - Participants of the competition should use the prompts and source text (provided in \"train_prompts.csv\") to generate AI generated Essays\n",
        "* The **training set** includes just answers from two prompts, Essays from two of the prompts compose the **training set**, while the answers for the other 5 compose the **hidden test set**.\n",
        "* Nearly all of the training set essays were written by students, with only a few generated essays given as examples.\n",
        "* Participants of the competition are responsible to generate more essays to use as training data.\n",
        "\n",
        "\n",
        "\n",
        "> **Note**: This is a Code Competition. The data in `test_essays.csv` is dummy data to help you author your solutions. When your submission is scored, this example test data will be replaced with the full test set. There are about **9,000 essays** in the test set, both student-written and LLM-generated.\n",
        "\n",
        "\n",
        "\n",
        "\n",
        "## File structure\n",
        "---\n",
        "\n",
        "#### `{test|train}_essays.csv`\n",
        "- `id` - A unique identifier for each essay.\n",
        "- `prompt_id` - Identifies the prompt the essay was written in response to.\n",
        "- `text` - The essay text itself.\n",
        "- `generated` - Whether the essay was written by a student (`0`) or generated by an LLM (`1`). This field is the target and is **not present** in `test_essays.csv`.\n",
        "\n",
        "\n",
        "\n",
        "---\n",
        "\n",
        "\n",
        "\n",
        "#### `train_prompts.csv`\n",
        "- This file is not important for training.\n",
        "- It is provided in the competition to be used for LLM essay generation.\n",
        "\n",
        "Essays were written in response to information in these fields:\n",
        "\n",
        "- `prompt_id` - A unique identifier for each prompt.\n",
        "- `prompt_name` - The title of the prompt.\n",
        "- `instructions` - The instructions given to students.\n",
        "- `source_text` - The text of the article(s) the essays were written in response to, in Markdown format.\n",
        "\n",
        "  - **Format Details**:\n",
        "    - Significant paragraphs are enumerated by a numeral preceding the paragraph on the same line, such as `0 Paragraph one.\\n\\n1 Paragraph two...`\n",
        "    - Essays may reference a paragraph by its numeral.\n",
        "    - Each article is preceded with its title in a heading, formatted as `# Title`.\n",
        "    - When an author is indicated, their name will appear in the title after the word **by**.\n",
        "    - Articles may also include subheadings formatted as `## Subheading`. Not all articles have authors indicated.\n",
        "\n",
        "---\n"
      ],
      "metadata": {
        "id": "rL5gQrq9T69O"
      }
    },
    {
      "cell_type": "markdown",
      "source": [
        "### Download Dataset Folder\n"
      ],
      "metadata": {
        "id": "EpsnX5RwUJH1"
      }
    },
    {
      "cell_type": "markdown",
      "source": [
        "Download the Dataset using the Kaggle API\n"
      ],
      "metadata": {
        "id": "QlZEEpLPW0ek"
      }
    },
    {
      "cell_type": "code",
      "source": [
        "!kaggle competitions download -c llm-detect-ai-generated-text"
      ],
      "metadata": {
        "id": "KTsxoMDlUNJP",
        "colab": {
          "base_uri": "https://localhost:8080/"
        },
        "outputId": "d4f51dee-6b84-4985-da48-de34d5af903c"
      },
      "execution_count": null,
      "outputs": [
        {
          "output_type": "stream",
          "name": "stdout",
          "text": [
            "Downloading llm-detect-ai-generated-text.zip to /content\n",
            "\r  0% 0.00/1.38M [00:00<?, ?B/s]\n",
            "\r100% 1.38M/1.38M [00:00<00:00, 39.8MB/s]\n"
          ]
        }
      ]
    },
    {
      "cell_type": "markdown",
      "source": [
        "The Dataset is downloaded as .zip file, and it needs to be extracted\n"
      ],
      "metadata": {
        "id": "9ffd6bfzW82z"
      }
    },
    {
      "cell_type": "code",
      "source": [
        "with zipfile.ZipFile('llm-detect-ai-generated-text.zip', 'r') as zip_ref:\n",
        "    zip_ref.extractall('llm-detect-ai-generated-text')"
      ],
      "metadata": {
        "id": "gWfa5IopUEmp"
      },
      "execution_count": null,
      "outputs": []
    },
    {
      "cell_type": "markdown",
      "source": [
        "### Load Training Data"
      ],
      "metadata": {
        "id": "igT34kvDPQYH"
      }
    },
    {
      "cell_type": "code",
      "source": [
        "BASE_PATH = '/content'"
      ],
      "metadata": {
        "id": "JYvx0144tKzy"
      },
      "execution_count": null,
      "outputs": []
    },
    {
      "cell_type": "code",
      "source": [
        "train_data = pd.read_csv(f'{BASE_PATH}/llm-detect-ai-generated-text/train_essays.csv')\n",
        "train_prompts = pd.read_csv(f'{BASE_PATH}/llm-detect-ai-generated-text/train_prompts.csv')"
      ],
      "metadata": {
        "id": "1FKfEYlVGes7"
      },
      "execution_count": null,
      "outputs": []
    },
    {
      "cell_type": "markdown",
      "source": [
        "### Initial EDA"
      ],
      "metadata": {
        "id": "QmDXPd4vXhD4"
      }
    },
    {
      "cell_type": "code",
      "source": [
        "train_data.head()"
      ],
      "metadata": {
        "id": "4Qd99VHlGyio",
        "colab": {
          "base_uri": "https://localhost:8080/",
          "height": 201
        },
        "outputId": "c6e829a6-4dbf-48ed-bbe3-450e6d45eef6"
      },
      "execution_count": null,
      "outputs": [
        {
          "output_type": "execute_result",
          "data": {
            "text/plain": [
              "         id  prompt_id                                               text  \\\n",
              "0  0059830c          0  Cars. Cars have been around since they became ...   \n",
              "1  005db917          0  Transportation is a large necessity in most co...   \n",
              "2  008f63e3          0  \"America's love affair with it's vehicles seem...   \n",
              "3  00940276          0  How often do you ride in a car? Do you drive a...   \n",
              "4  00c39458          0  Cars are a wonderful thing. They are perhaps o...   \n",
              "\n",
              "   generated  \n",
              "0          0  \n",
              "1          0  \n",
              "2          0  \n",
              "3          0  \n",
              "4          0  "
            ],
            "text/html": [
              "\n",
              "  <div id=\"df-a8f0dece-61d3-4cea-bf5e-756c3c881e6d\" class=\"colab-df-container\">\n",
              "    <div>\n",
              "<style scoped>\n",
              "    .dataframe tbody tr th:only-of-type {\n",
              "        vertical-align: middle;\n",
              "    }\n",
              "\n",
              "    .dataframe tbody tr th {\n",
              "        vertical-align: top;\n",
              "    }\n",
              "\n",
              "    .dataframe thead th {\n",
              "        text-align: right;\n",
              "    }\n",
              "</style>\n",
              "<table border=\"1\" class=\"dataframe\">\n",
              "  <thead>\n",
              "    <tr style=\"text-align: right;\">\n",
              "      <th></th>\n",
              "      <th>id</th>\n",
              "      <th>prompt_id</th>\n",
              "      <th>text</th>\n",
              "      <th>generated</th>\n",
              "    </tr>\n",
              "  </thead>\n",
              "  <tbody>\n",
              "    <tr>\n",
              "      <th>0</th>\n",
              "      <td>0059830c</td>\n",
              "      <td>0</td>\n",
              "      <td>Cars. Cars have been around since they became ...</td>\n",
              "      <td>0</td>\n",
              "    </tr>\n",
              "    <tr>\n",
              "      <th>1</th>\n",
              "      <td>005db917</td>\n",
              "      <td>0</td>\n",
              "      <td>Transportation is a large necessity in most co...</td>\n",
              "      <td>0</td>\n",
              "    </tr>\n",
              "    <tr>\n",
              "      <th>2</th>\n",
              "      <td>008f63e3</td>\n",
              "      <td>0</td>\n",
              "      <td>\"America's love affair with it's vehicles seem...</td>\n",
              "      <td>0</td>\n",
              "    </tr>\n",
              "    <tr>\n",
              "      <th>3</th>\n",
              "      <td>00940276</td>\n",
              "      <td>0</td>\n",
              "      <td>How often do you ride in a car? Do you drive a...</td>\n",
              "      <td>0</td>\n",
              "    </tr>\n",
              "    <tr>\n",
              "      <th>4</th>\n",
              "      <td>00c39458</td>\n",
              "      <td>0</td>\n",
              "      <td>Cars are a wonderful thing. They are perhaps o...</td>\n",
              "      <td>0</td>\n",
              "    </tr>\n",
              "  </tbody>\n",
              "</table>\n",
              "</div>\n",
              "    <div class=\"colab-df-buttons\">\n",
              "\n",
              "  <div class=\"colab-df-container\">\n",
              "    <button class=\"colab-df-convert\" onclick=\"convertToInteractive('df-a8f0dece-61d3-4cea-bf5e-756c3c881e6d')\"\n",
              "            title=\"Convert this dataframe to an interactive table.\"\n",
              "            style=\"display:none;\">\n",
              "\n",
              "  <svg xmlns=\"http://www.w3.org/2000/svg\" height=\"24px\" viewBox=\"0 -960 960 960\">\n",
              "    <path d=\"M120-120v-720h720v720H120Zm60-500h600v-160H180v160Zm220 220h160v-160H400v160Zm0 220h160v-160H400v160ZM180-400h160v-160H180v160Zm440 0h160v-160H620v160ZM180-180h160v-160H180v160Zm440 0h160v-160H620v160Z\"/>\n",
              "  </svg>\n",
              "    </button>\n",
              "\n",
              "  <style>\n",
              "    .colab-df-container {\n",
              "      display:flex;\n",
              "      gap: 12px;\n",
              "    }\n",
              "\n",
              "    .colab-df-convert {\n",
              "      background-color: #E8F0FE;\n",
              "      border: none;\n",
              "      border-radius: 50%;\n",
              "      cursor: pointer;\n",
              "      display: none;\n",
              "      fill: #1967D2;\n",
              "      height: 32px;\n",
              "      padding: 0 0 0 0;\n",
              "      width: 32px;\n",
              "    }\n",
              "\n",
              "    .colab-df-convert:hover {\n",
              "      background-color: #E2EBFA;\n",
              "      box-shadow: 0px 1px 2px rgba(60, 64, 67, 0.3), 0px 1px 3px 1px rgba(60, 64, 67, 0.15);\n",
              "      fill: #174EA6;\n",
              "    }\n",
              "\n",
              "    .colab-df-buttons div {\n",
              "      margin-bottom: 4px;\n",
              "    }\n",
              "\n",
              "    [theme=dark] .colab-df-convert {\n",
              "      background-color: #3B4455;\n",
              "      fill: #D2E3FC;\n",
              "    }\n",
              "\n",
              "    [theme=dark] .colab-df-convert:hover {\n",
              "      background-color: #434B5C;\n",
              "      box-shadow: 0px 1px 3px 1px rgba(0, 0, 0, 0.15);\n",
              "      filter: drop-shadow(0px 1px 2px rgba(0, 0, 0, 0.3));\n",
              "      fill: #FFFFFF;\n",
              "    }\n",
              "  </style>\n",
              "\n",
              "    <script>\n",
              "      const buttonEl =\n",
              "        document.querySelector('#df-a8f0dece-61d3-4cea-bf5e-756c3c881e6d button.colab-df-convert');\n",
              "      buttonEl.style.display =\n",
              "        google.colab.kernel.accessAllowed ? 'block' : 'none';\n",
              "\n",
              "      async function convertToInteractive(key) {\n",
              "        const element = document.querySelector('#df-a8f0dece-61d3-4cea-bf5e-756c3c881e6d');\n",
              "        const dataTable =\n",
              "          await google.colab.kernel.invokeFunction('convertToInteractive',\n",
              "                                                    [key], {});\n",
              "        if (!dataTable) return;\n",
              "\n",
              "        const docLinkHtml = 'Like what you see? Visit the ' +\n",
              "          '<a target=\"_blank\" href=https://colab.research.google.com/notebooks/data_table.ipynb>data table notebook</a>'\n",
              "          + ' to learn more about interactive tables.';\n",
              "        element.innerHTML = '';\n",
              "        dataTable['output_type'] = 'display_data';\n",
              "        await google.colab.output.renderOutput(dataTable, element);\n",
              "        const docLink = document.createElement('div');\n",
              "        docLink.innerHTML = docLinkHtml;\n",
              "        element.appendChild(docLink);\n",
              "      }\n",
              "    </script>\n",
              "  </div>\n",
              "\n",
              "\n",
              "<div id=\"df-93469ba6-dbff-43c9-87fb-71d9e35b6712\">\n",
              "  <button class=\"colab-df-quickchart\" onclick=\"quickchart('df-93469ba6-dbff-43c9-87fb-71d9e35b6712')\"\n",
              "            title=\"Suggest charts\"\n",
              "            style=\"display:none;\">\n",
              "\n",
              "<svg xmlns=\"http://www.w3.org/2000/svg\" height=\"24px\"viewBox=\"0 0 24 24\"\n",
              "     width=\"24px\">\n",
              "    <g>\n",
              "        <path d=\"M19 3H5c-1.1 0-2 .9-2 2v14c0 1.1.9 2 2 2h14c1.1 0 2-.9 2-2V5c0-1.1-.9-2-2-2zM9 17H7v-7h2v7zm4 0h-2V7h2v10zm4 0h-2v-4h2v4z\"/>\n",
              "    </g>\n",
              "</svg>\n",
              "  </button>\n",
              "\n",
              "<style>\n",
              "  .colab-df-quickchart {\n",
              "      --bg-color: #E8F0FE;\n",
              "      --fill-color: #1967D2;\n",
              "      --hover-bg-color: #E2EBFA;\n",
              "      --hover-fill-color: #174EA6;\n",
              "      --disabled-fill-color: #AAA;\n",
              "      --disabled-bg-color: #DDD;\n",
              "  }\n",
              "\n",
              "  [theme=dark] .colab-df-quickchart {\n",
              "      --bg-color: #3B4455;\n",
              "      --fill-color: #D2E3FC;\n",
              "      --hover-bg-color: #434B5C;\n",
              "      --hover-fill-color: #FFFFFF;\n",
              "      --disabled-bg-color: #3B4455;\n",
              "      --disabled-fill-color: #666;\n",
              "  }\n",
              "\n",
              "  .colab-df-quickchart {\n",
              "    background-color: var(--bg-color);\n",
              "    border: none;\n",
              "    border-radius: 50%;\n",
              "    cursor: pointer;\n",
              "    display: none;\n",
              "    fill: var(--fill-color);\n",
              "    height: 32px;\n",
              "    padding: 0;\n",
              "    width: 32px;\n",
              "  }\n",
              "\n",
              "  .colab-df-quickchart:hover {\n",
              "    background-color: var(--hover-bg-color);\n",
              "    box-shadow: 0 1px 2px rgba(60, 64, 67, 0.3), 0 1px 3px 1px rgba(60, 64, 67, 0.15);\n",
              "    fill: var(--button-hover-fill-color);\n",
              "  }\n",
              "\n",
              "  .colab-df-quickchart-complete:disabled,\n",
              "  .colab-df-quickchart-complete:disabled:hover {\n",
              "    background-color: var(--disabled-bg-color);\n",
              "    fill: var(--disabled-fill-color);\n",
              "    box-shadow: none;\n",
              "  }\n",
              "\n",
              "  .colab-df-spinner {\n",
              "    border: 2px solid var(--fill-color);\n",
              "    border-color: transparent;\n",
              "    border-bottom-color: var(--fill-color);\n",
              "    animation:\n",
              "      spin 1s steps(1) infinite;\n",
              "  }\n",
              "\n",
              "  @keyframes spin {\n",
              "    0% {\n",
              "      border-color: transparent;\n",
              "      border-bottom-color: var(--fill-color);\n",
              "      border-left-color: var(--fill-color);\n",
              "    }\n",
              "    20% {\n",
              "      border-color: transparent;\n",
              "      border-left-color: var(--fill-color);\n",
              "      border-top-color: var(--fill-color);\n",
              "    }\n",
              "    30% {\n",
              "      border-color: transparent;\n",
              "      border-left-color: var(--fill-color);\n",
              "      border-top-color: var(--fill-color);\n",
              "      border-right-color: var(--fill-color);\n",
              "    }\n",
              "    40% {\n",
              "      border-color: transparent;\n",
              "      border-right-color: var(--fill-color);\n",
              "      border-top-color: var(--fill-color);\n",
              "    }\n",
              "    60% {\n",
              "      border-color: transparent;\n",
              "      border-right-color: var(--fill-color);\n",
              "    }\n",
              "    80% {\n",
              "      border-color: transparent;\n",
              "      border-right-color: var(--fill-color);\n",
              "      border-bottom-color: var(--fill-color);\n",
              "    }\n",
              "    90% {\n",
              "      border-color: transparent;\n",
              "      border-bottom-color: var(--fill-color);\n",
              "    }\n",
              "  }\n",
              "</style>\n",
              "\n",
              "  <script>\n",
              "    async function quickchart(key) {\n",
              "      const quickchartButtonEl =\n",
              "        document.querySelector('#' + key + ' button');\n",
              "      quickchartButtonEl.disabled = true;  // To prevent multiple clicks.\n",
              "      quickchartButtonEl.classList.add('colab-df-spinner');\n",
              "      try {\n",
              "        const charts = await google.colab.kernel.invokeFunction(\n",
              "            'suggestCharts', [key], {});\n",
              "      } catch (error) {\n",
              "        console.error('Error during call to suggestCharts:', error);\n",
              "      }\n",
              "      quickchartButtonEl.classList.remove('colab-df-spinner');\n",
              "      quickchartButtonEl.classList.add('colab-df-quickchart-complete');\n",
              "    }\n",
              "    (() => {\n",
              "      let quickchartButtonEl =\n",
              "        document.querySelector('#df-93469ba6-dbff-43c9-87fb-71d9e35b6712 button');\n",
              "      quickchartButtonEl.style.display =\n",
              "        google.colab.kernel.accessAllowed ? 'block' : 'none';\n",
              "    })();\n",
              "  </script>\n",
              "</div>\n",
              "\n",
              "    </div>\n",
              "  </div>\n"
            ],
            "application/vnd.google.colaboratory.intrinsic+json": {
              "type": "dataframe",
              "variable_name": "train_data",
              "summary": "{\n  \"name\": \"train_data\",\n  \"rows\": 1378,\n  \"fields\": [\n    {\n      \"column\": \"id\",\n      \"properties\": {\n        \"dtype\": \"string\",\n        \"num_unique_values\": 1378,\n        \"samples\": [\n          \"70d7c567\",\n          \"81977e6c\",\n          \"e43869b8\"\n        ],\n        \"semantic_type\": \"\",\n        \"description\": \"\"\n      }\n    },\n    {\n      \"column\": \"prompt_id\",\n      \"properties\": {\n        \"dtype\": \"number\",\n        \"std\": 0,\n        \"min\": 0,\n        \"max\": 1,\n        \"num_unique_values\": 2,\n        \"samples\": [\n          1,\n          0\n        ],\n        \"semantic_type\": \"\",\n        \"description\": \"\"\n      }\n    },\n    {\n      \"column\": \"text\",\n      \"properties\": {\n        \"dtype\": \"string\",\n        \"num_unique_values\": 1378,\n        \"samples\": [\n          \"Can you imagine living in a place where there is no driving? It is an amazing thing to think if every person doesn't drive in one big city that it saves so much pollution going in to the air. Another thing to think about is if everyone in a city didn't drive and walked everywhere, more people would stay healthier by staying in shape. Some people think that owning a car is more stressful than just walking everywhere. If you don't own a car you don't have to pay for insurance, don't have to pay for gas, and don't have to pay for repairs when something goes wrong in a vehicle. To me it sounds like there is a lot of advantages in limiting car use.\\n\\nOne solid reason why not using cars as much is the pollution going in the air. In Paris, France motorists with even numbered license plates were ordered to leave their cars at their house or else they would be fined. The next day odd numbered license plates motorists had to leave their vehicles at home. It was a hardship at first to get people to follow these new rules, but after about five days everything started to cool down. The pollution had dropped 60 percent in Paris which is exactly what the city was looking for. Limiting the car usage didn't just save pollution from going in the air, but also there wasn't as much traffic as there usually was. It also made Paris a safer place to be outside and not damage the citizens lungs. The capital city of France also made transportation free MondayFriday to help the cause. Soon enough people that had both license plates could drive on the same day.\\n\\nIn Bogota, Colombia they do a car free day that is becoming popular in that part of the world. It is awesome to think there are 7 million people in that city and none of them are using a car. People that violated this goal on this day were charged a 25 fine. People from other countries came to see how this day worked and they loved it. The mayor of Asuncion, Paraguay said \\\"These people are generating a revolutionary change, and this is crossing borders.\\\" You can just imagine all the benefits of everyone not using a car in a city for a whole day. Restaurants and parks would be visited and used more and everyone would be getting more exercise. All in all this idea was genius.\\n\\nAs you can see limiting car usage can help out the area big time that it is taking place. It is better breathing air, businesses like restaurants and parks would be used more and grow steadily, and the city would be taken care of better.\",\n          \"Limiting car usage could have many advantages on our planet. Many cities, such as Vauban in Germany, have given up on using cars to help the world around them. \\\"vaughn's streets are completely carfree,except the main thoroughfare, where the tram to downtown Freiburg runs, and a few streets on one edge of the community.\\\" There is a movement going on called, \\\"smart planning\\\" and Vauban is just one example of a growing trend in Europe of limiting auto use. The article says that passenger cars are responsible for twelve percent of greenhouse gas emissions in Europe. It seems that the people in Europe are realizing that so much car usage is harming their environment, and they are trying to set a trend for other countries like the United States to follow to limit using cars.\\n\\nHow much people use their cars is very important. Polluted air is a very widespread problem in many regions of the world. Paris had days of nearrecord pollution, and decided to enforce a partial driving ban to try to help clear the air of the city. The article says that almost 4,000 drivers were fined, and twentyseven had their cars impounded for their reaction to the fine. \\\"Congestion was down 60 percent in the capital of France, after five days of intensifying smog.\\\" The driving ban helped clear the smog, because it reduced car emissions. Paris has more smog than many other European capitals, which is why reducing how much citizens drive their cars is a good idea.\\n\\nSome cities have days that are completely car free. Bogota, Colombia is one of them. They have been having a Day Without Cars for three straight years. Cars are banned for the day and buses and taxis are the only exception. The city holds about 7 million people, and had a large turnout. \\\"It's a good opportunity to take away stress and lower air pollution,\\\" said businessman Carlos Arturo Plaza. The mayor of Asuncion, Paraguay even said that, \\\"These people are generating a revolutionary change, and this is crossing borders.\\\" The Day Without Cars has even helped stores and sports center come up throughout the city. Instead of shopping centers along a highway, those stores are now in the city and easy to get to without having to use a car.\\n\\nResearchers have been studying America's ways of car usage and driving. America is home to the first cars like the Model T, or \\\"Mustang Sally.\\\" Vehichles have always been a huge part of culture, but it seems now that that might not be the case anymore. \\\"As of April 2013, the number of miles driven per person was nearly 9 percent below the peak and equal to where the country was in January 1995.\\\" Researchers are actually hoping that the pattern continues because it will have beneficial implications for carbon emissions on the environment. Transportation is the second largest source, behind power plants, of emissions. Many changes have now happened in America, which are making using cars not as important. \\\"With all these changes, people who stopped car commuting as a result of the recession may find less reason to resume the habit..\\\" The article says. If we could slow down the usage of cars and emission, maybe we could help the planet become a better place.\\n\\nSince the percentage of car usage has gone down in America, so has the percentage of getting a license. There has been a large drop in 1639 year olds getting a license, Mr. Sivak's research has found. Older people are also likely to retain their licenses as they age. Mr. Sivak and another man both have children of about the same age, 19 and 21, and live in busy cities where a car could be useful. Neither one of them has their licenses, even though they are interested, but they don't really see the need for one when they can use public transportation or carpool with their friends. The article says that a study last year has also found that driving by young people decreased 23 percent between 2001 and 2009. Whether or not this changes as these young people grow older, these decreases in driving are proving that cars might just not be as important as they used to be.\\n\\nOur planet is just continuing to get worse from emissions from cars. Some countries are starting to realize this and are working hard to limit car usage and have citizens rely just on public transportation, walking, or riding a bike. Bill Ford proposed partnering with the telecommunications industry to create cities in which, \\\"pedestrian, bicycle, private cars, commercial, and public transportation traffic are woven into a connected network to save time, conserve resources, lower emissions, and improve safety.\\\" Citizens all over the world can work together to reduce car usage and better improve our planet.\"\n        ],\n        \"semantic_type\": \"\",\n        \"description\": \"\"\n      }\n    },\n    {\n      \"column\": \"generated\",\n      \"properties\": {\n        \"dtype\": \"number\",\n        \"std\": 0,\n        \"min\": 0,\n        \"max\": 1,\n        \"num_unique_values\": 2,\n        \"samples\": [\n          1,\n          0\n        ],\n        \"semantic_type\": \"\",\n        \"description\": \"\"\n      }\n    }\n  ]\n}"
            }
          },
          "metadata": {},
          "execution_count": 9
        }
      ]
    },
    {
      "cell_type": "code",
      "source": [
        "train_prompts.head()"
      ],
      "metadata": {
        "id": "g4klx7GEmXHE",
        "colab": {
          "base_uri": "https://localhost:8080/",
          "height": 109
        },
        "outputId": "596bc5cf-625a-4bf6-8825-713e81def9fe"
      },
      "execution_count": null,
      "outputs": [
        {
          "output_type": "execute_result",
          "data": {
            "text/plain": [
              "   prompt_id                       prompt_name  \\\n",
              "0          0                   Car-free cities   \n",
              "1          1  Does the electoral college work?   \n",
              "\n",
              "                                        instructions  \\\n",
              "0  Write an explanatory essay to inform fellow ci...   \n",
              "1  Write a letter to your state senator in which ...   \n",
              "\n",
              "                                         source_text  \n",
              "0  # In German Suburb, Life Goes On Without Cars ...  \n",
              "1  # What Is the Electoral College? by the Office...  "
            ],
            "text/html": [
              "\n",
              "  <div id=\"df-ccd7bb39-9fe8-403f-98f5-eb0f9103e9f6\" class=\"colab-df-container\">\n",
              "    <div>\n",
              "<style scoped>\n",
              "    .dataframe tbody tr th:only-of-type {\n",
              "        vertical-align: middle;\n",
              "    }\n",
              "\n",
              "    .dataframe tbody tr th {\n",
              "        vertical-align: top;\n",
              "    }\n",
              "\n",
              "    .dataframe thead th {\n",
              "        text-align: right;\n",
              "    }\n",
              "</style>\n",
              "<table border=\"1\" class=\"dataframe\">\n",
              "  <thead>\n",
              "    <tr style=\"text-align: right;\">\n",
              "      <th></th>\n",
              "      <th>prompt_id</th>\n",
              "      <th>prompt_name</th>\n",
              "      <th>instructions</th>\n",
              "      <th>source_text</th>\n",
              "    </tr>\n",
              "  </thead>\n",
              "  <tbody>\n",
              "    <tr>\n",
              "      <th>0</th>\n",
              "      <td>0</td>\n",
              "      <td>Car-free cities</td>\n",
              "      <td>Write an explanatory essay to inform fellow ci...</td>\n",
              "      <td># In German Suburb, Life Goes On Without Cars ...</td>\n",
              "    </tr>\n",
              "    <tr>\n",
              "      <th>1</th>\n",
              "      <td>1</td>\n",
              "      <td>Does the electoral college work?</td>\n",
              "      <td>Write a letter to your state senator in which ...</td>\n",
              "      <td># What Is the Electoral College? by the Office...</td>\n",
              "    </tr>\n",
              "  </tbody>\n",
              "</table>\n",
              "</div>\n",
              "    <div class=\"colab-df-buttons\">\n",
              "\n",
              "  <div class=\"colab-df-container\">\n",
              "    <button class=\"colab-df-convert\" onclick=\"convertToInteractive('df-ccd7bb39-9fe8-403f-98f5-eb0f9103e9f6')\"\n",
              "            title=\"Convert this dataframe to an interactive table.\"\n",
              "            style=\"display:none;\">\n",
              "\n",
              "  <svg xmlns=\"http://www.w3.org/2000/svg\" height=\"24px\" viewBox=\"0 -960 960 960\">\n",
              "    <path d=\"M120-120v-720h720v720H120Zm60-500h600v-160H180v160Zm220 220h160v-160H400v160Zm0 220h160v-160H400v160ZM180-400h160v-160H180v160Zm440 0h160v-160H620v160ZM180-180h160v-160H180v160Zm440 0h160v-160H620v160Z\"/>\n",
              "  </svg>\n",
              "    </button>\n",
              "\n",
              "  <style>\n",
              "    .colab-df-container {\n",
              "      display:flex;\n",
              "      gap: 12px;\n",
              "    }\n",
              "\n",
              "    .colab-df-convert {\n",
              "      background-color: #E8F0FE;\n",
              "      border: none;\n",
              "      border-radius: 50%;\n",
              "      cursor: pointer;\n",
              "      display: none;\n",
              "      fill: #1967D2;\n",
              "      height: 32px;\n",
              "      padding: 0 0 0 0;\n",
              "      width: 32px;\n",
              "    }\n",
              "\n",
              "    .colab-df-convert:hover {\n",
              "      background-color: #E2EBFA;\n",
              "      box-shadow: 0px 1px 2px rgba(60, 64, 67, 0.3), 0px 1px 3px 1px rgba(60, 64, 67, 0.15);\n",
              "      fill: #174EA6;\n",
              "    }\n",
              "\n",
              "    .colab-df-buttons div {\n",
              "      margin-bottom: 4px;\n",
              "    }\n",
              "\n",
              "    [theme=dark] .colab-df-convert {\n",
              "      background-color: #3B4455;\n",
              "      fill: #D2E3FC;\n",
              "    }\n",
              "\n",
              "    [theme=dark] .colab-df-convert:hover {\n",
              "      background-color: #434B5C;\n",
              "      box-shadow: 0px 1px 3px 1px rgba(0, 0, 0, 0.15);\n",
              "      filter: drop-shadow(0px 1px 2px rgba(0, 0, 0, 0.3));\n",
              "      fill: #FFFFFF;\n",
              "    }\n",
              "  </style>\n",
              "\n",
              "    <script>\n",
              "      const buttonEl =\n",
              "        document.querySelector('#df-ccd7bb39-9fe8-403f-98f5-eb0f9103e9f6 button.colab-df-convert');\n",
              "      buttonEl.style.display =\n",
              "        google.colab.kernel.accessAllowed ? 'block' : 'none';\n",
              "\n",
              "      async function convertToInteractive(key) {\n",
              "        const element = document.querySelector('#df-ccd7bb39-9fe8-403f-98f5-eb0f9103e9f6');\n",
              "        const dataTable =\n",
              "          await google.colab.kernel.invokeFunction('convertToInteractive',\n",
              "                                                    [key], {});\n",
              "        if (!dataTable) return;\n",
              "\n",
              "        const docLinkHtml = 'Like what you see? Visit the ' +\n",
              "          '<a target=\"_blank\" href=https://colab.research.google.com/notebooks/data_table.ipynb>data table notebook</a>'\n",
              "          + ' to learn more about interactive tables.';\n",
              "        element.innerHTML = '';\n",
              "        dataTable['output_type'] = 'display_data';\n",
              "        await google.colab.output.renderOutput(dataTable, element);\n",
              "        const docLink = document.createElement('div');\n",
              "        docLink.innerHTML = docLinkHtml;\n",
              "        element.appendChild(docLink);\n",
              "      }\n",
              "    </script>\n",
              "  </div>\n",
              "\n",
              "\n",
              "<div id=\"df-1d23dad8-2133-4fbb-8785-f6420444ffba\">\n",
              "  <button class=\"colab-df-quickchart\" onclick=\"quickchart('df-1d23dad8-2133-4fbb-8785-f6420444ffba')\"\n",
              "            title=\"Suggest charts\"\n",
              "            style=\"display:none;\">\n",
              "\n",
              "<svg xmlns=\"http://www.w3.org/2000/svg\" height=\"24px\"viewBox=\"0 0 24 24\"\n",
              "     width=\"24px\">\n",
              "    <g>\n",
              "        <path d=\"M19 3H5c-1.1 0-2 .9-2 2v14c0 1.1.9 2 2 2h14c1.1 0 2-.9 2-2V5c0-1.1-.9-2-2-2zM9 17H7v-7h2v7zm4 0h-2V7h2v10zm4 0h-2v-4h2v4z\"/>\n",
              "    </g>\n",
              "</svg>\n",
              "  </button>\n",
              "\n",
              "<style>\n",
              "  .colab-df-quickchart {\n",
              "      --bg-color: #E8F0FE;\n",
              "      --fill-color: #1967D2;\n",
              "      --hover-bg-color: #E2EBFA;\n",
              "      --hover-fill-color: #174EA6;\n",
              "      --disabled-fill-color: #AAA;\n",
              "      --disabled-bg-color: #DDD;\n",
              "  }\n",
              "\n",
              "  [theme=dark] .colab-df-quickchart {\n",
              "      --bg-color: #3B4455;\n",
              "      --fill-color: #D2E3FC;\n",
              "      --hover-bg-color: #434B5C;\n",
              "      --hover-fill-color: #FFFFFF;\n",
              "      --disabled-bg-color: #3B4455;\n",
              "      --disabled-fill-color: #666;\n",
              "  }\n",
              "\n",
              "  .colab-df-quickchart {\n",
              "    background-color: var(--bg-color);\n",
              "    border: none;\n",
              "    border-radius: 50%;\n",
              "    cursor: pointer;\n",
              "    display: none;\n",
              "    fill: var(--fill-color);\n",
              "    height: 32px;\n",
              "    padding: 0;\n",
              "    width: 32px;\n",
              "  }\n",
              "\n",
              "  .colab-df-quickchart:hover {\n",
              "    background-color: var(--hover-bg-color);\n",
              "    box-shadow: 0 1px 2px rgba(60, 64, 67, 0.3), 0 1px 3px 1px rgba(60, 64, 67, 0.15);\n",
              "    fill: var(--button-hover-fill-color);\n",
              "  }\n",
              "\n",
              "  .colab-df-quickchart-complete:disabled,\n",
              "  .colab-df-quickchart-complete:disabled:hover {\n",
              "    background-color: var(--disabled-bg-color);\n",
              "    fill: var(--disabled-fill-color);\n",
              "    box-shadow: none;\n",
              "  }\n",
              "\n",
              "  .colab-df-spinner {\n",
              "    border: 2px solid var(--fill-color);\n",
              "    border-color: transparent;\n",
              "    border-bottom-color: var(--fill-color);\n",
              "    animation:\n",
              "      spin 1s steps(1) infinite;\n",
              "  }\n",
              "\n",
              "  @keyframes spin {\n",
              "    0% {\n",
              "      border-color: transparent;\n",
              "      border-bottom-color: var(--fill-color);\n",
              "      border-left-color: var(--fill-color);\n",
              "    }\n",
              "    20% {\n",
              "      border-color: transparent;\n",
              "      border-left-color: var(--fill-color);\n",
              "      border-top-color: var(--fill-color);\n",
              "    }\n",
              "    30% {\n",
              "      border-color: transparent;\n",
              "      border-left-color: var(--fill-color);\n",
              "      border-top-color: var(--fill-color);\n",
              "      border-right-color: var(--fill-color);\n",
              "    }\n",
              "    40% {\n",
              "      border-color: transparent;\n",
              "      border-right-color: var(--fill-color);\n",
              "      border-top-color: var(--fill-color);\n",
              "    }\n",
              "    60% {\n",
              "      border-color: transparent;\n",
              "      border-right-color: var(--fill-color);\n",
              "    }\n",
              "    80% {\n",
              "      border-color: transparent;\n",
              "      border-right-color: var(--fill-color);\n",
              "      border-bottom-color: var(--fill-color);\n",
              "    }\n",
              "    90% {\n",
              "      border-color: transparent;\n",
              "      border-bottom-color: var(--fill-color);\n",
              "    }\n",
              "  }\n",
              "</style>\n",
              "\n",
              "  <script>\n",
              "    async function quickchart(key) {\n",
              "      const quickchartButtonEl =\n",
              "        document.querySelector('#' + key + ' button');\n",
              "      quickchartButtonEl.disabled = true;  // To prevent multiple clicks.\n",
              "      quickchartButtonEl.classList.add('colab-df-spinner');\n",
              "      try {\n",
              "        const charts = await google.colab.kernel.invokeFunction(\n",
              "            'suggestCharts', [key], {});\n",
              "      } catch (error) {\n",
              "        console.error('Error during call to suggestCharts:', error);\n",
              "      }\n",
              "      quickchartButtonEl.classList.remove('colab-df-spinner');\n",
              "      quickchartButtonEl.classList.add('colab-df-quickchart-complete');\n",
              "    }\n",
              "    (() => {\n",
              "      let quickchartButtonEl =\n",
              "        document.querySelector('#df-1d23dad8-2133-4fbb-8785-f6420444ffba button');\n",
              "      quickchartButtonEl.style.display =\n",
              "        google.colab.kernel.accessAllowed ? 'block' : 'none';\n",
              "    })();\n",
              "  </script>\n",
              "</div>\n",
              "\n",
              "    </div>\n",
              "  </div>\n"
            ],
            "application/vnd.google.colaboratory.intrinsic+json": {
              "type": "dataframe",
              "variable_name": "train_prompts",
              "summary": "{\n  \"name\": \"train_prompts\",\n  \"rows\": 2,\n  \"fields\": [\n    {\n      \"column\": \"prompt_id\",\n      \"properties\": {\n        \"dtype\": \"number\",\n        \"std\": 0,\n        \"min\": 0,\n        \"max\": 1,\n        \"num_unique_values\": 2,\n        \"samples\": [\n          1,\n          0\n        ],\n        \"semantic_type\": \"\",\n        \"description\": \"\"\n      }\n    },\n    {\n      \"column\": \"prompt_name\",\n      \"properties\": {\n        \"dtype\": \"string\",\n        \"num_unique_values\": 2,\n        \"samples\": [\n          \"Does the electoral college work?\",\n          \"Car-free cities\"\n        ],\n        \"semantic_type\": \"\",\n        \"description\": \"\"\n      }\n    },\n    {\n      \"column\": \"instructions\",\n      \"properties\": {\n        \"dtype\": \"string\",\n        \"num_unique_values\": 2,\n        \"samples\": [\n          \"Write a letter to your state senator in which you argue in favor of keeping the Electoral College or changing to election by popular vote for the president of the United States. Use the information from the texts in your essay. Manage your time carefully so that you can read the passages; plan your response; write your response; and revise and edit your response. Be sure to include a claim; address counterclaims; use evidence from multiple sources; and avoid overly relying on one source. Your response should be in the form of a multiparagraph essay. Write your response in the space provided.\",\n          \"Write an explanatory essay to inform fellow citizens about the advantages of limiting car usage. Your essay must be based on ideas and information that can be found in the passage set. Manage your time carefully so that you can read the passages; plan your response; write your response; and revise and edit your response. Be sure to use evidence from multiple sources; and avoid overly relying on one source. Your response should be in the form of a multiparagraph essay. Write your essay in the space provided.\"\n        ],\n        \"semantic_type\": \"\",\n        \"description\": \"\"\n      }\n    },\n    {\n      \"column\": \"source_text\",\n      \"properties\": {\n        \"dtype\": \"string\",\n        \"num_unique_values\": 2,\n        \"samples\": [\n          \"# What Is the Electoral College? by the Office of the Federal Register\\n\\n1 The Electoral College is a process, not a place. The founding fathers established it in the Constitution as a compromise between election of the President by a vote in Congress and election of the President by a popular vote of qualified citizens.\\n\\n2 The Electoral College process consists of the selection of the electors, the meeting of the electors where they vote for President and Vice President, and the counting of the electoral votes by Congress.\\n\\n3 The Electoral College consists of 538 electors. A majority of 270 electoral votes is required to elect the President. Your state\\u2019s entitled allotment of electors equals the number of members in its Congressional delegation: one for each member in the House of Representatives plus two for your Senators. . . .\\n\\n4 Under the 23rd Amendment of the Constitution, the District of Columbia is allocated 3 electors and treated like a state for purposes of the Electoral College. For this reason, in the following discussion, the word \\u201cstate\\u201d also refers to the District of Columbia.\\n\\n5 Each candidate running for President in your state has his or her own group of electors. The electors are generally chosen by the candidate\\u2019s political party, but state laws vary on how the electors are selected and what their responsibilities are. . . .\\n\\n6 The presidential election is held every four years on the Tuesday after the first Monday in November. You help choose your state\\u2019s electors when you vote for President because when you vote for your candidate you are actually voting for your candidate\\u2019s electors.\\n\\n7 Most states have a \\u201cwinner-take-all\\u201d system that awards all electors to the winning presidential candidate. However, Maine and Nebraska each have a variation of \\u201cproportional representation.\\u201d . . .\\n\\n8 After the presidential election, your governor prepares a \\u201cCertificate of Ascertainment\\u201d listing all of the candidates who ran for President in your state along with the names of their respective electors. The Certificate of Ascertainment also declares the winning presidential candidate in your state and shows which electors will represent your state at the meeting of the electors in December of the election year. Your state\\u2019s Certificates of Ascertainments are sent to the Congress and the National Archives as part of the official records of the presidential election.\\n\\n# The Indefensible Electoral College: Why even the best-laid defenses of the system are wrong by Bradford Plumer\\n\\n9 What have Richard Nixon, Jimmy Carter, Bob Dole, the U.S. Chamber of Commerce, and the AFL-CIO all, in their time, agreed on? Answer: Abolishing the electoral college! They\\u2019re not alone; according to a Gallup poll in 2000, taken shortly after Al Gore\\u2014thanks to the quirks of the electoral college\\u2014won the popular vote but lost the presidency,1 over 60 percent of voters would prefer a direct election to the kind we have now. This year voters can expect another close election in which the popular vote winner could again lose the presidency. And yet, the electoral college still has its defenders. What gives? . . . What\\u2019s wrong with the electoral college\\n\\n10 Under the electoral college system, voters vote not for the president, but for a slate of electors, who in turn elect the president. If you lived in Texas, for instance, and wanted to vote for John Kerry, you\\u2019d vote for a slate of 34 Democratic electors pledged to Kerry. On the offchance that those electors won the statewide election, they would go to Congress and Kerry would get 34 electoral votes. Who are the electors? They can be anyone not holding public office. Who picks the electors in the first place? It depends on the state. Sometimes state conventions, sometimes the state party\\u2019s central committee, sometimes the presidential candidates themselves. Can voters control whom their electors vote for? Not always. Do voters sometimes get confused about the electors and vote for the wrong candidate? Sometimes.\\n\\n11 The single best argument against the electoral college is what we might call the disaster factor. The American people should consider themselves lucky that the 2000 fiasco was the biggest election crisis in a century; the system allows for much worse. Consider that state legislatures are technically responsible for picking electors, and that those electors could always defy the will of the people. Back in 1960, segregationists in the Louisiana legislature nearly succeeded in replacing the Democratic electors with new electors who would oppose John F. Kennedy. (So that a popular vote for Kennedy would not have actually gone to Kennedy.) In the same vein, \\u201cfaithless\\u201d electors have occasionally refused to vote for their party\\u2019s candidate and cast a deciding vote for whomever they please. . . . Oh, and what if a state sends two slates of electors to Congress? It happened in Hawaii in 1960. Luckily, Vice President Richard Nixon, who was presiding over the Senate, validated only his opponent\\u2019s electors, but he made sure to do so \\u201cwithout establishing a precedent.\\u201d What if it happened again?\\n\\n12 Perhaps most worrying is the prospect of a tie in the electoral vote. In that case, the election would be thrown to the House of Representatives, where state delegations vote on the president. (The Senate would choose the vice-president.) Because each state casts only one vote, the single representative from Wyoming, representing 500,000 voters, would have as much say as the 55 representatives from California, who represent 35 million voters. Given that many voters vote one party for president and another for Congress, the House\\u2019s selection can hardly be expected to reflect the will of the people. And if an electoral tie seems unlikely, consider this: In 1968, a shift of just 41,971 votes would have deadlocked the election; In 1976, a tie would have occurred if a mere 5,559 voters in Ohio and 3,687 voters in Hawaii had voted the other way. The election is only a few swing voters away from catastrophe.\\n\\n13 At the most basic level, the electoral college is unfair to voters. Because of the winner-takeall system in each state, candidates don't spend time in states they know they have no chance of winning, focusing only on the tight races in the \\u201cswing\\u201d states. During the 2000 campaign, seventeen states didn\\u2019t see the candidates at all, including Rhode Island and South Carolina, and voters in 25 of the largest media markets didn\\u2019t get to see a single campaign ad. If anyone has a good argument for putting the fate of the presidency in the hands of a few swing voters in Ohio, they have yet to make it. . . .\\n\\n14 It\\u2019s official: The electoral college is unfair, outdated, and irrational. The best arguments in favor of it are mostly assertions without much basis in reality. And the arguments against direct elections are spurious at best. It\\u2019s hard to say this, but Bob Dole was right: Abolish the electoral college!\\n\\n# In Defense of the Electoral College: Five reasons to keep our despised method of choosing the President by Judge Richard A. Posner\\n\\n15 The Electoral College is widely regarded as an anachronism,1 a non-democratic method of selecting a president that ought to be overruled by declaring the candidate who receives the most popular votes the winner. The advocates of this position are correct in arguing that the Electoral College method is not democratic in a modern sense . . . it is the electors who elect the president, not the people. When you vote for a presidential candidate you\\u2019re actually voting for a slate of electors.\\n\\n16 But each party selects a slate of electors trusted to vote for the party\\u2019s nominee (and that trust is rarely betrayed) . . . however, it is entirely possible that the winner of the electoral vote will not win the national popular vote. Yet that has happened very rarely. It happened in 2000, when Gore had more popular votes than Bush yet fewer electoral votes, but that was the first time since 1888.\\n\\n17 There are five reasons for retaining the Electoral College despite its lack of democratic pedigree;2 all are practical reasons, not liberal or conservative3 reasons.\\n\\n## 1) Certainty of Outcome\\n\\n18 A dispute over the outcome of an Electoral College vote is possible\\u2014--it happened in 2000--\\u2014but it\\u2019s less likely than a dispute over the popular vote. The reason is that the winning candidate\\u2019s share of the Electoral College invariably exceeds his share of the popular vote. In 2012\\u2019s election, for example, Obama4 received 61.7 percent of the electoral vote compared to only 51.3 percent of the popular votes cast for him and Romney.5 . . . Because almost all states award electoral votes on a winner-take-all basis, even a very slight plurality6 in a state creates a landslide electoral-vote victory in that state. A tie in the nationwide electoral vote is possible because the total number of votes\\u2014--538\\u2014--is an even number, but it is highly unlikely. . . .\\n\\n## 2) Everyone\\u2019s President\\n\\n19 The Electoral College requires a presidential candidate to have trans-regional appeal. No region (South, Northeast, etc.) has enough electoral votes to elect a president. So a solid regional favorite, such as Romney was in the South, has no incentive to campaign heavily in those states, for he gains no electoral votes by increasing his plurality in states that he knows he will win. This is a desirable result because a candidate with only regional appeal is unlikely to be a successful president. The residents of the other regions are likely to feel disenfranchised\\u2014to feel that their votes do not count, that the new president will have no regard for their interests, that he really isn\\u2019t their president.\\n\\n## 3) Swing States\\n\\n20 The winner-take-all method of awarding electoral votes induces the candidates\\u2014as we saw in 2012\\u2019s election\\u2014to focus their campaign efforts on the toss-up states . . . . Voters in toss-up states are more likely to pay close attention to the campaign\\u2014to really listen to the competing candidates\\u2014knowing that they are going to decide the election. They are likely to be the most thoughtful voters, on average (and for the further reason that they will have received the most information and attention from the candidates), and the most thoughtful voters should be the ones to decide the election.\\n\\n## 4) Big States\\n\\n21 The Electoral College restores some of the weight in the political balance that large states (by population) lose by virtue of the mal-apportionment of the Senate decreed in the Constitution. . . . The popular vote was very close in Florida in 2012; nevertheless Obama, who won that vote, got 29 electoral votes. A victory by the same margin in Wyoming would net the winner only 3 electoral votes. So, other things being equal, a large state gets more attention from presidential candidates in a campaign than a small state does. . . .\\n\\n## 5) Avoid Run-Off Elections\\n\\n22 The Electoral College avoids the problem of elections in which no candidate receives a majority of the votes cast. For example, Nixon in 1968 and Clinton in 1992 both had only a 43 percent plurality of the popular votes, while winning a majority in the Electoral College (301 and 370 electoral votes, respectively). There is pressure for run-off elections when no candidate wins a majority of the votes cast; that pressure, which would greatly complicate the presidential election process, is reduced by the Electoral College, which invariably produces a clear winner. . . .\\n\\n23 It can be argued that the Electoral College method of selecting the president may turn off potential voters for a candidate who has no hope of carrying their state\\u2014Democrats in Texas, for example, or Republicans in California. Knowing their vote will have no effect, they have less incentive to pay attention to the campaign than they would have if the president were picked by popular vote . . . . But of course no voter\\u2019s vote swings a national election, and in spite of that, about one-half the eligible American population did vote in 2012\\u2019s election. Voters in presidential elections are people who want to express a political preference rather than people who think that a single vote may decide an election. . . .\\n\",\n          \"# In German Suburb, Life Goes On Without Cars by Elisabeth Rosenthal\\n\\n1 VAUBAN, Germany\\u2014Residents of this upscale community are suburban pioneers, going where few soccer moms or commuting executives have ever gone before: they have given up their cars.\\n\\n2 Street parking, driveways and home garages are generally forbidden in this experimental new district on the outskirts of Freiburg, near the French and Swiss borders. Vauban\\u2019s streets are completely \\u201ccar-free\\u201d\\u2014except the main thoroughfare, where the tram to downtown Freiburg runs, and a few streets on one edge of the community. Car ownership is allowed, but there are only two places to park\\u2014large garages at the edge of the development, where a car-owner buys a space, for $40,000, along with a home.\\n\\n3 As a result, 70 percent of Vauban\\u2019s families do not own cars, and 57 percent sold a car to move here. \\u201cWhen I had a car I was always tense. I\\u2019m much happier this way,\\u201d said Heidrun Walter, a media trainer and mother of two, as she walked verdant streets where the swish of bicycles and the chatter of wandering children drown out the occasional distant motor.\\n\\n4 Vauban, completed in 2006, is an example of a growing trend in Europe, the United States and elsewhere to separate suburban life from auto use, as a component of a movement called \\u201csmart planning.\\u201d\\n\\n5 Automobiles are the linchpin of suburbs, where middle-class families from Chicago to Shanghai tend to make their homes. And that, experts say, is a huge impediment to current efforts to drastically reduce greenhouse gas emissions from tailpipes . . . . Passenger cars are responsible for 12 percent of greenhouse gas emissions in Europe . . . and up to 50 percent in some car-intensive areas in the United States.\\n\\n6 While there have been efforts in the past two decades to make cities denser, and better for walking, planners are now taking the concept to the suburbs . . . . Vauban, home to 5,500 residents within a rectangular square mile, may be the most advanced experiment in low-car suburban life. But its basic precepts are being adopted around the world in attempts to make suburbs more compact and more accessible to public transportation, with less space for parking. In this new approach, stores are placed a walk away, on a main street, rather than in malls along some distant highway.\\n\\n7 \\u201cAll of our development since World War II has been centered on the car, and that will have to change,\\u201d said David Goldberg, an official of Transportation for America, a fast-growing coalition of hundreds of groups in the United States . . . who are promoting new communities that are less dependent on cars. Mr. Goldberg added: \\u201cHow much you drive is as important as whether you have a hybrid.\\u201d\\n\\n8 Levittown and Scarsdale, New York suburbs with spread-out homes and private garages, were the dream towns of the 1950s and still exert a strong appeal. But some new suburbs may well look more Vauban-like, not only in developed countries but also in the developing world, where emissions from an increasing number of private cars owned by the burgeoning middle class are choking cities.\\n\\n9 In the United States, the Environmental Protection Agency is promoting \\u201ccar reduced\\u201d communities, and legislators are starting to act, if cautiously. Many experts expect public transport serving suburbs to play a much larger role in a new six-year federal transportation bill to be approved this year, Mr. Goldberg said. In previous bills, 80 percent of appropriations have by law gone to highways and only 20 percent to other transport. \\n\\nExcerpt from \\u201cIn German Suburb, Life Goes On Without Cars\\u201d by Elisabeth Rosenthal, from the New York Times. Copyright \\u00a9 2009 by the New York Times Company. Reprinted by permission of the New York Times Company via Copyright Clearance Center.\\n\\n# Paris bans driving due to smog by Robert Duffer\\n\\n10 After days of near-record pollution, Paris enforced a partial driving ban to clear the air of the global city.\\n\\n11 On Monday motorists with even-numbered license plates were ordered to leave their cars at home or suffer a 22-euro fine ($31). The same would apply to odd-numbered plates the following day.\\n\\n12 Almost 4,000 drivers were fined, according to Reuters1 . . . [Twenty-seven] people had their cars impounded for their reaction to the fine.\\n\\n13 That\\u2019s easier to imagine than a car-free Champs-Elysees.2\\n\\n14 Congestion 3 was down 60 percent in the capital of France, after five-days of intensifying smog . . . [The smog] rivaled Beijing, China, which is known as one of the most polluted cities in the world.\\n\\n15 Cold nights and warm days caused the warmer layer of air to trap car emissions.\\n\\n16 Diesel fuel was blamed, since France has . . . [a] tax policy that favors diesel over gasoline. Diesels make up 67 percent of vehicles in France, compared to a 53.3 percent average of diesel engines in the rest of Western Europe, according to Reuters.\\n\\n17 Paris typically has more smog than other European capitals . . . [Last] week Paris had 147 micrograms of particulate matter (PM) per cubic meter compared with 114 in Brussels and 79.7 in London, Reuters found.\\n\\n18 Delivery companies complained of lost revenue, while exceptions were made for plug-in cars, hybrids, and cars carrying three or more passengers. Public transit was free of charge from Friday to Monday, according to the BBC.\\n\\n19 The smog cleared enough Monday for the ruling French party to rescind the ban for oddnumbered plates on Tuesday. 1\\n\\nExcerpt from \\u201cParis bans driving due to smog\\u201d by Robert Duffer, from the Chicago Tribune. Copyright \\u00a9 2014 by the Chicago Tribune. Reprinted by permission of the Chicago Tribune via Copyright Clearance Center.\\n\\n# Car-free day is spinning into a big hit in Bogota by Andrew Selsky\\n\\nBOGOTA, Colombia\\u2014In a program that\\u2019s set to spread to other countries, millions of Colombians hiked, biked, skated or took buses to work during a car-free day yesterday, leaving the streets of this capital city eerily devoid of traffic jams.\\n\\n21 It was the third straight year cars have been banned with only buses and taxis permitted for the Day Without Cars in this capital city of 7 million. The goal is to promote alternative transportation and reduce smog. Violators faced $25 fines.\\n\\n22 The turnout was large, despite gray clouds that dumped occasional rain showers on Bogota.\\n\\n23 \\u201cThe rain hasn\\u2019t stopped people from participating,\\u201d said Bogota Mayor Antanas Mockus . . . .\\n\\n24 \\u201cIt\\u2019s a good opportunity to take away stress and lower air pollution,\\u201d said businessman Carlos Arturo Plaza as he rode a two-seat bicycle with his wife.\\n\\n25 For the first time, two other Colombian cities, Cali and Valledupar, joined the event.\\n\\n26 Municipal authorities from other countries came to Bogota to see the event and were enthusiastic. \\u201cThese people are generating a revolutionary change, and this is crossing borders,\\u201d said Enrique Riera, the mayor of Asunci\\u00f3n, Paraguay. . . .\\n\\n27 The day without cars is part of an improvement campaign that began in Bogota in the mid1990s. It has seen the construction of 118 miles of bicycle paths, the most of any Latin American city, according to Mockus, the city\\u2019s mayor.\\n\\n28 Parks and sports centers also have bloomed throughout the city; uneven, pitted sidewalks have been replaced by broad, smooth sidewalks; rush-hour restrictions have dramatically cut traffic; and new restaurants and upscale shopping districts have cropped up.\\n\\nExcerpt from \\u201cCar-free day is spinning into a big hit in Bogota\\u201d by Andrew Selsky, from the Seattle Times. Copyright \\u00a9 2002 by the Seattle Times Company. Reprinted by permission of the Seattle Times Company via Copyright Clearance Center.\\n\\n# The End of Car Culture by Elisabeth Rosenthal\\n\\n29 President Obama\\u2019s ambitious goals to curb the United States\\u2019 greenhouse gas emissions, unveiled last week, will get a fortuitous assist from an incipient1 shift in American behavior: recent studies suggest that Americans are buying fewer cars, driving less and getting fewer licenses as each year goes by.\\n\\n30 That has left researchers pondering a fundamental question: Has America passed peak driving?\\n\\n31 The United States, with its broad expanses and suburban ideals, had long been one of the world\\u2019s prime car cultures. It is the birthplace of the Model T; the home of Detroit; the place where Wilson Pickett immortalized \\u201cMustang Sally\\u201d . . . .\\n\\n32 But America\\u2019s love affair with its vehicles seems to be cooling. When adjusted for population growth, the number of miles driven in the United States peaked in 2005 and dropped steadily thereafter, according to an analysis by Doug Short of Advisor Perspectives, an investment research company. As of April 2013, the number of miles driven per person was nearly 9 percent below the peak and equal to where the country was in January 1995. Part of the explanation certainly lies in the recession, because cash-strapped Americans could not afford new cars, and the unemployed weren\\u2019t going to work anyway. But by many measures the decrease in driving preceded the downturn and appears to be persisting now that recovery is under way. The next few years will be telling.\\n\\n33 \\u201cWhat most intrigues me is that rates of car ownership per household and per person started to come down two to three years before the downturn,\\u201d said Michael Sivak, who studies the trend and who is a research professor at the University of Michigan\\u2019s Transportation Research Institute. \\u201cI think that means something more fundamental is going on.\\u201d\\n\\n34 If the pattern persists\\u2014and many sociologists believe it will\\u2014it will have beneficial implications for carbon emissions and the environment, since transportation is the second largest source of America\\u2019s emissions, just behind power plants. But it could have negative implications for the car industry. Indeed, companies like Ford and Mercedes are already rebranding themselves \\u201cmobility\\u201d companies with a broader product range beyond the personal vehicle.\\n\\n35 \\u201cDifferent things are converging which suggest that we are witnessing a long-term cultural shift,\\u201d said Mimi Sheller, a sociology professor at Drexel University and director of its Mobilities Research and Policy Center. She cites various factors: the Internet makes telecommuting possible and allows people to feel more connected without driving to meet friends. The renewal of center cities has made the suburbs less appealing and has drawn empty nesters back in. Likewise the rise in cellphones and car-pooling apps has facilitated more flexible commuting arrangements, including the evolution of shared van services for getting to work.\\n\\n36 With all these changes, people who stopped car commuting as a result of the recession may find less reason to resume the habit. . . .\\n\\n37 New York\\u2019s new bike-sharing program and its skyrocketing bridge and tunnel tolls reflect those new priorities, as do a proliferation of car-sharing programs across the nation.\\n\\n38 Demographic shifts in the driving population suggest that the trend may accelerate. There has been a large drop in the percentage of 16- to 39-year-olds getting a license, while older people are likely to retain their licenses as they age, Mr. Sivak\\u2019s research has found.\\n\\n39 He and I have similar observations about our children. Mine (19 and 21) have not bothered to get a driver\\u2019s license, even though they both live in places where one could come in handy. They are interested, but it\\u2019s not a priority. They organize their summer jobs and social life around where they can walk or take public transportation or car-pool with friends.\\n\\n40 Mr. Sivak\\u2019s son lives in San Francisco and has a car but takes Bay Area Rapid Transit, when he can, even though that often takes longer than driving. \\u201cWhen I was in my 20s and 30s,\\u201d Mr. Sivak said, \\u201cI was curious about what kind of car people drove, but young people don\\u2019t really care. A car is just a means of getting from A to B when BART doesn\\u2019t work.\\u201d\\n\\n41 A study last year found that driving by young people decreased 23 percent between 2001 and 2009. . . .\\n\\n42 Whether members of the millennial generation will start buying more cars once they have kids to take to soccer practice and school plays remains an open question. But such projections have important business implications, even if car buyers are merely older or buying fewer cars in a lifetime rather than rejecting car culture outright.\\n\\n43 At the Mobile World Congress last year in Barcelona, Spain, Bill Ford, executive chairman of the Ford Motor Company, laid out a business plan for a world in which personal vehicle ownership is impractical or undesirable. He proposed partnering with the telecommunications industry to create cities in which \\u201cpedestrian, bicycle, private cars, commercial and public transportation traffic are woven into a connected network to save time, conserve resources, lower emissions and improve safety.\\u201d\\n\\nExcerpt from \\u201cThe End of Car Culture\\u201d by Elisabeth Rosenthal, from the New York Times. Copyright \\u00a9 2013 by the New York Times Company. Reprinted by permission of the New York Times Company via Copyright Clearance Center.\\n\"\n        ],\n        \"semantic_type\": \"\",\n        \"description\": \"\"\n      }\n    }\n  ]\n}"
            }
          },
          "metadata": {},
          "execution_count": 10
        }
      ]
    },
    {
      "cell_type": "code",
      "source": [
        "train_data.text[0]"
      ],
      "metadata": {
        "id": "0YRt5NSYV0e9",
        "colab": {
          "base_uri": "https://localhost:8080/",
          "height": 149
        },
        "outputId": "5a76294c-af82-4917-977a-edabb35f246f"
      },
      "execution_count": null,
      "outputs": [
        {
          "output_type": "execute_result",
          "data": {
            "text/plain": [
              "'Cars. Cars have been around since they became famous in the 1900s, when Henry Ford created and built the first ModelT. Cars have played a major role in our every day lives since then. But now, people are starting to question if limiting car usage would be a good thing. To me, limiting the use of cars might be a good thing to do.\\n\\nIn like matter of this, article, \"In German Suburb, Life Goes On Without Cars,\" by Elizabeth Rosenthal states, how automobiles are the linchpin of suburbs, where middle class families from either Shanghai or Chicago tend to make their homes. Experts say how this is a huge impediment to current efforts to reduce greenhouse gas emissions from tailpipe. Passenger cars are responsible for 12 percent of greenhouse gas emissions in Europe...and up to 50 percent in some carintensive areas in the United States. Cars are the main reason for the greenhouse gas emissions because of a lot of people driving them around all the time getting where they need to go. Article, \"Paris bans driving due to smog,\" by Robert Duffer says, how Paris, after days of nearrecord pollution, enforced a partial driving ban to clear the air of the global city. It also says, how on Monday, motorist with evennumbered license plates were ordered to leave their cars at home or be fined a 22euro fine 31. The same order would be applied to oddnumbered plates the following day. Cars are the reason for polluting entire cities like Paris. This shows how bad cars can be because, of all the pollution that they can cause to an entire city.\\n\\nLikewise, in the article, \"Carfree day is spinning into a big hit in Bogota,\" by Andrew Selsky says, how programs that\\'s set to spread to other countries, millions of Columbians hiked, biked, skated, or took the bus to work during a carfree day, leaving streets of this capital city eerily devoid of traffic jams. It was the third straight year cars have been banned with only buses and taxis permitted for the Day Without Cars in the capital city of 7 million. People like the idea of having carfree days because, it allows them to lesson the pollution that cars put out of their exhaust from people driving all the time. The article also tells how parks and sports centers have bustled throughout the city uneven, pitted sidewalks have been replaced by broad, smooth sidewalks rushhour restrictions have dramatically cut traffic and new restaurants and upscale shopping districts have cropped up. Having no cars has been good for the country of Columbia because, it has aloud them to repair things that have needed repairs for a long time, traffic jams have gone down, and restaurants and shopping districts have popped up, all due to the fact of having less cars around.\\n\\nIn conclusion, the use of less cars and having carfree days, have had a big impact on the environment of cities because, it is cutting down the air pollution that the cars have majorly polluted, it has aloud countries like Columbia to repair sidewalks, and cut down traffic jams. Limiting the use of cars would be a good thing for America. So we should limit the use of cars by maybe riding a bike, or maybe walking somewhere that isn\\'t that far from you and doesn\\'t need the use of a car to get you there. To me, limiting the use of cars might be a good thing to do.'"
            ],
            "application/vnd.google.colaboratory.intrinsic+json": {
              "type": "string"
            }
          },
          "metadata": {},
          "execution_count": 11
        }
      ]
    },
    {
      "cell_type": "code",
      "source": [
        "train_data.info()"
      ],
      "metadata": {
        "id": "cZymy0rfrYoi",
        "colab": {
          "base_uri": "https://localhost:8080/"
        },
        "outputId": "574aa603-3a1c-4df6-b402-ae7dd5fb4c3d"
      },
      "execution_count": null,
      "outputs": [
        {
          "output_type": "stream",
          "name": "stdout",
          "text": [
            "<class 'pandas.core.frame.DataFrame'>\n",
            "RangeIndex: 1378 entries, 0 to 1377\n",
            "Data columns (total 4 columns):\n",
            " #   Column     Non-Null Count  Dtype \n",
            "---  ------     --------------  ----- \n",
            " 0   id         1378 non-null   object\n",
            " 1   prompt_id  1378 non-null   int64 \n",
            " 2   text       1378 non-null   object\n",
            " 3   generated  1378 non-null   int64 \n",
            "dtypes: int64(2), object(2)\n",
            "memory usage: 43.2+ KB\n"
          ]
        }
      ]
    },
    {
      "cell_type": "code",
      "source": [
        "train_data.describe()"
      ],
      "metadata": {
        "id": "ceR4Apvjrhq-",
        "colab": {
          "base_uri": "https://localhost:8080/",
          "height": 291
        },
        "outputId": "3232e0eb-5f46-484b-abea-0957e651d987"
      },
      "execution_count": null,
      "outputs": [
        {
          "output_type": "execute_result",
          "data": {
            "text/plain": [
              "         prompt_id    generated\n",
              "count  1378.000000  1378.000000\n",
              "mean      0.486212     0.002177\n",
              "std       0.499991     0.046625\n",
              "min       0.000000     0.000000\n",
              "25%       0.000000     0.000000\n",
              "50%       0.000000     0.000000\n",
              "75%       1.000000     0.000000\n",
              "max       1.000000     1.000000"
            ],
            "text/html": [
              "\n",
              "  <div id=\"df-bd91db0f-82ec-4988-9fdc-32388daff249\" class=\"colab-df-container\">\n",
              "    <div>\n",
              "<style scoped>\n",
              "    .dataframe tbody tr th:only-of-type {\n",
              "        vertical-align: middle;\n",
              "    }\n",
              "\n",
              "    .dataframe tbody tr th {\n",
              "        vertical-align: top;\n",
              "    }\n",
              "\n",
              "    .dataframe thead th {\n",
              "        text-align: right;\n",
              "    }\n",
              "</style>\n",
              "<table border=\"1\" class=\"dataframe\">\n",
              "  <thead>\n",
              "    <tr style=\"text-align: right;\">\n",
              "      <th></th>\n",
              "      <th>prompt_id</th>\n",
              "      <th>generated</th>\n",
              "    </tr>\n",
              "  </thead>\n",
              "  <tbody>\n",
              "    <tr>\n",
              "      <th>count</th>\n",
              "      <td>1378.000000</td>\n",
              "      <td>1378.000000</td>\n",
              "    </tr>\n",
              "    <tr>\n",
              "      <th>mean</th>\n",
              "      <td>0.486212</td>\n",
              "      <td>0.002177</td>\n",
              "    </tr>\n",
              "    <tr>\n",
              "      <th>std</th>\n",
              "      <td>0.499991</td>\n",
              "      <td>0.046625</td>\n",
              "    </tr>\n",
              "    <tr>\n",
              "      <th>min</th>\n",
              "      <td>0.000000</td>\n",
              "      <td>0.000000</td>\n",
              "    </tr>\n",
              "    <tr>\n",
              "      <th>25%</th>\n",
              "      <td>0.000000</td>\n",
              "      <td>0.000000</td>\n",
              "    </tr>\n",
              "    <tr>\n",
              "      <th>50%</th>\n",
              "      <td>0.000000</td>\n",
              "      <td>0.000000</td>\n",
              "    </tr>\n",
              "    <tr>\n",
              "      <th>75%</th>\n",
              "      <td>1.000000</td>\n",
              "      <td>0.000000</td>\n",
              "    </tr>\n",
              "    <tr>\n",
              "      <th>max</th>\n",
              "      <td>1.000000</td>\n",
              "      <td>1.000000</td>\n",
              "    </tr>\n",
              "  </tbody>\n",
              "</table>\n",
              "</div>\n",
              "    <div class=\"colab-df-buttons\">\n",
              "\n",
              "  <div class=\"colab-df-container\">\n",
              "    <button class=\"colab-df-convert\" onclick=\"convertToInteractive('df-bd91db0f-82ec-4988-9fdc-32388daff249')\"\n",
              "            title=\"Convert this dataframe to an interactive table.\"\n",
              "            style=\"display:none;\">\n",
              "\n",
              "  <svg xmlns=\"http://www.w3.org/2000/svg\" height=\"24px\" viewBox=\"0 -960 960 960\">\n",
              "    <path d=\"M120-120v-720h720v720H120Zm60-500h600v-160H180v160Zm220 220h160v-160H400v160Zm0 220h160v-160H400v160ZM180-400h160v-160H180v160Zm440 0h160v-160H620v160ZM180-180h160v-160H180v160Zm440 0h160v-160H620v160Z\"/>\n",
              "  </svg>\n",
              "    </button>\n",
              "\n",
              "  <style>\n",
              "    .colab-df-container {\n",
              "      display:flex;\n",
              "      gap: 12px;\n",
              "    }\n",
              "\n",
              "    .colab-df-convert {\n",
              "      background-color: #E8F0FE;\n",
              "      border: none;\n",
              "      border-radius: 50%;\n",
              "      cursor: pointer;\n",
              "      display: none;\n",
              "      fill: #1967D2;\n",
              "      height: 32px;\n",
              "      padding: 0 0 0 0;\n",
              "      width: 32px;\n",
              "    }\n",
              "\n",
              "    .colab-df-convert:hover {\n",
              "      background-color: #E2EBFA;\n",
              "      box-shadow: 0px 1px 2px rgba(60, 64, 67, 0.3), 0px 1px 3px 1px rgba(60, 64, 67, 0.15);\n",
              "      fill: #174EA6;\n",
              "    }\n",
              "\n",
              "    .colab-df-buttons div {\n",
              "      margin-bottom: 4px;\n",
              "    }\n",
              "\n",
              "    [theme=dark] .colab-df-convert {\n",
              "      background-color: #3B4455;\n",
              "      fill: #D2E3FC;\n",
              "    }\n",
              "\n",
              "    [theme=dark] .colab-df-convert:hover {\n",
              "      background-color: #434B5C;\n",
              "      box-shadow: 0px 1px 3px 1px rgba(0, 0, 0, 0.15);\n",
              "      filter: drop-shadow(0px 1px 2px rgba(0, 0, 0, 0.3));\n",
              "      fill: #FFFFFF;\n",
              "    }\n",
              "  </style>\n",
              "\n",
              "    <script>\n",
              "      const buttonEl =\n",
              "        document.querySelector('#df-bd91db0f-82ec-4988-9fdc-32388daff249 button.colab-df-convert');\n",
              "      buttonEl.style.display =\n",
              "        google.colab.kernel.accessAllowed ? 'block' : 'none';\n",
              "\n",
              "      async function convertToInteractive(key) {\n",
              "        const element = document.querySelector('#df-bd91db0f-82ec-4988-9fdc-32388daff249');\n",
              "        const dataTable =\n",
              "          await google.colab.kernel.invokeFunction('convertToInteractive',\n",
              "                                                    [key], {});\n",
              "        if (!dataTable) return;\n",
              "\n",
              "        const docLinkHtml = 'Like what you see? Visit the ' +\n",
              "          '<a target=\"_blank\" href=https://colab.research.google.com/notebooks/data_table.ipynb>data table notebook</a>'\n",
              "          + ' to learn more about interactive tables.';\n",
              "        element.innerHTML = '';\n",
              "        dataTable['output_type'] = 'display_data';\n",
              "        await google.colab.output.renderOutput(dataTable, element);\n",
              "        const docLink = document.createElement('div');\n",
              "        docLink.innerHTML = docLinkHtml;\n",
              "        element.appendChild(docLink);\n",
              "      }\n",
              "    </script>\n",
              "  </div>\n",
              "\n",
              "\n",
              "<div id=\"df-3839ce8b-77aa-42ee-ba7c-7ce486ad4cbe\">\n",
              "  <button class=\"colab-df-quickchart\" onclick=\"quickchart('df-3839ce8b-77aa-42ee-ba7c-7ce486ad4cbe')\"\n",
              "            title=\"Suggest charts\"\n",
              "            style=\"display:none;\">\n",
              "\n",
              "<svg xmlns=\"http://www.w3.org/2000/svg\" height=\"24px\"viewBox=\"0 0 24 24\"\n",
              "     width=\"24px\">\n",
              "    <g>\n",
              "        <path d=\"M19 3H5c-1.1 0-2 .9-2 2v14c0 1.1.9 2 2 2h14c1.1 0 2-.9 2-2V5c0-1.1-.9-2-2-2zM9 17H7v-7h2v7zm4 0h-2V7h2v10zm4 0h-2v-4h2v4z\"/>\n",
              "    </g>\n",
              "</svg>\n",
              "  </button>\n",
              "\n",
              "<style>\n",
              "  .colab-df-quickchart {\n",
              "      --bg-color: #E8F0FE;\n",
              "      --fill-color: #1967D2;\n",
              "      --hover-bg-color: #E2EBFA;\n",
              "      --hover-fill-color: #174EA6;\n",
              "      --disabled-fill-color: #AAA;\n",
              "      --disabled-bg-color: #DDD;\n",
              "  }\n",
              "\n",
              "  [theme=dark] .colab-df-quickchart {\n",
              "      --bg-color: #3B4455;\n",
              "      --fill-color: #D2E3FC;\n",
              "      --hover-bg-color: #434B5C;\n",
              "      --hover-fill-color: #FFFFFF;\n",
              "      --disabled-bg-color: #3B4455;\n",
              "      --disabled-fill-color: #666;\n",
              "  }\n",
              "\n",
              "  .colab-df-quickchart {\n",
              "    background-color: var(--bg-color);\n",
              "    border: none;\n",
              "    border-radius: 50%;\n",
              "    cursor: pointer;\n",
              "    display: none;\n",
              "    fill: var(--fill-color);\n",
              "    height: 32px;\n",
              "    padding: 0;\n",
              "    width: 32px;\n",
              "  }\n",
              "\n",
              "  .colab-df-quickchart:hover {\n",
              "    background-color: var(--hover-bg-color);\n",
              "    box-shadow: 0 1px 2px rgba(60, 64, 67, 0.3), 0 1px 3px 1px rgba(60, 64, 67, 0.15);\n",
              "    fill: var(--button-hover-fill-color);\n",
              "  }\n",
              "\n",
              "  .colab-df-quickchart-complete:disabled,\n",
              "  .colab-df-quickchart-complete:disabled:hover {\n",
              "    background-color: var(--disabled-bg-color);\n",
              "    fill: var(--disabled-fill-color);\n",
              "    box-shadow: none;\n",
              "  }\n",
              "\n",
              "  .colab-df-spinner {\n",
              "    border: 2px solid var(--fill-color);\n",
              "    border-color: transparent;\n",
              "    border-bottom-color: var(--fill-color);\n",
              "    animation:\n",
              "      spin 1s steps(1) infinite;\n",
              "  }\n",
              "\n",
              "  @keyframes spin {\n",
              "    0% {\n",
              "      border-color: transparent;\n",
              "      border-bottom-color: var(--fill-color);\n",
              "      border-left-color: var(--fill-color);\n",
              "    }\n",
              "    20% {\n",
              "      border-color: transparent;\n",
              "      border-left-color: var(--fill-color);\n",
              "      border-top-color: var(--fill-color);\n",
              "    }\n",
              "    30% {\n",
              "      border-color: transparent;\n",
              "      border-left-color: var(--fill-color);\n",
              "      border-top-color: var(--fill-color);\n",
              "      border-right-color: var(--fill-color);\n",
              "    }\n",
              "    40% {\n",
              "      border-color: transparent;\n",
              "      border-right-color: var(--fill-color);\n",
              "      border-top-color: var(--fill-color);\n",
              "    }\n",
              "    60% {\n",
              "      border-color: transparent;\n",
              "      border-right-color: var(--fill-color);\n",
              "    }\n",
              "    80% {\n",
              "      border-color: transparent;\n",
              "      border-right-color: var(--fill-color);\n",
              "      border-bottom-color: var(--fill-color);\n",
              "    }\n",
              "    90% {\n",
              "      border-color: transparent;\n",
              "      border-bottom-color: var(--fill-color);\n",
              "    }\n",
              "  }\n",
              "</style>\n",
              "\n",
              "  <script>\n",
              "    async function quickchart(key) {\n",
              "      const quickchartButtonEl =\n",
              "        document.querySelector('#' + key + ' button');\n",
              "      quickchartButtonEl.disabled = true;  // To prevent multiple clicks.\n",
              "      quickchartButtonEl.classList.add('colab-df-spinner');\n",
              "      try {\n",
              "        const charts = await google.colab.kernel.invokeFunction(\n",
              "            'suggestCharts', [key], {});\n",
              "      } catch (error) {\n",
              "        console.error('Error during call to suggestCharts:', error);\n",
              "      }\n",
              "      quickchartButtonEl.classList.remove('colab-df-spinner');\n",
              "      quickchartButtonEl.classList.add('colab-df-quickchart-complete');\n",
              "    }\n",
              "    (() => {\n",
              "      let quickchartButtonEl =\n",
              "        document.querySelector('#df-3839ce8b-77aa-42ee-ba7c-7ce486ad4cbe button');\n",
              "      quickchartButtonEl.style.display =\n",
              "        google.colab.kernel.accessAllowed ? 'block' : 'none';\n",
              "    })();\n",
              "  </script>\n",
              "</div>\n",
              "\n",
              "    </div>\n",
              "  </div>\n"
            ],
            "application/vnd.google.colaboratory.intrinsic+json": {
              "type": "dataframe",
              "summary": "{\n  \"name\": \"train_data\",\n  \"rows\": 8,\n  \"fields\": [\n    {\n      \"column\": \"prompt_id\",\n      \"properties\": {\n        \"dtype\": \"number\",\n        \"std\": 487.0459240172603,\n        \"min\": 0.0,\n        \"max\": 1378.0,\n        \"num_unique_values\": 5,\n        \"samples\": [\n          0.4862119013062409,\n          1.0,\n          0.4999913042997103\n        ],\n        \"semantic_type\": \"\",\n        \"description\": \"\"\n      }\n    },\n    {\n      \"column\": \"generated\",\n      \"properties\": {\n        \"dtype\": \"number\",\n        \"std\": 487.1437236308417,\n        \"min\": 0.0,\n        \"max\": 1378.0,\n        \"num_unique_values\": 5,\n        \"samples\": [\n          0.0021770682148040637,\n          1.0,\n          0.04662516669639546\n        ],\n        \"semantic_type\": \"\",\n        \"description\": \"\"\n      }\n    }\n  ]\n}"
            }
          },
          "metadata": {},
          "execution_count": 13
        }
      ]
    },
    {
      "cell_type": "code",
      "source": [
        "train_data[\"generated\"].unique()"
      ],
      "metadata": {
        "id": "NG55_IFisPp8",
        "colab": {
          "base_uri": "https://localhost:8080/"
        },
        "outputId": "ed5464d2-d7cc-4d05-b4ca-5635dcf7da21"
      },
      "execution_count": null,
      "outputs": [
        {
          "output_type": "execute_result",
          "data": {
            "text/plain": [
              "array([0, 1])"
            ]
          },
          "metadata": {},
          "execution_count": 14
        }
      ]
    },
    {
      "cell_type": "markdown",
      "source": [
        "#### **Note 1**\n",
        "- \"Generated\" has only two classes {0,1} or {not generated, generated}\n",
        "- The Standard Deviation of this class is 0.04\n",
        "- This means that the data biased towards the one class {not generated}\n",
        "\n",
        "\n"
      ],
      "metadata": {
        "id": "cBrSYz7yrrsq"
      }
    },
    {
      "cell_type": "code",
      "source": [
        "train_prompts.head()"
      ],
      "metadata": {
        "id": "Jko8kfTJRBjg",
        "colab": {
          "base_uri": "https://localhost:8080/",
          "height": 109
        },
        "outputId": "ae61ead2-c6d3-4103-e180-bc6f6d38ea14"
      },
      "execution_count": null,
      "outputs": [
        {
          "output_type": "execute_result",
          "data": {
            "text/plain": [
              "   prompt_id                       prompt_name  \\\n",
              "0          0                   Car-free cities   \n",
              "1          1  Does the electoral college work?   \n",
              "\n",
              "                                        instructions  \\\n",
              "0  Write an explanatory essay to inform fellow ci...   \n",
              "1  Write a letter to your state senator in which ...   \n",
              "\n",
              "                                         source_text  \n",
              "0  # In German Suburb, Life Goes On Without Cars ...  \n",
              "1  # What Is the Electoral College? by the Office...  "
            ],
            "text/html": [
              "\n",
              "  <div id=\"df-6eb08ba8-e1a5-45fd-9f68-dd6ef449270b\" class=\"colab-df-container\">\n",
              "    <div>\n",
              "<style scoped>\n",
              "    .dataframe tbody tr th:only-of-type {\n",
              "        vertical-align: middle;\n",
              "    }\n",
              "\n",
              "    .dataframe tbody tr th {\n",
              "        vertical-align: top;\n",
              "    }\n",
              "\n",
              "    .dataframe thead th {\n",
              "        text-align: right;\n",
              "    }\n",
              "</style>\n",
              "<table border=\"1\" class=\"dataframe\">\n",
              "  <thead>\n",
              "    <tr style=\"text-align: right;\">\n",
              "      <th></th>\n",
              "      <th>prompt_id</th>\n",
              "      <th>prompt_name</th>\n",
              "      <th>instructions</th>\n",
              "      <th>source_text</th>\n",
              "    </tr>\n",
              "  </thead>\n",
              "  <tbody>\n",
              "    <tr>\n",
              "      <th>0</th>\n",
              "      <td>0</td>\n",
              "      <td>Car-free cities</td>\n",
              "      <td>Write an explanatory essay to inform fellow ci...</td>\n",
              "      <td># In German Suburb, Life Goes On Without Cars ...</td>\n",
              "    </tr>\n",
              "    <tr>\n",
              "      <th>1</th>\n",
              "      <td>1</td>\n",
              "      <td>Does the electoral college work?</td>\n",
              "      <td>Write a letter to your state senator in which ...</td>\n",
              "      <td># What Is the Electoral College? by the Office...</td>\n",
              "    </tr>\n",
              "  </tbody>\n",
              "</table>\n",
              "</div>\n",
              "    <div class=\"colab-df-buttons\">\n",
              "\n",
              "  <div class=\"colab-df-container\">\n",
              "    <button class=\"colab-df-convert\" onclick=\"convertToInteractive('df-6eb08ba8-e1a5-45fd-9f68-dd6ef449270b')\"\n",
              "            title=\"Convert this dataframe to an interactive table.\"\n",
              "            style=\"display:none;\">\n",
              "\n",
              "  <svg xmlns=\"http://www.w3.org/2000/svg\" height=\"24px\" viewBox=\"0 -960 960 960\">\n",
              "    <path d=\"M120-120v-720h720v720H120Zm60-500h600v-160H180v160Zm220 220h160v-160H400v160Zm0 220h160v-160H400v160ZM180-400h160v-160H180v160Zm440 0h160v-160H620v160ZM180-180h160v-160H180v160Zm440 0h160v-160H620v160Z\"/>\n",
              "  </svg>\n",
              "    </button>\n",
              "\n",
              "  <style>\n",
              "    .colab-df-container {\n",
              "      display:flex;\n",
              "      gap: 12px;\n",
              "    }\n",
              "\n",
              "    .colab-df-convert {\n",
              "      background-color: #E8F0FE;\n",
              "      border: none;\n",
              "      border-radius: 50%;\n",
              "      cursor: pointer;\n",
              "      display: none;\n",
              "      fill: #1967D2;\n",
              "      height: 32px;\n",
              "      padding: 0 0 0 0;\n",
              "      width: 32px;\n",
              "    }\n",
              "\n",
              "    .colab-df-convert:hover {\n",
              "      background-color: #E2EBFA;\n",
              "      box-shadow: 0px 1px 2px rgba(60, 64, 67, 0.3), 0px 1px 3px 1px rgba(60, 64, 67, 0.15);\n",
              "      fill: #174EA6;\n",
              "    }\n",
              "\n",
              "    .colab-df-buttons div {\n",
              "      margin-bottom: 4px;\n",
              "    }\n",
              "\n",
              "    [theme=dark] .colab-df-convert {\n",
              "      background-color: #3B4455;\n",
              "      fill: #D2E3FC;\n",
              "    }\n",
              "\n",
              "    [theme=dark] .colab-df-convert:hover {\n",
              "      background-color: #434B5C;\n",
              "      box-shadow: 0px 1px 3px 1px rgba(0, 0, 0, 0.15);\n",
              "      filter: drop-shadow(0px 1px 2px rgba(0, 0, 0, 0.3));\n",
              "      fill: #FFFFFF;\n",
              "    }\n",
              "  </style>\n",
              "\n",
              "    <script>\n",
              "      const buttonEl =\n",
              "        document.querySelector('#df-6eb08ba8-e1a5-45fd-9f68-dd6ef449270b button.colab-df-convert');\n",
              "      buttonEl.style.display =\n",
              "        google.colab.kernel.accessAllowed ? 'block' : 'none';\n",
              "\n",
              "      async function convertToInteractive(key) {\n",
              "        const element = document.querySelector('#df-6eb08ba8-e1a5-45fd-9f68-dd6ef449270b');\n",
              "        const dataTable =\n",
              "          await google.colab.kernel.invokeFunction('convertToInteractive',\n",
              "                                                    [key], {});\n",
              "        if (!dataTable) return;\n",
              "\n",
              "        const docLinkHtml = 'Like what you see? Visit the ' +\n",
              "          '<a target=\"_blank\" href=https://colab.research.google.com/notebooks/data_table.ipynb>data table notebook</a>'\n",
              "          + ' to learn more about interactive tables.';\n",
              "        element.innerHTML = '';\n",
              "        dataTable['output_type'] = 'display_data';\n",
              "        await google.colab.output.renderOutput(dataTable, element);\n",
              "        const docLink = document.createElement('div');\n",
              "        docLink.innerHTML = docLinkHtml;\n",
              "        element.appendChild(docLink);\n",
              "      }\n",
              "    </script>\n",
              "  </div>\n",
              "\n",
              "\n",
              "<div id=\"df-77533f74-6e53-4583-bcb1-d3e352d6f1bf\">\n",
              "  <button class=\"colab-df-quickchart\" onclick=\"quickchart('df-77533f74-6e53-4583-bcb1-d3e352d6f1bf')\"\n",
              "            title=\"Suggest charts\"\n",
              "            style=\"display:none;\">\n",
              "\n",
              "<svg xmlns=\"http://www.w3.org/2000/svg\" height=\"24px\"viewBox=\"0 0 24 24\"\n",
              "     width=\"24px\">\n",
              "    <g>\n",
              "        <path d=\"M19 3H5c-1.1 0-2 .9-2 2v14c0 1.1.9 2 2 2h14c1.1 0 2-.9 2-2V5c0-1.1-.9-2-2-2zM9 17H7v-7h2v7zm4 0h-2V7h2v10zm4 0h-2v-4h2v4z\"/>\n",
              "    </g>\n",
              "</svg>\n",
              "  </button>\n",
              "\n",
              "<style>\n",
              "  .colab-df-quickchart {\n",
              "      --bg-color: #E8F0FE;\n",
              "      --fill-color: #1967D2;\n",
              "      --hover-bg-color: #E2EBFA;\n",
              "      --hover-fill-color: #174EA6;\n",
              "      --disabled-fill-color: #AAA;\n",
              "      --disabled-bg-color: #DDD;\n",
              "  }\n",
              "\n",
              "  [theme=dark] .colab-df-quickchart {\n",
              "      --bg-color: #3B4455;\n",
              "      --fill-color: #D2E3FC;\n",
              "      --hover-bg-color: #434B5C;\n",
              "      --hover-fill-color: #FFFFFF;\n",
              "      --disabled-bg-color: #3B4455;\n",
              "      --disabled-fill-color: #666;\n",
              "  }\n",
              "\n",
              "  .colab-df-quickchart {\n",
              "    background-color: var(--bg-color);\n",
              "    border: none;\n",
              "    border-radius: 50%;\n",
              "    cursor: pointer;\n",
              "    display: none;\n",
              "    fill: var(--fill-color);\n",
              "    height: 32px;\n",
              "    padding: 0;\n",
              "    width: 32px;\n",
              "  }\n",
              "\n",
              "  .colab-df-quickchart:hover {\n",
              "    background-color: var(--hover-bg-color);\n",
              "    box-shadow: 0 1px 2px rgba(60, 64, 67, 0.3), 0 1px 3px 1px rgba(60, 64, 67, 0.15);\n",
              "    fill: var(--button-hover-fill-color);\n",
              "  }\n",
              "\n",
              "  .colab-df-quickchart-complete:disabled,\n",
              "  .colab-df-quickchart-complete:disabled:hover {\n",
              "    background-color: var(--disabled-bg-color);\n",
              "    fill: var(--disabled-fill-color);\n",
              "    box-shadow: none;\n",
              "  }\n",
              "\n",
              "  .colab-df-spinner {\n",
              "    border: 2px solid var(--fill-color);\n",
              "    border-color: transparent;\n",
              "    border-bottom-color: var(--fill-color);\n",
              "    animation:\n",
              "      spin 1s steps(1) infinite;\n",
              "  }\n",
              "\n",
              "  @keyframes spin {\n",
              "    0% {\n",
              "      border-color: transparent;\n",
              "      border-bottom-color: var(--fill-color);\n",
              "      border-left-color: var(--fill-color);\n",
              "    }\n",
              "    20% {\n",
              "      border-color: transparent;\n",
              "      border-left-color: var(--fill-color);\n",
              "      border-top-color: var(--fill-color);\n",
              "    }\n",
              "    30% {\n",
              "      border-color: transparent;\n",
              "      border-left-color: var(--fill-color);\n",
              "      border-top-color: var(--fill-color);\n",
              "      border-right-color: var(--fill-color);\n",
              "    }\n",
              "    40% {\n",
              "      border-color: transparent;\n",
              "      border-right-color: var(--fill-color);\n",
              "      border-top-color: var(--fill-color);\n",
              "    }\n",
              "    60% {\n",
              "      border-color: transparent;\n",
              "      border-right-color: var(--fill-color);\n",
              "    }\n",
              "    80% {\n",
              "      border-color: transparent;\n",
              "      border-right-color: var(--fill-color);\n",
              "      border-bottom-color: var(--fill-color);\n",
              "    }\n",
              "    90% {\n",
              "      border-color: transparent;\n",
              "      border-bottom-color: var(--fill-color);\n",
              "    }\n",
              "  }\n",
              "</style>\n",
              "\n",
              "  <script>\n",
              "    async function quickchart(key) {\n",
              "      const quickchartButtonEl =\n",
              "        document.querySelector('#' + key + ' button');\n",
              "      quickchartButtonEl.disabled = true;  // To prevent multiple clicks.\n",
              "      quickchartButtonEl.classList.add('colab-df-spinner');\n",
              "      try {\n",
              "        const charts = await google.colab.kernel.invokeFunction(\n",
              "            'suggestCharts', [key], {});\n",
              "      } catch (error) {\n",
              "        console.error('Error during call to suggestCharts:', error);\n",
              "      }\n",
              "      quickchartButtonEl.classList.remove('colab-df-spinner');\n",
              "      quickchartButtonEl.classList.add('colab-df-quickchart-complete');\n",
              "    }\n",
              "    (() => {\n",
              "      let quickchartButtonEl =\n",
              "        document.querySelector('#df-77533f74-6e53-4583-bcb1-d3e352d6f1bf button');\n",
              "      quickchartButtonEl.style.display =\n",
              "        google.colab.kernel.accessAllowed ? 'block' : 'none';\n",
              "    })();\n",
              "  </script>\n",
              "</div>\n",
              "\n",
              "    </div>\n",
              "  </div>\n"
            ],
            "application/vnd.google.colaboratory.intrinsic+json": {
              "type": "dataframe",
              "variable_name": "train_prompts",
              "summary": "{\n  \"name\": \"train_prompts\",\n  \"rows\": 2,\n  \"fields\": [\n    {\n      \"column\": \"prompt_id\",\n      \"properties\": {\n        \"dtype\": \"number\",\n        \"std\": 0,\n        \"min\": 0,\n        \"max\": 1,\n        \"num_unique_values\": 2,\n        \"samples\": [\n          1,\n          0\n        ],\n        \"semantic_type\": \"\",\n        \"description\": \"\"\n      }\n    },\n    {\n      \"column\": \"prompt_name\",\n      \"properties\": {\n        \"dtype\": \"string\",\n        \"num_unique_values\": 2,\n        \"samples\": [\n          \"Does the electoral college work?\",\n          \"Car-free cities\"\n        ],\n        \"semantic_type\": \"\",\n        \"description\": \"\"\n      }\n    },\n    {\n      \"column\": \"instructions\",\n      \"properties\": {\n        \"dtype\": \"string\",\n        \"num_unique_values\": 2,\n        \"samples\": [\n          \"Write a letter to your state senator in which you argue in favor of keeping the Electoral College or changing to election by popular vote for the president of the United States. Use the information from the texts in your essay. Manage your time carefully so that you can read the passages; plan your response; write your response; and revise and edit your response. Be sure to include a claim; address counterclaims; use evidence from multiple sources; and avoid overly relying on one source. Your response should be in the form of a multiparagraph essay. Write your response in the space provided.\",\n          \"Write an explanatory essay to inform fellow citizens about the advantages of limiting car usage. Your essay must be based on ideas and information that can be found in the passage set. Manage your time carefully so that you can read the passages; plan your response; write your response; and revise and edit your response. Be sure to use evidence from multiple sources; and avoid overly relying on one source. Your response should be in the form of a multiparagraph essay. Write your essay in the space provided.\"\n        ],\n        \"semantic_type\": \"\",\n        \"description\": \"\"\n      }\n    },\n    {\n      \"column\": \"source_text\",\n      \"properties\": {\n        \"dtype\": \"string\",\n        \"num_unique_values\": 2,\n        \"samples\": [\n          \"# What Is the Electoral College? by the Office of the Federal Register\\n\\n1 The Electoral College is a process, not a place. The founding fathers established it in the Constitution as a compromise between election of the President by a vote in Congress and election of the President by a popular vote of qualified citizens.\\n\\n2 The Electoral College process consists of the selection of the electors, the meeting of the electors where they vote for President and Vice President, and the counting of the electoral votes by Congress.\\n\\n3 The Electoral College consists of 538 electors. A majority of 270 electoral votes is required to elect the President. Your state\\u2019s entitled allotment of electors equals the number of members in its Congressional delegation: one for each member in the House of Representatives plus two for your Senators. . . .\\n\\n4 Under the 23rd Amendment of the Constitution, the District of Columbia is allocated 3 electors and treated like a state for purposes of the Electoral College. For this reason, in the following discussion, the word \\u201cstate\\u201d also refers to the District of Columbia.\\n\\n5 Each candidate running for President in your state has his or her own group of electors. The electors are generally chosen by the candidate\\u2019s political party, but state laws vary on how the electors are selected and what their responsibilities are. . . .\\n\\n6 The presidential election is held every four years on the Tuesday after the first Monday in November. You help choose your state\\u2019s electors when you vote for President because when you vote for your candidate you are actually voting for your candidate\\u2019s electors.\\n\\n7 Most states have a \\u201cwinner-take-all\\u201d system that awards all electors to the winning presidential candidate. However, Maine and Nebraska each have a variation of \\u201cproportional representation.\\u201d . . .\\n\\n8 After the presidential election, your governor prepares a \\u201cCertificate of Ascertainment\\u201d listing all of the candidates who ran for President in your state along with the names of their respective electors. The Certificate of Ascertainment also declares the winning presidential candidate in your state and shows which electors will represent your state at the meeting of the electors in December of the election year. Your state\\u2019s Certificates of Ascertainments are sent to the Congress and the National Archives as part of the official records of the presidential election.\\n\\n# The Indefensible Electoral College: Why even the best-laid defenses of the system are wrong by Bradford Plumer\\n\\n9 What have Richard Nixon, Jimmy Carter, Bob Dole, the U.S. Chamber of Commerce, and the AFL-CIO all, in their time, agreed on? Answer: Abolishing the electoral college! They\\u2019re not alone; according to a Gallup poll in 2000, taken shortly after Al Gore\\u2014thanks to the quirks of the electoral college\\u2014won the popular vote but lost the presidency,1 over 60 percent of voters would prefer a direct election to the kind we have now. This year voters can expect another close election in which the popular vote winner could again lose the presidency. And yet, the electoral college still has its defenders. What gives? . . . What\\u2019s wrong with the electoral college\\n\\n10 Under the electoral college system, voters vote not for the president, but for a slate of electors, who in turn elect the president. If you lived in Texas, for instance, and wanted to vote for John Kerry, you\\u2019d vote for a slate of 34 Democratic electors pledged to Kerry. On the offchance that those electors won the statewide election, they would go to Congress and Kerry would get 34 electoral votes. Who are the electors? They can be anyone not holding public office. Who picks the electors in the first place? It depends on the state. Sometimes state conventions, sometimes the state party\\u2019s central committee, sometimes the presidential candidates themselves. Can voters control whom their electors vote for? Not always. Do voters sometimes get confused about the electors and vote for the wrong candidate? Sometimes.\\n\\n11 The single best argument against the electoral college is what we might call the disaster factor. The American people should consider themselves lucky that the 2000 fiasco was the biggest election crisis in a century; the system allows for much worse. Consider that state legislatures are technically responsible for picking electors, and that those electors could always defy the will of the people. Back in 1960, segregationists in the Louisiana legislature nearly succeeded in replacing the Democratic electors with new electors who would oppose John F. Kennedy. (So that a popular vote for Kennedy would not have actually gone to Kennedy.) In the same vein, \\u201cfaithless\\u201d electors have occasionally refused to vote for their party\\u2019s candidate and cast a deciding vote for whomever they please. . . . Oh, and what if a state sends two slates of electors to Congress? It happened in Hawaii in 1960. Luckily, Vice President Richard Nixon, who was presiding over the Senate, validated only his opponent\\u2019s electors, but he made sure to do so \\u201cwithout establishing a precedent.\\u201d What if it happened again?\\n\\n12 Perhaps most worrying is the prospect of a tie in the electoral vote. In that case, the election would be thrown to the House of Representatives, where state delegations vote on the president. (The Senate would choose the vice-president.) Because each state casts only one vote, the single representative from Wyoming, representing 500,000 voters, would have as much say as the 55 representatives from California, who represent 35 million voters. Given that many voters vote one party for president and another for Congress, the House\\u2019s selection can hardly be expected to reflect the will of the people. And if an electoral tie seems unlikely, consider this: In 1968, a shift of just 41,971 votes would have deadlocked the election; In 1976, a tie would have occurred if a mere 5,559 voters in Ohio and 3,687 voters in Hawaii had voted the other way. The election is only a few swing voters away from catastrophe.\\n\\n13 At the most basic level, the electoral college is unfair to voters. Because of the winner-takeall system in each state, candidates don't spend time in states they know they have no chance of winning, focusing only on the tight races in the \\u201cswing\\u201d states. During the 2000 campaign, seventeen states didn\\u2019t see the candidates at all, including Rhode Island and South Carolina, and voters in 25 of the largest media markets didn\\u2019t get to see a single campaign ad. If anyone has a good argument for putting the fate of the presidency in the hands of a few swing voters in Ohio, they have yet to make it. . . .\\n\\n14 It\\u2019s official: The electoral college is unfair, outdated, and irrational. The best arguments in favor of it are mostly assertions without much basis in reality. And the arguments against direct elections are spurious at best. It\\u2019s hard to say this, but Bob Dole was right: Abolish the electoral college!\\n\\n# In Defense of the Electoral College: Five reasons to keep our despised method of choosing the President by Judge Richard A. Posner\\n\\n15 The Electoral College is widely regarded as an anachronism,1 a non-democratic method of selecting a president that ought to be overruled by declaring the candidate who receives the most popular votes the winner. The advocates of this position are correct in arguing that the Electoral College method is not democratic in a modern sense . . . it is the electors who elect the president, not the people. When you vote for a presidential candidate you\\u2019re actually voting for a slate of electors.\\n\\n16 But each party selects a slate of electors trusted to vote for the party\\u2019s nominee (and that trust is rarely betrayed) . . . however, it is entirely possible that the winner of the electoral vote will not win the national popular vote. Yet that has happened very rarely. It happened in 2000, when Gore had more popular votes than Bush yet fewer electoral votes, but that was the first time since 1888.\\n\\n17 There are five reasons for retaining the Electoral College despite its lack of democratic pedigree;2 all are practical reasons, not liberal or conservative3 reasons.\\n\\n## 1) Certainty of Outcome\\n\\n18 A dispute over the outcome of an Electoral College vote is possible\\u2014--it happened in 2000--\\u2014but it\\u2019s less likely than a dispute over the popular vote. The reason is that the winning candidate\\u2019s share of the Electoral College invariably exceeds his share of the popular vote. In 2012\\u2019s election, for example, Obama4 received 61.7 percent of the electoral vote compared to only 51.3 percent of the popular votes cast for him and Romney.5 . . . Because almost all states award electoral votes on a winner-take-all basis, even a very slight plurality6 in a state creates a landslide electoral-vote victory in that state. A tie in the nationwide electoral vote is possible because the total number of votes\\u2014--538\\u2014--is an even number, but it is highly unlikely. . . .\\n\\n## 2) Everyone\\u2019s President\\n\\n19 The Electoral College requires a presidential candidate to have trans-regional appeal. No region (South, Northeast, etc.) has enough electoral votes to elect a president. So a solid regional favorite, such as Romney was in the South, has no incentive to campaign heavily in those states, for he gains no electoral votes by increasing his plurality in states that he knows he will win. This is a desirable result because a candidate with only regional appeal is unlikely to be a successful president. The residents of the other regions are likely to feel disenfranchised\\u2014to feel that their votes do not count, that the new president will have no regard for their interests, that he really isn\\u2019t their president.\\n\\n## 3) Swing States\\n\\n20 The winner-take-all method of awarding electoral votes induces the candidates\\u2014as we saw in 2012\\u2019s election\\u2014to focus their campaign efforts on the toss-up states . . . . Voters in toss-up states are more likely to pay close attention to the campaign\\u2014to really listen to the competing candidates\\u2014knowing that they are going to decide the election. They are likely to be the most thoughtful voters, on average (and for the further reason that they will have received the most information and attention from the candidates), and the most thoughtful voters should be the ones to decide the election.\\n\\n## 4) Big States\\n\\n21 The Electoral College restores some of the weight in the political balance that large states (by population) lose by virtue of the mal-apportionment of the Senate decreed in the Constitution. . . . The popular vote was very close in Florida in 2012; nevertheless Obama, who won that vote, got 29 electoral votes. A victory by the same margin in Wyoming would net the winner only 3 electoral votes. So, other things being equal, a large state gets more attention from presidential candidates in a campaign than a small state does. . . .\\n\\n## 5) Avoid Run-Off Elections\\n\\n22 The Electoral College avoids the problem of elections in which no candidate receives a majority of the votes cast. For example, Nixon in 1968 and Clinton in 1992 both had only a 43 percent plurality of the popular votes, while winning a majority in the Electoral College (301 and 370 electoral votes, respectively). There is pressure for run-off elections when no candidate wins a majority of the votes cast; that pressure, which would greatly complicate the presidential election process, is reduced by the Electoral College, which invariably produces a clear winner. . . .\\n\\n23 It can be argued that the Electoral College method of selecting the president may turn off potential voters for a candidate who has no hope of carrying their state\\u2014Democrats in Texas, for example, or Republicans in California. Knowing their vote will have no effect, they have less incentive to pay attention to the campaign than they would have if the president were picked by popular vote . . . . But of course no voter\\u2019s vote swings a national election, and in spite of that, about one-half the eligible American population did vote in 2012\\u2019s election. Voters in presidential elections are people who want to express a political preference rather than people who think that a single vote may decide an election. . . .\\n\",\n          \"# In German Suburb, Life Goes On Without Cars by Elisabeth Rosenthal\\n\\n1 VAUBAN, Germany\\u2014Residents of this upscale community are suburban pioneers, going where few soccer moms or commuting executives have ever gone before: they have given up their cars.\\n\\n2 Street parking, driveways and home garages are generally forbidden in this experimental new district on the outskirts of Freiburg, near the French and Swiss borders. Vauban\\u2019s streets are completely \\u201ccar-free\\u201d\\u2014except the main thoroughfare, where the tram to downtown Freiburg runs, and a few streets on one edge of the community. Car ownership is allowed, but there are only two places to park\\u2014large garages at the edge of the development, where a car-owner buys a space, for $40,000, along with a home.\\n\\n3 As a result, 70 percent of Vauban\\u2019s families do not own cars, and 57 percent sold a car to move here. \\u201cWhen I had a car I was always tense. I\\u2019m much happier this way,\\u201d said Heidrun Walter, a media trainer and mother of two, as she walked verdant streets where the swish of bicycles and the chatter of wandering children drown out the occasional distant motor.\\n\\n4 Vauban, completed in 2006, is an example of a growing trend in Europe, the United States and elsewhere to separate suburban life from auto use, as a component of a movement called \\u201csmart planning.\\u201d\\n\\n5 Automobiles are the linchpin of suburbs, where middle-class families from Chicago to Shanghai tend to make their homes. And that, experts say, is a huge impediment to current efforts to drastically reduce greenhouse gas emissions from tailpipes . . . . Passenger cars are responsible for 12 percent of greenhouse gas emissions in Europe . . . and up to 50 percent in some car-intensive areas in the United States.\\n\\n6 While there have been efforts in the past two decades to make cities denser, and better for walking, planners are now taking the concept to the suburbs . . . . Vauban, home to 5,500 residents within a rectangular square mile, may be the most advanced experiment in low-car suburban life. But its basic precepts are being adopted around the world in attempts to make suburbs more compact and more accessible to public transportation, with less space for parking. In this new approach, stores are placed a walk away, on a main street, rather than in malls along some distant highway.\\n\\n7 \\u201cAll of our development since World War II has been centered on the car, and that will have to change,\\u201d said David Goldberg, an official of Transportation for America, a fast-growing coalition of hundreds of groups in the United States . . . who are promoting new communities that are less dependent on cars. Mr. Goldberg added: \\u201cHow much you drive is as important as whether you have a hybrid.\\u201d\\n\\n8 Levittown and Scarsdale, New York suburbs with spread-out homes and private garages, were the dream towns of the 1950s and still exert a strong appeal. But some new suburbs may well look more Vauban-like, not only in developed countries but also in the developing world, where emissions from an increasing number of private cars owned by the burgeoning middle class are choking cities.\\n\\n9 In the United States, the Environmental Protection Agency is promoting \\u201ccar reduced\\u201d communities, and legislators are starting to act, if cautiously. Many experts expect public transport serving suburbs to play a much larger role in a new six-year federal transportation bill to be approved this year, Mr. Goldberg said. In previous bills, 80 percent of appropriations have by law gone to highways and only 20 percent to other transport. \\n\\nExcerpt from \\u201cIn German Suburb, Life Goes On Without Cars\\u201d by Elisabeth Rosenthal, from the New York Times. Copyright \\u00a9 2009 by the New York Times Company. Reprinted by permission of the New York Times Company via Copyright Clearance Center.\\n\\n# Paris bans driving due to smog by Robert Duffer\\n\\n10 After days of near-record pollution, Paris enforced a partial driving ban to clear the air of the global city.\\n\\n11 On Monday motorists with even-numbered license plates were ordered to leave their cars at home or suffer a 22-euro fine ($31). The same would apply to odd-numbered plates the following day.\\n\\n12 Almost 4,000 drivers were fined, according to Reuters1 . . . [Twenty-seven] people had their cars impounded for their reaction to the fine.\\n\\n13 That\\u2019s easier to imagine than a car-free Champs-Elysees.2\\n\\n14 Congestion 3 was down 60 percent in the capital of France, after five-days of intensifying smog . . . [The smog] rivaled Beijing, China, which is known as one of the most polluted cities in the world.\\n\\n15 Cold nights and warm days caused the warmer layer of air to trap car emissions.\\n\\n16 Diesel fuel was blamed, since France has . . . [a] tax policy that favors diesel over gasoline. Diesels make up 67 percent of vehicles in France, compared to a 53.3 percent average of diesel engines in the rest of Western Europe, according to Reuters.\\n\\n17 Paris typically has more smog than other European capitals . . . [Last] week Paris had 147 micrograms of particulate matter (PM) per cubic meter compared with 114 in Brussels and 79.7 in London, Reuters found.\\n\\n18 Delivery companies complained of lost revenue, while exceptions were made for plug-in cars, hybrids, and cars carrying three or more passengers. Public transit was free of charge from Friday to Monday, according to the BBC.\\n\\n19 The smog cleared enough Monday for the ruling French party to rescind the ban for oddnumbered plates on Tuesday. 1\\n\\nExcerpt from \\u201cParis bans driving due to smog\\u201d by Robert Duffer, from the Chicago Tribune. Copyright \\u00a9 2014 by the Chicago Tribune. Reprinted by permission of the Chicago Tribune via Copyright Clearance Center.\\n\\n# Car-free day is spinning into a big hit in Bogota by Andrew Selsky\\n\\nBOGOTA, Colombia\\u2014In a program that\\u2019s set to spread to other countries, millions of Colombians hiked, biked, skated or took buses to work during a car-free day yesterday, leaving the streets of this capital city eerily devoid of traffic jams.\\n\\n21 It was the third straight year cars have been banned with only buses and taxis permitted for the Day Without Cars in this capital city of 7 million. The goal is to promote alternative transportation and reduce smog. Violators faced $25 fines.\\n\\n22 The turnout was large, despite gray clouds that dumped occasional rain showers on Bogota.\\n\\n23 \\u201cThe rain hasn\\u2019t stopped people from participating,\\u201d said Bogota Mayor Antanas Mockus . . . .\\n\\n24 \\u201cIt\\u2019s a good opportunity to take away stress and lower air pollution,\\u201d said businessman Carlos Arturo Plaza as he rode a two-seat bicycle with his wife.\\n\\n25 For the first time, two other Colombian cities, Cali and Valledupar, joined the event.\\n\\n26 Municipal authorities from other countries came to Bogota to see the event and were enthusiastic. \\u201cThese people are generating a revolutionary change, and this is crossing borders,\\u201d said Enrique Riera, the mayor of Asunci\\u00f3n, Paraguay. . . .\\n\\n27 The day without cars is part of an improvement campaign that began in Bogota in the mid1990s. It has seen the construction of 118 miles of bicycle paths, the most of any Latin American city, according to Mockus, the city\\u2019s mayor.\\n\\n28 Parks and sports centers also have bloomed throughout the city; uneven, pitted sidewalks have been replaced by broad, smooth sidewalks; rush-hour restrictions have dramatically cut traffic; and new restaurants and upscale shopping districts have cropped up.\\n\\nExcerpt from \\u201cCar-free day is spinning into a big hit in Bogota\\u201d by Andrew Selsky, from the Seattle Times. Copyright \\u00a9 2002 by the Seattle Times Company. Reprinted by permission of the Seattle Times Company via Copyright Clearance Center.\\n\\n# The End of Car Culture by Elisabeth Rosenthal\\n\\n29 President Obama\\u2019s ambitious goals to curb the United States\\u2019 greenhouse gas emissions, unveiled last week, will get a fortuitous assist from an incipient1 shift in American behavior: recent studies suggest that Americans are buying fewer cars, driving less and getting fewer licenses as each year goes by.\\n\\n30 That has left researchers pondering a fundamental question: Has America passed peak driving?\\n\\n31 The United States, with its broad expanses and suburban ideals, had long been one of the world\\u2019s prime car cultures. It is the birthplace of the Model T; the home of Detroit; the place where Wilson Pickett immortalized \\u201cMustang Sally\\u201d . . . .\\n\\n32 But America\\u2019s love affair with its vehicles seems to be cooling. When adjusted for population growth, the number of miles driven in the United States peaked in 2005 and dropped steadily thereafter, according to an analysis by Doug Short of Advisor Perspectives, an investment research company. As of April 2013, the number of miles driven per person was nearly 9 percent below the peak and equal to where the country was in January 1995. Part of the explanation certainly lies in the recession, because cash-strapped Americans could not afford new cars, and the unemployed weren\\u2019t going to work anyway. But by many measures the decrease in driving preceded the downturn and appears to be persisting now that recovery is under way. The next few years will be telling.\\n\\n33 \\u201cWhat most intrigues me is that rates of car ownership per household and per person started to come down two to three years before the downturn,\\u201d said Michael Sivak, who studies the trend and who is a research professor at the University of Michigan\\u2019s Transportation Research Institute. \\u201cI think that means something more fundamental is going on.\\u201d\\n\\n34 If the pattern persists\\u2014and many sociologists believe it will\\u2014it will have beneficial implications for carbon emissions and the environment, since transportation is the second largest source of America\\u2019s emissions, just behind power plants. But it could have negative implications for the car industry. Indeed, companies like Ford and Mercedes are already rebranding themselves \\u201cmobility\\u201d companies with a broader product range beyond the personal vehicle.\\n\\n35 \\u201cDifferent things are converging which suggest that we are witnessing a long-term cultural shift,\\u201d said Mimi Sheller, a sociology professor at Drexel University and director of its Mobilities Research and Policy Center. She cites various factors: the Internet makes telecommuting possible and allows people to feel more connected without driving to meet friends. The renewal of center cities has made the suburbs less appealing and has drawn empty nesters back in. Likewise the rise in cellphones and car-pooling apps has facilitated more flexible commuting arrangements, including the evolution of shared van services for getting to work.\\n\\n36 With all these changes, people who stopped car commuting as a result of the recession may find less reason to resume the habit. . . .\\n\\n37 New York\\u2019s new bike-sharing program and its skyrocketing bridge and tunnel tolls reflect those new priorities, as do a proliferation of car-sharing programs across the nation.\\n\\n38 Demographic shifts in the driving population suggest that the trend may accelerate. There has been a large drop in the percentage of 16- to 39-year-olds getting a license, while older people are likely to retain their licenses as they age, Mr. Sivak\\u2019s research has found.\\n\\n39 He and I have similar observations about our children. Mine (19 and 21) have not bothered to get a driver\\u2019s license, even though they both live in places where one could come in handy. They are interested, but it\\u2019s not a priority. They organize their summer jobs and social life around where they can walk or take public transportation or car-pool with friends.\\n\\n40 Mr. Sivak\\u2019s son lives in San Francisco and has a car but takes Bay Area Rapid Transit, when he can, even though that often takes longer than driving. \\u201cWhen I was in my 20s and 30s,\\u201d Mr. Sivak said, \\u201cI was curious about what kind of car people drove, but young people don\\u2019t really care. A car is just a means of getting from A to B when BART doesn\\u2019t work.\\u201d\\n\\n41 A study last year found that driving by young people decreased 23 percent between 2001 and 2009. . . .\\n\\n42 Whether members of the millennial generation will start buying more cars once they have kids to take to soccer practice and school plays remains an open question. But such projections have important business implications, even if car buyers are merely older or buying fewer cars in a lifetime rather than rejecting car culture outright.\\n\\n43 At the Mobile World Congress last year in Barcelona, Spain, Bill Ford, executive chairman of the Ford Motor Company, laid out a business plan for a world in which personal vehicle ownership is impractical or undesirable. He proposed partnering with the telecommunications industry to create cities in which \\u201cpedestrian, bicycle, private cars, commercial and public transportation traffic are woven into a connected network to save time, conserve resources, lower emissions and improve safety.\\u201d\\n\\nExcerpt from \\u201cThe End of Car Culture\\u201d by Elisabeth Rosenthal, from the New York Times. Copyright \\u00a9 2013 by the New York Times Company. Reprinted by permission of the New York Times Company via Copyright Clearance Center.\\n\"\n        ],\n        \"semantic_type\": \"\",\n        \"description\": \"\"\n      }\n    }\n  ]\n}"
            }
          },
          "metadata": {},
          "execution_count": 15
        }
      ]
    },
    {
      "cell_type": "code",
      "source": [
        "train_prompts.info()"
      ],
      "metadata": {
        "id": "AGv4WHGBPGNX",
        "colab": {
          "base_uri": "https://localhost:8080/"
        },
        "outputId": "589e295f-7e7b-4cd0-a074-f29800552bd5"
      },
      "execution_count": null,
      "outputs": [
        {
          "output_type": "stream",
          "name": "stdout",
          "text": [
            "<class 'pandas.core.frame.DataFrame'>\n",
            "RangeIndex: 2 entries, 0 to 1\n",
            "Data columns (total 4 columns):\n",
            " #   Column        Non-Null Count  Dtype \n",
            "---  ------        --------------  ----- \n",
            " 0   prompt_id     2 non-null      int64 \n",
            " 1   prompt_name   2 non-null      object\n",
            " 2   instructions  2 non-null      object\n",
            " 3   source_text   2 non-null      object\n",
            "dtypes: int64(1), object(3)\n",
            "memory usage: 192.0+ bytes\n"
          ]
        }
      ]
    },
    {
      "cell_type": "code",
      "source": [
        "train_prompts.prompt_id.unique()"
      ],
      "metadata": {
        "id": "6HE3CuqGO7Vj",
        "colab": {
          "base_uri": "https://localhost:8080/"
        },
        "outputId": "848be1a1-c775-4601-98ae-399245bf2b6c"
      },
      "execution_count": null,
      "outputs": [
        {
          "output_type": "execute_result",
          "data": {
            "text/plain": [
              "array([0, 1])"
            ]
          },
          "metadata": {},
          "execution_count": 17
        }
      ]
    },
    {
      "cell_type": "code",
      "source": [
        "train_prompts.instructions[0]"
      ],
      "metadata": {
        "id": "iUrtBJEJO0XO",
        "colab": {
          "base_uri": "https://localhost:8080/",
          "height": 83
        },
        "outputId": "c0ea9716-fc84-41fc-8f9f-49faa43c4223"
      },
      "execution_count": null,
      "outputs": [
        {
          "output_type": "execute_result",
          "data": {
            "text/plain": [
              "'Write an explanatory essay to inform fellow citizens about the advantages of limiting car usage. Your essay must be based on ideas and information that can be found in the passage set. Manage your time carefully so that you can read the passages; plan your response; write your response; and revise and edit your response. Be sure to use evidence from multiple sources; and avoid overly relying on one source. Your response should be in the form of a multiparagraph essay. Write your essay in the space provided.'"
            ],
            "application/vnd.google.colaboratory.intrinsic+json": {
              "type": "string"
            }
          },
          "metadata": {},
          "execution_count": 18
        }
      ]
    },
    {
      "cell_type": "code",
      "source": [
        "train_prompts.instructions[1]"
      ],
      "metadata": {
        "id": "lyfO0TpYQr-A",
        "colab": {
          "base_uri": "https://localhost:8080/",
          "height": 100
        },
        "outputId": "f439ee70-f12c-49bb-9f49-6af9ffd1a858"
      },
      "execution_count": null,
      "outputs": [
        {
          "output_type": "execute_result",
          "data": {
            "text/plain": [
              "'Write a letter to your state senator in which you argue in favor of keeping the Electoral College or changing to election by popular vote for the president of the United States. Use the information from the texts in your essay. Manage your time carefully so that you can read the passages; plan your response; write your response; and revise and edit your response. Be sure to include a claim; address counterclaims; use evidence from multiple sources; and avoid overly relying on one source. Your response should be in the form of a multiparagraph essay. Write your response in the space provided.'"
            ],
            "application/vnd.google.colaboratory.intrinsic+json": {
              "type": "string"
            }
          },
          "metadata": {},
          "execution_count": 19
        }
      ]
    },
    {
      "cell_type": "code",
      "source": [
        "train_prompts.source_text[0]"
      ],
      "metadata": {
        "id": "X1vj-pHFSOyd",
        "colab": {
          "base_uri": "https://localhost:8080/",
          "height": 149
        },
        "outputId": "49d24de7-7086-42ed-99d4-1871d44d5441"
      },
      "execution_count": null,
      "outputs": [
        {
          "output_type": "execute_result",
          "data": {
            "text/plain": [
              "'# In German Suburb, Life Goes On Without Cars by Elisabeth Rosenthal\\n\\n1 VAUBAN, Germany—Residents of this upscale community are suburban pioneers, going where few soccer moms or commuting executives have ever gone before: they have given up their cars.\\n\\n2 Street parking, driveways and home garages are generally forbidden in this experimental new district on the outskirts of Freiburg, near the French and Swiss borders. Vauban’s streets are completely “car-free”—except the main thoroughfare, where the tram to downtown Freiburg runs, and a few streets on one edge of the community. Car ownership is allowed, but there are only two places to park—large garages at the edge of the development, where a car-owner buys a space, for $40,000, along with a home.\\n\\n3 As a result, 70 percent of Vauban’s families do not own cars, and 57 percent sold a car to move here. “When I had a car I was always tense. I’m much happier this way,” said Heidrun Walter, a media trainer and mother of two, as she walked verdant streets where the swish of bicycles and the chatter of wandering children drown out the occasional distant motor.\\n\\n4 Vauban, completed in 2006, is an example of a growing trend in Europe, the United States and elsewhere to separate suburban life from auto use, as a component of a movement called “smart planning.”\\n\\n5 Automobiles are the linchpin of suburbs, where middle-class families from Chicago to Shanghai tend to make their homes. And that, experts say, is a huge impediment to current efforts to drastically reduce greenhouse gas emissions from tailpipes . . . . Passenger cars are responsible for 12 percent of greenhouse gas emissions in Europe . . . and up to 50 percent in some car-intensive areas in the United States.\\n\\n6 While there have been efforts in the past two decades to make cities denser, and better for walking, planners are now taking the concept to the suburbs . . . . Vauban, home to 5,500 residents within a rectangular square mile, may be the most advanced experiment in low-car suburban life. But its basic precepts are being adopted around the world in attempts to make suburbs more compact and more accessible to public transportation, with less space for parking. In this new approach, stores are placed a walk away, on a main street, rather than in malls along some distant highway.\\n\\n7 “All of our development since World War II has been centered on the car, and that will have to change,” said David Goldberg, an official of Transportation for America, a fast-growing coalition of hundreds of groups in the United States . . . who are promoting new communities that are less dependent on cars. Mr. Goldberg added: “How much you drive is as important as whether you have a hybrid.”\\n\\n8 Levittown and Scarsdale, New York suburbs with spread-out homes and private garages, were the dream towns of the 1950s and still exert a strong appeal. But some new suburbs may well look more Vauban-like, not only in developed countries but also in the developing world, where emissions from an increasing number of private cars owned by the burgeoning middle class are choking cities.\\n\\n9 In the United States, the Environmental Protection Agency is promoting “car reduced” communities, and legislators are starting to act, if cautiously. Many experts expect public transport serving suburbs to play a much larger role in a new six-year federal transportation bill to be approved this year, Mr. Goldberg said. In previous bills, 80 percent of appropriations have by law gone to highways and only 20 percent to other transport. \\n\\nExcerpt from “In German Suburb, Life Goes On Without Cars” by Elisabeth Rosenthal, from the New York Times. Copyright © 2009 by the New York Times Company. Reprinted by permission of the New York Times Company via Copyright Clearance Center.\\n\\n# Paris bans driving due to smog by Robert Duffer\\n\\n10 After days of near-record pollution, Paris enforced a partial driving ban to clear the air of the global city.\\n\\n11 On Monday motorists with even-numbered license plates were ordered to leave their cars at home or suffer a 22-euro fine ($31). The same would apply to odd-numbered plates the following day.\\n\\n12 Almost 4,000 drivers were fined, according to Reuters1 . . . [Twenty-seven] people had their cars impounded for their reaction to the fine.\\n\\n13 That’s easier to imagine than a car-free Champs-Elysees.2\\n\\n14 Congestion 3 was down 60 percent in the capital of France, after five-days of intensifying smog . . . [The smog] rivaled Beijing, China, which is known as one of the most polluted cities in the world.\\n\\n15 Cold nights and warm days caused the warmer layer of air to trap car emissions.\\n\\n16 Diesel fuel was blamed, since France has . . . [a] tax policy that favors diesel over gasoline. Diesels make up 67 percent of vehicles in France, compared to a 53.3 percent average of diesel engines in the rest of Western Europe, according to Reuters.\\n\\n17 Paris typically has more smog than other European capitals . . . [Last] week Paris had 147 micrograms of particulate matter (PM) per cubic meter compared with 114 in Brussels and 79.7 in London, Reuters found.\\n\\n18 Delivery companies complained of lost revenue, while exceptions were made for plug-in cars, hybrids, and cars carrying three or more passengers. Public transit was free of charge from Friday to Monday, according to the BBC.\\n\\n19 The smog cleared enough Monday for the ruling French party to rescind the ban for oddnumbered plates on Tuesday. 1\\n\\nExcerpt from “Paris bans driving due to smog” by Robert Duffer, from the Chicago Tribune. Copyright © 2014 by the Chicago Tribune. Reprinted by permission of the Chicago Tribune via Copyright Clearance Center.\\n\\n# Car-free day is spinning into a big hit in Bogota by Andrew Selsky\\n\\nBOGOTA, Colombia—In a program that’s set to spread to other countries, millions of Colombians hiked, biked, skated or took buses to work during a car-free day yesterday, leaving the streets of this capital city eerily devoid of traffic jams.\\n\\n21 It was the third straight year cars have been banned with only buses and taxis permitted for the Day Without Cars in this capital city of 7 million. The goal is to promote alternative transportation and reduce smog. Violators faced $25 fines.\\n\\n22 The turnout was large, despite gray clouds that dumped occasional rain showers on Bogota.\\n\\n23 “The rain hasn’t stopped people from participating,” said Bogota Mayor Antanas Mockus . . . .\\n\\n24 “It’s a good opportunity to take away stress and lower air pollution,” said businessman Carlos Arturo Plaza as he rode a two-seat bicycle with his wife.\\n\\n25 For the first time, two other Colombian cities, Cali and Valledupar, joined the event.\\n\\n26 Municipal authorities from other countries came to Bogota to see the event and were enthusiastic. “These people are generating a revolutionary change, and this is crossing borders,” said Enrique Riera, the mayor of Asunción, Paraguay. . . .\\n\\n27 The day without cars is part of an improvement campaign that began in Bogota in the mid1990s. It has seen the construction of 118 miles of bicycle paths, the most of any Latin American city, according to Mockus, the city’s mayor.\\n\\n28 Parks and sports centers also have bloomed throughout the city; uneven, pitted sidewalks have been replaced by broad, smooth sidewalks; rush-hour restrictions have dramatically cut traffic; and new restaurants and upscale shopping districts have cropped up.\\n\\nExcerpt from “Car-free day is spinning into a big hit in Bogota” by Andrew Selsky, from the Seattle Times. Copyright © 2002 by the Seattle Times Company. Reprinted by permission of the Seattle Times Company via Copyright Clearance Center.\\n\\n# The End of Car Culture by Elisabeth Rosenthal\\n\\n29 President Obama’s ambitious goals to curb the United States’ greenhouse gas emissions, unveiled last week, will get a fortuitous assist from an incipient1 shift in American behavior: recent studies suggest that Americans are buying fewer cars, driving less and getting fewer licenses as each year goes by.\\n\\n30 That has left researchers pondering a fundamental question: Has America passed peak driving?\\n\\n31 The United States, with its broad expanses and suburban ideals, had long been one of the world’s prime car cultures. It is the birthplace of the Model T; the home of Detroit; the place where Wilson Pickett immortalized “Mustang Sally” . . . .\\n\\n32 But America’s love affair with its vehicles seems to be cooling. When adjusted for population growth, the number of miles driven in the United States peaked in 2005 and dropped steadily thereafter, according to an analysis by Doug Short of Advisor Perspectives, an investment research company. As of April 2013, the number of miles driven per person was nearly 9 percent below the peak and equal to where the country was in January 1995. Part of the explanation certainly lies in the recession, because cash-strapped Americans could not afford new cars, and the unemployed weren’t going to work anyway. But by many measures the decrease in driving preceded the downturn and appears to be persisting now that recovery is under way. The next few years will be telling.\\n\\n33 “What most intrigues me is that rates of car ownership per household and per person started to come down two to three years before the downturn,” said Michael Sivak, who studies the trend and who is a research professor at the University of Michigan’s Transportation Research Institute. “I think that means something more fundamental is going on.”\\n\\n34 If the pattern persists—and many sociologists believe it will—it will have beneficial implications for carbon emissions and the environment, since transportation is the second largest source of America’s emissions, just behind power plants. But it could have negative implications for the car industry. Indeed, companies like Ford and Mercedes are already rebranding themselves “mobility” companies with a broader product range beyond the personal vehicle.\\n\\n35 “Different things are converging which suggest that we are witnessing a long-term cultural shift,” said Mimi Sheller, a sociology professor at Drexel University and director of its Mobilities Research and Policy Center. She cites various factors: the Internet makes telecommuting possible and allows people to feel more connected without driving to meet friends. The renewal of center cities has made the suburbs less appealing and has drawn empty nesters back in. Likewise the rise in cellphones and car-pooling apps has facilitated more flexible commuting arrangements, including the evolution of shared van services for getting to work.\\n\\n36 With all these changes, people who stopped car commuting as a result of the recession may find less reason to resume the habit. . . .\\n\\n37 New York’s new bike-sharing program and its skyrocketing bridge and tunnel tolls reflect those new priorities, as do a proliferation of car-sharing programs across the nation.\\n\\n38 Demographic shifts in the driving population suggest that the trend may accelerate. There has been a large drop in the percentage of 16- to 39-year-olds getting a license, while older people are likely to retain their licenses as they age, Mr. Sivak’s research has found.\\n\\n39 He and I have similar observations about our children. Mine (19 and 21) have not bothered to get a driver’s license, even though they both live in places where one could come in handy. They are interested, but it’s not a priority. They organize their summer jobs and social life around where they can walk or take public transportation or car-pool with friends.\\n\\n40 Mr. Sivak’s son lives in San Francisco and has a car but takes Bay Area Rapid Transit, when he can, even though that often takes longer than driving. “When I was in my 20s and 30s,” Mr. Sivak said, “I was curious about what kind of car people drove, but young people don’t really care. A car is just a means of getting from A to B when BART doesn’t work.”\\n\\n41 A study last year found that driving by young people decreased 23 percent between 2001 and 2009. . . .\\n\\n42 Whether members of the millennial generation will start buying more cars once they have kids to take to soccer practice and school plays remains an open question. But such projections have important business implications, even if car buyers are merely older or buying fewer cars in a lifetime rather than rejecting car culture outright.\\n\\n43 At the Mobile World Congress last year in Barcelona, Spain, Bill Ford, executive chairman of the Ford Motor Company, laid out a business plan for a world in which personal vehicle ownership is impractical or undesirable. He proposed partnering with the telecommunications industry to create cities in which “pedestrian, bicycle, private cars, commercial and public transportation traffic are woven into a connected network to save time, conserve resources, lower emissions and improve safety.”\\n\\nExcerpt from “The End of Car Culture” by Elisabeth Rosenthal, from the New York Times. Copyright © 2013 by the New York Times Company. Reprinted by permission of the New York Times Company via Copyright Clearance Center.\\n'"
            ],
            "application/vnd.google.colaboratory.intrinsic+json": {
              "type": "string"
            }
          },
          "metadata": {},
          "execution_count": 20
        }
      ]
    },
    {
      "cell_type": "code",
      "source": [
        "train_prompts.source_text[1]"
      ],
      "metadata": {
        "id": "8_QHLkOFR8mC",
        "colab": {
          "base_uri": "https://localhost:8080/",
          "height": 149
        },
        "outputId": "c6bd6a5a-474f-4be5-8da6-76fafcf92296"
      },
      "execution_count": null,
      "outputs": [
        {
          "output_type": "execute_result",
          "data": {
            "text/plain": [
              "\"# What Is the Electoral College? by the Office of the Federal Register\\n\\n1 The Electoral College is a process, not a place. The founding fathers established it in the Constitution as a compromise between election of the President by a vote in Congress and election of the President by a popular vote of qualified citizens.\\n\\n2 The Electoral College process consists of the selection of the electors, the meeting of the electors where they vote for President and Vice President, and the counting of the electoral votes by Congress.\\n\\n3 The Electoral College consists of 538 electors. A majority of 270 electoral votes is required to elect the President. Your state’s entitled allotment of electors equals the number of members in its Congressional delegation: one for each member in the House of Representatives plus two for your Senators. . . .\\n\\n4 Under the 23rd Amendment of the Constitution, the District of Columbia is allocated 3 electors and treated like a state for purposes of the Electoral College. For this reason, in the following discussion, the word “state” also refers to the District of Columbia.\\n\\n5 Each candidate running for President in your state has his or her own group of electors. The electors are generally chosen by the candidate’s political party, but state laws vary on how the electors are selected and what their responsibilities are. . . .\\n\\n6 The presidential election is held every four years on the Tuesday after the first Monday in November. You help choose your state’s electors when you vote for President because when you vote for your candidate you are actually voting for your candidate’s electors.\\n\\n7 Most states have a “winner-take-all” system that awards all electors to the winning presidential candidate. However, Maine and Nebraska each have a variation of “proportional representation.” . . .\\n\\n8 After the presidential election, your governor prepares a “Certificate of Ascertainment” listing all of the candidates who ran for President in your state along with the names of their respective electors. The Certificate of Ascertainment also declares the winning presidential candidate in your state and shows which electors will represent your state at the meeting of the electors in December of the election year. Your state’s Certificates of Ascertainments are sent to the Congress and the National Archives as part of the official records of the presidential election.\\n\\n# The Indefensible Electoral College: Why even the best-laid defenses of the system are wrong by Bradford Plumer\\n\\n9 What have Richard Nixon, Jimmy Carter, Bob Dole, the U.S. Chamber of Commerce, and the AFL-CIO all, in their time, agreed on? Answer: Abolishing the electoral college! They’re not alone; according to a Gallup poll in 2000, taken shortly after Al Gore—thanks to the quirks of the electoral college—won the popular vote but lost the presidency,1 over 60 percent of voters would prefer a direct election to the kind we have now. This year voters can expect another close election in which the popular vote winner could again lose the presidency. And yet, the electoral college still has its defenders. What gives? . . . What’s wrong with the electoral college\\n\\n10 Under the electoral college system, voters vote not for the president, but for a slate of electors, who in turn elect the president. If you lived in Texas, for instance, and wanted to vote for John Kerry, you’d vote for a slate of 34 Democratic electors pledged to Kerry. On the offchance that those electors won the statewide election, they would go to Congress and Kerry would get 34 electoral votes. Who are the electors? They can be anyone not holding public office. Who picks the electors in the first place? It depends on the state. Sometimes state conventions, sometimes the state party’s central committee, sometimes the presidential candidates themselves. Can voters control whom their electors vote for? Not always. Do voters sometimes get confused about the electors and vote for the wrong candidate? Sometimes.\\n\\n11 The single best argument against the electoral college is what we might call the disaster factor. The American people should consider themselves lucky that the 2000 fiasco was the biggest election crisis in a century; the system allows for much worse. Consider that state legislatures are technically responsible for picking electors, and that those electors could always defy the will of the people. Back in 1960, segregationists in the Louisiana legislature nearly succeeded in replacing the Democratic electors with new electors who would oppose John F. Kennedy. (So that a popular vote for Kennedy would not have actually gone to Kennedy.) In the same vein, “faithless” electors have occasionally refused to vote for their party’s candidate and cast a deciding vote for whomever they please. . . . Oh, and what if a state sends two slates of electors to Congress? It happened in Hawaii in 1960. Luckily, Vice President Richard Nixon, who was presiding over the Senate, validated only his opponent’s electors, but he made sure to do so “without establishing a precedent.” What if it happened again?\\n\\n12 Perhaps most worrying is the prospect of a tie in the electoral vote. In that case, the election would be thrown to the House of Representatives, where state delegations vote on the president. (The Senate would choose the vice-president.) Because each state casts only one vote, the single representative from Wyoming, representing 500,000 voters, would have as much say as the 55 representatives from California, who represent 35 million voters. Given that many voters vote one party for president and another for Congress, the House’s selection can hardly be expected to reflect the will of the people. And if an electoral tie seems unlikely, consider this: In 1968, a shift of just 41,971 votes would have deadlocked the election; In 1976, a tie would have occurred if a mere 5,559 voters in Ohio and 3,687 voters in Hawaii had voted the other way. The election is only a few swing voters away from catastrophe.\\n\\n13 At the most basic level, the electoral college is unfair to voters. Because of the winner-takeall system in each state, candidates don't spend time in states they know they have no chance of winning, focusing only on the tight races in the “swing” states. During the 2000 campaign, seventeen states didn’t see the candidates at all, including Rhode Island and South Carolina, and voters in 25 of the largest media markets didn’t get to see a single campaign ad. If anyone has a good argument for putting the fate of the presidency in the hands of a few swing voters in Ohio, they have yet to make it. . . .\\n\\n14 It’s official: The electoral college is unfair, outdated, and irrational. The best arguments in favor of it are mostly assertions without much basis in reality. And the arguments against direct elections are spurious at best. It’s hard to say this, but Bob Dole was right: Abolish the electoral college!\\n\\n# In Defense of the Electoral College: Five reasons to keep our despised method of choosing the President by Judge Richard A. Posner\\n\\n15 The Electoral College is widely regarded as an anachronism,1 a non-democratic method of selecting a president that ought to be overruled by declaring the candidate who receives the most popular votes the winner. The advocates of this position are correct in arguing that the Electoral College method is not democratic in a modern sense . . . it is the electors who elect the president, not the people. When you vote for a presidential candidate you’re actually voting for a slate of electors.\\n\\n16 But each party selects a slate of electors trusted to vote for the party’s nominee (and that trust is rarely betrayed) . . . however, it is entirely possible that the winner of the electoral vote will not win the national popular vote. Yet that has happened very rarely. It happened in 2000, when Gore had more popular votes than Bush yet fewer electoral votes, but that was the first time since 1888.\\n\\n17 There are five reasons for retaining the Electoral College despite its lack of democratic pedigree;2 all are practical reasons, not liberal or conservative3 reasons.\\n\\n## 1) Certainty of Outcome\\n\\n18 A dispute over the outcome of an Electoral College vote is possible—--it happened in 2000--—but it’s less likely than a dispute over the popular vote. The reason is that the winning candidate’s share of the Electoral College invariably exceeds his share of the popular vote. In 2012’s election, for example, Obama4 received 61.7 percent of the electoral vote compared to only 51.3 percent of the popular votes cast for him and Romney.5 . . . Because almost all states award electoral votes on a winner-take-all basis, even a very slight plurality6 in a state creates a landslide electoral-vote victory in that state. A tie in the nationwide electoral vote is possible because the total number of votes—--538—--is an even number, but it is highly unlikely. . . .\\n\\n## 2) Everyone’s President\\n\\n19 The Electoral College requires a presidential candidate to have trans-regional appeal. No region (South, Northeast, etc.) has enough electoral votes to elect a president. So a solid regional favorite, such as Romney was in the South, has no incentive to campaign heavily in those states, for he gains no electoral votes by increasing his plurality in states that he knows he will win. This is a desirable result because a candidate with only regional appeal is unlikely to be a successful president. The residents of the other regions are likely to feel disenfranchised—to feel that their votes do not count, that the new president will have no regard for their interests, that he really isn’t their president.\\n\\n## 3) Swing States\\n\\n20 The winner-take-all method of awarding electoral votes induces the candidates—as we saw in 2012’s election—to focus their campaign efforts on the toss-up states . . . . Voters in toss-up states are more likely to pay close attention to the campaign—to really listen to the competing candidates—knowing that they are going to decide the election. They are likely to be the most thoughtful voters, on average (and for the further reason that they will have received the most information and attention from the candidates), and the most thoughtful voters should be the ones to decide the election.\\n\\n## 4) Big States\\n\\n21 The Electoral College restores some of the weight in the political balance that large states (by population) lose by virtue of the mal-apportionment of the Senate decreed in the Constitution. . . . The popular vote was very close in Florida in 2012; nevertheless Obama, who won that vote, got 29 electoral votes. A victory by the same margin in Wyoming would net the winner only 3 electoral votes. So, other things being equal, a large state gets more attention from presidential candidates in a campaign than a small state does. . . .\\n\\n## 5) Avoid Run-Off Elections\\n\\n22 The Electoral College avoids the problem of elections in which no candidate receives a majority of the votes cast. For example, Nixon in 1968 and Clinton in 1992 both had only a 43 percent plurality of the popular votes, while winning a majority in the Electoral College (301 and 370 electoral votes, respectively). There is pressure for run-off elections when no candidate wins a majority of the votes cast; that pressure, which would greatly complicate the presidential election process, is reduced by the Electoral College, which invariably produces a clear winner. . . .\\n\\n23 It can be argued that the Electoral College method of selecting the president may turn off potential voters for a candidate who has no hope of carrying their state—Democrats in Texas, for example, or Republicans in California. Knowing their vote will have no effect, they have less incentive to pay attention to the campaign than they would have if the president were picked by popular vote . . . . But of course no voter’s vote swings a national election, and in spite of that, about one-half the eligible American population did vote in 2012’s election. Voters in presidential elections are people who want to express a political preference rather than people who think that a single vote may decide an election. . . .\\n\""
            ],
            "application/vnd.google.colaboratory.intrinsic+json": {
              "type": "string"
            }
          },
          "metadata": {},
          "execution_count": 21
        }
      ]
    },
    {
      "cell_type": "code",
      "source": [
        "# Show distribution of answers using a bar plot\n",
        "plt.figure(figsize=(8, 4))\n",
        "train_data.generated.value_counts().plot.bar()\n",
        "plt.xlabel(\"Class\")\n",
        "plt.ylabel(\"Count\")\n",
        "plt.title(\"Class distribution for Train Data\")\n",
        "plt.show()"
      ],
      "metadata": {
        "id": "OQdGlSe7tBVb",
        "colab": {
          "base_uri": "https://localhost:8080/",
          "height": 404
        },
        "outputId": "ebd94390-74a1-4d0f-acaa-d355907f6297"
      },
      "execution_count": null,
      "outputs": [
        {
          "output_type": "display_data",
          "data": {
            "text/plain": [
              "<Figure size 800x400 with 1 Axes>"
            ],
            "image/png": "[encoded data removed]"
          },
          "metadata": {}
        }
      ]
    },
    {
      "cell_type": "markdown",
      "source": [
        "#### **Note 2**\n",
        "As shown in the diagram above, the data provided by the kaggle competition is skewed. There is no enough data for AI-generated Text\n",
        "\n",
        "Accordingaly, we will either\n",
        "- try to balance the dataset by augmenting AI-generated Text\n",
        "- Or search for a new dataset\n",
        "\n"
      ],
      "metadata": {
        "id": "7tQ5wTMrYx_0"
      }
    },
    {
      "cell_type": "markdown",
      "source": [
        "## 4.2 - AI-Text Generation"
      ],
      "metadata": {
        "id": "KBlWSKRmUrzT"
      }
    },
    {
      "cell_type": "markdown",
      "source": [
        "- Due to the class imbalance between human and AI generated text, we have made data augmentation\n",
        "- Using the same prompts and text sources that were hended to humans to write their responses, we have created a new dataset of AI-generated Text\n",
        "-  We have used openai's GPT-3.5-turbo-0125 model API\n",
        "-  The model was given prompted with the each of the two prompts provided in the training dataset, along with the source text that it will use to write its answer from (same procedure as with humans)\n",
        "-  This was done by prompt engineering the openai API. The code used can be found in the project repo (/data/OpenAI_generated_dataset/OpenAI_datasetGenerator.py)\n",
        "\n",
        "The generated dataset is named \"ai_generated.csv\""
      ],
      "metadata": {
        "id": "_AwIAG4ShU4Y"
      }
    },
    {
      "cell_type": "markdown",
      "source": [
        "### Download the AI-Generated Dataset from a Google Drive Link\n",
        "\n",
        "After running the python code for generating the AI-Text, we stored resulting data in a csv file on a google drive that is publicly available to view.\n",
        "\n",
        "\n",
        "[link to the dataset generated from the OpenAI API](https://drive.google.com/file/d/14GwQprnCUY_n08uK_kmNJPZsZkLZtZ-r/view?usp=share_link)\n",
        "\n",
        "\n",
        "-> We load the dataset directly by connecting to the Google Drive API"
      ],
      "metadata": {
        "id": "ZJGyMHtucVKZ"
      }
    },
    {
      "cell_type": "code",
      "source": [
        "file_id = \"14GwQprnCUY_n08uK_kmNJPZsZkLZtZ-r\"\n",
        "destination = \"phase1_dataset.csv\"  # Specify the file name after download\n",
        "gdown.download(f\"https://drive.google.com/uc?id={file_id}\", destination, quiet=False)\n",
        "\n",
        "\n",
        "# Read the downloaded CSV file\n",
        "augmented_data = pd.read_csv(destination)\n",
        "print(augmented_data.head())\n"
      ],
      "metadata": {
        "id": "d-hz-HXQb8GI",
        "colab": {
          "base_uri": "https://localhost:8080/"
        },
        "outputId": "1b08622e-1507-4960-a99a-7f646661f226"
      },
      "execution_count": null,
      "outputs": [
        {
          "output_type": "stream",
          "name": "stderr",
          "text": [
            "Downloading...\n",
            "From: https://drive.google.com/uc?id=14GwQprnCUY_n08uK_kmNJPZsZkLZtZ-r\n",
            "To: /content/phase1_dataset.csv\n",
            "100%|██████████| 3.61M/3.61M [00:00<00:00, 67.5MB/s]"
          ]
        },
        {
          "output_type": "stream",
          "name": "stdout",
          "text": [
            "   id  prompt_id                                               text  generated\n",
            "0   0          0  In recent years, there has been a growing tren...          1\n",
            "1   1          0  Limiting car usage in cities can bring about n...          1\n",
            "2   2          0  Limiting car usage in cities can bring about n...          1\n",
            "3   3          0  Limiting car usage in cities can bring about n...          1\n",
            "4   4          0  Car-free cities offer numerous advantages that...          1\n"
          ]
        },
        {
          "output_type": "stream",
          "name": "stderr",
          "text": [
            "\n"
          ]
        }
      ]
    },
    {
      "cell_type": "code",
      "source": [
        "augmented_data"
      ],
      "metadata": {
        "id": "S9iyzc0emtCH",
        "colab": {
          "base_uri": "https://localhost:8080/",
          "height": 411
        },
        "outputId": "2b34dd49-2ae8-43f5-c788-f4ebf547ae66"
      },
      "execution_count": null,
      "outputs": [
        {
          "output_type": "execute_result",
          "data": {
            "text/plain": [
              "        id  prompt_id                                               text  \\\n",
              "0        0          0  In recent years, there has been a growing tren...   \n",
              "1        1          0  Limiting car usage in cities can bring about n...   \n",
              "2        2          0  Limiting car usage in cities can bring about n...   \n",
              "3        3          0  Limiting car usage in cities can bring about n...   \n",
              "4        4          0  Car-free cities offer numerous advantages that...   \n",
              "...    ...        ...                                                ...   \n",
              "1395  1395          1  Dear Senator,\\n\\nI am writing to express my su...   \n",
              "1396  1396          1  Dear State Senator,\\n\\nI am writing to express...   \n",
              "1397  1397          1  Dear Senator,\\n\\nI am writing to you today to ...   \n",
              "1398  1398          1  Dear Senator,\\n\\nI am writing to express my su...   \n",
              "1399  1399          1  Dear Senator,\\n\\nI am writing to you today to ...   \n",
              "\n",
              "      generated  \n",
              "0             1  \n",
              "1             1  \n",
              "2             1  \n",
              "3             1  \n",
              "4             1  \n",
              "...         ...  \n",
              "1395          1  \n",
              "1396          1  \n",
              "1397          1  \n",
              "1398          1  \n",
              "1399          1  \n",
              "\n",
              "[1400 rows x 4 columns]"
            ],
            "text/html": [
              "\n",
              "  <div id=\"df-09e5925c-3f47-43ce-bd90-05534aa78f1d\" class=\"colab-df-container\">\n",
              "    <div>\n",
              "<style scoped>\n",
              "    .dataframe tbody tr th:only-of-type {\n",
              "        vertical-align: middle;\n",
              "    }\n",
              "\n",
              "    .dataframe tbody tr th {\n",
              "        vertical-align: top;\n",
              "    }\n",
              "\n",
              "    .dataframe thead th {\n",
              "        text-align: right;\n",
              "    }\n",
              "</style>\n",
              "<table border=\"1\" class=\"dataframe\">\n",
              "  <thead>\n",
              "    <tr style=\"text-align: right;\">\n",
              "      <th></th>\n",
              "      <th>id</th>\n",
              "      <th>prompt_id</th>\n",
              "      <th>text</th>\n",
              "      <th>generated</th>\n",
              "    </tr>\n",
              "  </thead>\n",
              "  <tbody>\n",
              "    <tr>\n",
              "      <th>0</th>\n",
              "      <td>0</td>\n",
              "      <td>0</td>\n",
              "      <td>In recent years, there has been a growing tren...</td>\n",
              "      <td>1</td>\n",
              "    </tr>\n",
              "    <tr>\n",
              "      <th>1</th>\n",
              "      <td>1</td>\n",
              "      <td>0</td>\n",
              "      <td>Limiting car usage in cities can bring about n...</td>\n",
              "      <td>1</td>\n",
              "    </tr>\n",
              "    <tr>\n",
              "      <th>2</th>\n",
              "      <td>2</td>\n",
              "      <td>0</td>\n",
              "      <td>Limiting car usage in cities can bring about n...</td>\n",
              "      <td>1</td>\n",
              "    </tr>\n",
              "    <tr>\n",
              "      <th>3</th>\n",
              "      <td>3</td>\n",
              "      <td>0</td>\n",
              "      <td>Limiting car usage in cities can bring about n...</td>\n",
              "      <td>1</td>\n",
              "    </tr>\n",
              "    <tr>\n",
              "      <th>4</th>\n",
              "      <td>4</td>\n",
              "      <td>0</td>\n",
              "      <td>Car-free cities offer numerous advantages that...</td>\n",
              "      <td>1</td>\n",
              "    </tr>\n",
              "    <tr>\n",
              "      <th>...</th>\n",
              "      <td>...</td>\n",
              "      <td>...</td>\n",
              "      <td>...</td>\n",
              "      <td>...</td>\n",
              "    </tr>\n",
              "    <tr>\n",
              "      <th>1395</th>\n",
              "      <td>1395</td>\n",
              "      <td>1</td>\n",
              "      <td>Dear Senator,\\n\\nI am writing to express my su...</td>\n",
              "      <td>1</td>\n",
              "    </tr>\n",
              "    <tr>\n",
              "      <th>1396</th>\n",
              "      <td>1396</td>\n",
              "      <td>1</td>\n",
              "      <td>Dear State Senator,\\n\\nI am writing to express...</td>\n",
              "      <td>1</td>\n",
              "    </tr>\n",
              "    <tr>\n",
              "      <th>1397</th>\n",
              "      <td>1397</td>\n",
              "      <td>1</td>\n",
              "      <td>Dear Senator,\\n\\nI am writing to you today to ...</td>\n",
              "      <td>1</td>\n",
              "    </tr>\n",
              "    <tr>\n",
              "      <th>1398</th>\n",
              "      <td>1398</td>\n",
              "      <td>1</td>\n",
              "      <td>Dear Senator,\\n\\nI am writing to express my su...</td>\n",
              "      <td>1</td>\n",
              "    </tr>\n",
              "    <tr>\n",
              "      <th>1399</th>\n",
              "      <td>1399</td>\n",
              "      <td>1</td>\n",
              "      <td>Dear Senator,\\n\\nI am writing to you today to ...</td>\n",
              "      <td>1</td>\n",
              "    </tr>\n",
              "  </tbody>\n",
              "</table>\n",
              "<p>1400 rows × 4 columns</p>\n",
              "</div>\n",
              "    <div class=\"colab-df-buttons\">\n",
              "\n",
              "  <div class=\"colab-df-container\">\n",
              "    <button class=\"colab-df-convert\" onclick=\"convertToInteractive('df-09e5925c-3f47-43ce-bd90-05534aa78f1d')\"\n",
              "            title=\"Convert this dataframe to an interactive table.\"\n",
              "            style=\"display:none;\">\n",
              "\n",
              "  <svg xmlns=\"http://www.w3.org/2000/svg\" height=\"24px\" viewBox=\"0 -960 960 960\">\n",
              "    <path d=\"M120-120v-720h720v720H120Zm60-500h600v-160H180v160Zm220 220h160v-160H400v160Zm0 220h160v-160H400v160ZM180-400h160v-160H180v160Zm440 0h160v-160H620v160ZM180-180h160v-160H180v160Zm440 0h160v-160H620v160Z\"/>\n",
              "  </svg>\n",
              "    </button>\n",
              "\n",
              "  <style>\n",
              "    .colab-df-container {\n",
              "      display:flex;\n",
              "      gap: 12px;\n",
              "    }\n",
              "\n",
              "    .colab-df-convert {\n",
              "      background-color: #E8F0FE;\n",
              "      border: none;\n",
              "      border-radius: 50%;\n",
              "      cursor: pointer;\n",
              "      display: none;\n",
              "      fill: #1967D2;\n",
              "      height: 32px;\n",
              "      padding: 0 0 0 0;\n",
              "      width: 32px;\n",
              "    }\n",
              "\n",
              "    .colab-df-convert:hover {\n",
              "      background-color: #E2EBFA;\n",
              "      box-shadow: 0px 1px 2px rgba(60, 64, 67, 0.3), 0px 1px 3px 1px rgba(60, 64, 67, 0.15);\n",
              "      fill: #174EA6;\n",
              "    }\n",
              "\n",
              "    .colab-df-buttons div {\n",
              "      margin-bottom: 4px;\n",
              "    }\n",
              "\n",
              "    [theme=dark] .colab-df-convert {\n",
              "      background-color: #3B4455;\n",
              "      fill: #D2E3FC;\n",
              "    }\n",
              "\n",
              "    [theme=dark] .colab-df-convert:hover {\n",
              "      background-color: #434B5C;\n",
              "      box-shadow: 0px 1px 3px 1px rgba(0, 0, 0, 0.15);\n",
              "      filter: drop-shadow(0px 1px 2px rgba(0, 0, 0, 0.3));\n",
              "      fill: #FFFFFF;\n",
              "    }\n",
              "  </style>\n",
              "\n",
              "    <script>\n",
              "      const buttonEl =\n",
              "        document.querySelector('#df-09e5925c-3f47-43ce-bd90-05534aa78f1d button.colab-df-convert');\n",
              "      buttonEl.style.display =\n",
              "        google.colab.kernel.accessAllowed ? 'block' : 'none';\n",
              "\n",
              "      async function convertToInteractive(key) {\n",
              "        const element = document.querySelector('#df-09e5925c-3f47-43ce-bd90-05534aa78f1d');\n",
              "        const dataTable =\n",
              "          await google.colab.kernel.invokeFunction('convertToInteractive',\n",
              "                                                    [key], {});\n",
              "        if (!dataTable) return;\n",
              "\n",
              "        const docLinkHtml = 'Like what you see? Visit the ' +\n",
              "          '<a target=\"_blank\" href=https://colab.research.google.com/notebooks/data_table.ipynb>data table notebook</a>'\n",
              "          + ' to learn more about interactive tables.';\n",
              "        element.innerHTML = '';\n",
              "        dataTable['output_type'] = 'display_data';\n",
              "        await google.colab.output.renderOutput(dataTable, element);\n",
              "        const docLink = document.createElement('div');\n",
              "        docLink.innerHTML = docLinkHtml;\n",
              "        element.appendChild(docLink);\n",
              "      }\n",
              "    </script>\n",
              "  </div>\n",
              "\n",
              "\n",
              "<div id=\"df-b52eb65b-48fb-4d25-ae00-5570a56b0c17\">\n",
              "  <button class=\"colab-df-quickchart\" onclick=\"quickchart('df-b52eb65b-48fb-4d25-ae00-5570a56b0c17')\"\n",
              "            title=\"Suggest charts\"\n",
              "            style=\"display:none;\">\n",
              "\n",
              "<svg xmlns=\"http://www.w3.org/2000/svg\" height=\"24px\"viewBox=\"0 0 24 24\"\n",
              "     width=\"24px\">\n",
              "    <g>\n",
              "        <path d=\"M19 3H5c-1.1 0-2 .9-2 2v14c0 1.1.9 2 2 2h14c1.1 0 2-.9 2-2V5c0-1.1-.9-2-2-2zM9 17H7v-7h2v7zm4 0h-2V7h2v10zm4 0h-2v-4h2v4z\"/>\n",
              "    </g>\n",
              "</svg>\n",
              "  </button>\n",
              "\n",
              "<style>\n",
              "  .colab-df-quickchart {\n",
              "      --bg-color: #E8F0FE;\n",
              "      --fill-color: #1967D2;\n",
              "      --hover-bg-color: #E2EBFA;\n",
              "      --hover-fill-color: #174EA6;\n",
              "      --disabled-fill-color: #AAA;\n",
              "      --disabled-bg-color: #DDD;\n",
              "  }\n",
              "\n",
              "  [theme=dark] .colab-df-quickchart {\n",
              "      --bg-color: #3B4455;\n",
              "      --fill-color: #D2E3FC;\n",
              "      --hover-bg-color: #434B5C;\n",
              "      --hover-fill-color: #FFFFFF;\n",
              "      --disabled-bg-color: #3B4455;\n",
              "      --disabled-fill-color: #666;\n",
              "  }\n",
              "\n",
              "  .colab-df-quickchart {\n",
              "    background-color: var(--bg-color);\n",
              "    border: none;\n",
              "    border-radius: 50%;\n",
              "    cursor: pointer;\n",
              "    display: none;\n",
              "    fill: var(--fill-color);\n",
              "    height: 32px;\n",
              "    padding: 0;\n",
              "    width: 32px;\n",
              "  }\n",
              "\n",
              "  .colab-df-quickchart:hover {\n",
              "    background-color: var(--hover-bg-color);\n",
              "    box-shadow: 0 1px 2px rgba(60, 64, 67, 0.3), 0 1px 3px 1px rgba(60, 64, 67, 0.15);\n",
              "    fill: var(--button-hover-fill-color);\n",
              "  }\n",
              "\n",
              "  .colab-df-quickchart-complete:disabled,\n",
              "  .colab-df-quickchart-complete:disabled:hover {\n",
              "    background-color: var(--disabled-bg-color);\n",
              "    fill: var(--disabled-fill-color);\n",
              "    box-shadow: none;\n",
              "  }\n",
              "\n",
              "  .colab-df-spinner {\n",
              "    border: 2px solid var(--fill-color);\n",
              "    border-color: transparent;\n",
              "    border-bottom-color: var(--fill-color);\n",
              "    animation:\n",
              "      spin 1s steps(1) infinite;\n",
              "  }\n",
              "\n",
              "  @keyframes spin {\n",
              "    0% {\n",
              "      border-color: transparent;\n",
              "      border-bottom-color: var(--fill-color);\n",
              "      border-left-color: var(--fill-color);\n",
              "    }\n",
              "    20% {\n",
              "      border-color: transparent;\n",
              "      border-left-color: var(--fill-color);\n",
              "      border-top-color: var(--fill-color);\n",
              "    }\n",
              "    30% {\n",
              "      border-color: transparent;\n",
              "      border-left-color: var(--fill-color);\n",
              "      border-top-color: var(--fill-color);\n",
              "      border-right-color: var(--fill-color);\n",
              "    }\n",
              "    40% {\n",
              "      border-color: transparent;\n",
              "      border-right-color: var(--fill-color);\n",
              "      border-top-color: var(--fill-color);\n",
              "    }\n",
              "    60% {\n",
              "      border-color: transparent;\n",
              "      border-right-color: var(--fill-color);\n",
              "    }\n",
              "    80% {\n",
              "      border-color: transparent;\n",
              "      border-right-color: var(--fill-color);\n",
              "      border-bottom-color: var(--fill-color);\n",
              "    }\n",
              "    90% {\n",
              "      border-color: transparent;\n",
              "      border-bottom-color: var(--fill-color);\n",
              "    }\n",
              "  }\n",
              "</style>\n",
              "\n",
              "  <script>\n",
              "    async function quickchart(key) {\n",
              "      const quickchartButtonEl =\n",
              "        document.querySelector('#' + key + ' button');\n",
              "      quickchartButtonEl.disabled = true;  // To prevent multiple clicks.\n",
              "      quickchartButtonEl.classList.add('colab-df-spinner');\n",
              "      try {\n",
              "        const charts = await google.colab.kernel.invokeFunction(\n",
              "            'suggestCharts', [key], {});\n",
              "      } catch (error) {\n",
              "        console.error('Error during call to suggestCharts:', error);\n",
              "      }\n",
              "      quickchartButtonEl.classList.remove('colab-df-spinner');\n",
              "      quickchartButtonEl.classList.add('colab-df-quickchart-complete');\n",
              "    }\n",
              "    (() => {\n",
              "      let quickchartButtonEl =\n",
              "        document.querySelector('#df-b52eb65b-48fb-4d25-ae00-5570a56b0c17 button');\n",
              "      quickchartButtonEl.style.display =\n",
              "        google.colab.kernel.accessAllowed ? 'block' : 'none';\n",
              "    })();\n",
              "  </script>\n",
              "</div>\n",
              "\n",
              "  <div id=\"id_f05e5400-d7df-415d-b2aa-c2a22f8cfa37\">\n",
              "    <style>\n",
              "      .colab-df-generate {\n",
              "        background-color: #E8F0FE;\n",
              "        border: none;\n",
              "        border-radius: 50%;\n",
              "        cursor: pointer;\n",
              "        display: none;\n",
              "        fill: #1967D2;\n",
              "        height: 32px;\n",
              "        padding: 0 0 0 0;\n",
              "        width: 32px;\n",
              "      }\n",
              "\n",
              "      .colab-df-generate:hover {\n",
              "        background-color: #E2EBFA;\n",
              "        box-shadow: 0px 1px 2px rgba(60, 64, 67, 0.3), 0px 1px 3px 1px rgba(60, 64, 67, 0.15);\n",
              "        fill: #174EA6;\n",
              "      }\n",
              "\n",
              "      [theme=dark] .colab-df-generate {\n",
              "        background-color: #3B4455;\n",
              "        fill: #D2E3FC;\n",
              "      }\n",
              "\n",
              "      [theme=dark] .colab-df-generate:hover {\n",
              "        background-color: #434B5C;\n",
              "        box-shadow: 0px 1px 3px 1px rgba(0, 0, 0, 0.15);\n",
              "        filter: drop-shadow(0px 1px 2px rgba(0, 0, 0, 0.3));\n",
              "        fill: #FFFFFF;\n",
              "      }\n",
              "    </style>\n",
              "    <button class=\"colab-df-generate\" onclick=\"generateWithVariable('augmented_data')\"\n",
              "            title=\"Generate code using this dataframe.\"\n",
              "            style=\"display:none;\">\n",
              "\n",
              "  <svg xmlns=\"http://www.w3.org/2000/svg\" height=\"24px\"viewBox=\"0 0 24 24\"\n",
              "       width=\"24px\">\n",
              "    <path d=\"M7,19H8.4L18.45,9,17,7.55,7,17.6ZM5,21V16.75L18.45,3.32a2,2,0,0,1,2.83,0l1.4,1.43a1.91,1.91,0,0,1,.58,1.4,1.91,1.91,0,0,1-.58,1.4L9.25,21ZM18.45,9,17,7.55Zm-12,3A5.31,5.31,0,0,0,4.9,8.1,5.31,5.31,0,0,0,1,6.5,5.31,5.31,0,0,0,4.9,4.9,5.31,5.31,0,0,0,6.5,1,5.31,5.31,0,0,0,8.1,4.9,5.31,5.31,0,0,0,12,6.5,5.46,5.46,0,0,0,6.5,12Z\"/>\n",
              "  </svg>\n",
              "    </button>\n",
              "    <script>\n",
              "      (() => {\n",
              "      const buttonEl =\n",
              "        document.querySelector('#id_f05e5400-d7df-415d-b2aa-c2a22f8cfa37 button.colab-df-generate');\n",
              "      buttonEl.style.display =\n",
              "        google.colab.kernel.accessAllowed ? 'block' : 'none';\n",
              "\n",
              "      buttonEl.onclick = () => {\n",
              "        google.colab.notebook.generateWithVariable('augmented_data');\n",
              "      }\n",
              "      })();\n",
              "    </script>\n",
              "  </div>\n",
              "\n",
              "    </div>\n",
              "  </div>\n"
            ],
            "application/vnd.google.colaboratory.intrinsic+json": {
              "type": "dataframe",
              "variable_name": "augmented_data",
              "summary": "{\n  \"name\": \"augmented_data\",\n  \"rows\": 1400,\n  \"fields\": [\n    {\n      \"column\": \"id\",\n      \"properties\": {\n        \"dtype\": \"number\",\n        \"std\": 404,\n        \"min\": 0,\n        \"max\": 1399,\n        \"num_unique_values\": 1400,\n        \"samples\": [\n          665,\n          624,\n          115\n        ],\n        \"semantic_type\": \"\",\n        \"description\": \"\"\n      }\n    },\n    {\n      \"column\": \"prompt_id\",\n      \"properties\": {\n        \"dtype\": \"number\",\n        \"std\": 0,\n        \"min\": 0,\n        \"max\": 1,\n        \"num_unique_values\": 2,\n        \"samples\": [\n          1,\n          0\n        ],\n        \"semantic_type\": \"\",\n        \"description\": \"\"\n      }\n    },\n    {\n      \"column\": \"text\",\n      \"properties\": {\n        \"dtype\": \"string\",\n        \"num_unique_values\": 1400,\n        \"samples\": [\n          \"Car-free cities are becoming increasingly popular around the world due to the numerous advantages they offer. As seen in various examples like Vauban in Germany, Paris in France, Bogota in Colombia, and the overall trend observed in the United States, limiting car usage can lead to a host of benefits for both individuals and the environment. One of the primary advantages of car-free cities is the reduction in greenhouse gas emissions. Cars are significant contributors to air pollution, with studies showing that passenger cars can account for a substantial percentage of greenhouse gas emissions in various regions. By limiting car usage and promoting alternative transportation modes like walking, cycling, and public transit, cities can significantly decrease their carbon footprint and improve air quality.\\n\\nFurthermore, car-free cities promote a healthier and more active lifestyle among residents. When cities are designed to be pedestrian and bike-friendly, individuals are more likely to engage in physical activities like walking or cycling as part of their daily routine. This can lead to numerous health benefits, including reduced risk of chronic diseases, improved mental well-being, and overall increased quality of life. Additionally, by reducing car dependency, cities can decrease traffic congestion, leading to smoother traffic flow and shorter commute times for residents. This can result in less stress for commuters and a more efficient transportation system overall.\\n\\nMoreover, car-free initiatives can promote community engagement and social interaction. When streets are designed to prioritize pedestrians and cyclists over cars, it creates a more vibrant and lively urban environment where people are encouraged to interact with one another. This can foster a sense of community, increase social connections, and create a more inclusive and cohesive society. Additionally, car-free cities often lead to the revitalization of public spaces, with more emphasis on parks, pedestrian zones, and recreational areas. This can enhance the overall livability of a city, making it a more attractive place to live, work, and visit.\\n\\nIn conclusion, the examples of car-free cities showcased in the passages demonstrate the numerous advantages of limiting car usage in urban areas. From reducing greenhouse gas emissions and promoting a healthier lifestyle to improving traffic flow and fostering community engagement, the benefits of car-free initiatives are clear. As cities around the world continue to explore ways to create more sustainable and livable urban environments, prioritizing alternative modes of transportation and reducing car dependency will be crucial steps towards building a greener, healthier, and more vibrant future.\",\n          \"Car-free cities are becoming a growing trend around the world, with various initiatives and efforts aimed at limiting car usage to improve the environment, reduce greenhouse gas emissions, and enhance the quality of urban life. The concept of car-free cities is not just a futuristic idea but is already being successfully implemented in different parts of the globe, as seen in Vauban, Germany, Paris, France, and Bogota, Colombia, among other places. These cities are embracing a shift away from car-dependent lifestyles towards more sustainable and environmentally friendly modes of transportation.\\n\\nOne of the key advantages of limiting car usage in cities is the significant reduction in greenhouse gas emissions. The transportation sector, particularly passenger cars, is a major contributor to carbon emissions, which have detrimental effects on the environment and public health. By promoting car-free living and encouraging alternative modes of transportation such as walking, cycling, and public transit, cities can help combat climate change and improve air quality.\\n\\nAdditionally, car-free cities promote a healthier and more active lifestyle for residents. Walking and cycling are not only eco-friendly modes of transportation but also beneficial for physical health. By designing cities with pedestrian-friendly infrastructure, bike lanes, and efficient public transportation systems, individuals are encouraged to engage in more physical activity as part of their daily routines. This can lead to reduced rates of sedentary behavior, obesity, and related health issues.\\n\\nFurthermore, car-free cities enhance the overall livability and quality of urban spaces. By reducing traffic congestion, noise pollution, and the need for extensive parking infrastructure, cities can create more pedestrian-friendly environments that foster social interactions, community engagement, and a sense of belonging. People can enjoy cleaner air, quieter streets, and safer public spaces, making urban areas more attractive and vibrant for residents and visitors alike.\\n\\nIn conclusion, the shift towards car-free cities represents a positive step towards creating more sustainable, healthy, and livable urban environments. By limiting car usage, cities can mitigate the impacts of climate change, promote physical well-being, and enhance the overall quality of life for their inhabitants. As seen in successful examples like Vauban, Paris, and Bogota, embracing car-free initiatives can lead to a more sustainable and resilient future for cities around the world.\"\n        ],\n        \"semantic_type\": \"\",\n        \"description\": \"\"\n      }\n    },\n    {\n      \"column\": \"generated\",\n      \"properties\": {\n        \"dtype\": \"number\",\n        \"std\": 0,\n        \"min\": 1,\n        \"max\": 1,\n        \"num_unique_values\": 1,\n        \"samples\": [\n          1\n        ],\n        \"semantic_type\": \"\",\n        \"description\": \"\"\n      }\n    }\n  ]\n}"
            }
          },
          "metadata": {},
          "execution_count": 24
        }
      ]
    },
    {
      "cell_type": "markdown",
      "source": [
        "## 4.3 - Concatinate Data"
      ],
      "metadata": {
        "id": "H76kvAYCoaOu"
      }
    },
    {
      "cell_type": "code",
      "source": [
        "result_df = pd.concat([train_data, augmented_data], ignore_index=True)\n"
      ],
      "metadata": {
        "id": "NxUEobIKmw07"
      },
      "execution_count": null,
      "outputs": []
    },
    {
      "cell_type": "code",
      "source": [
        "result_df"
      ],
      "metadata": {
        "id": "IzwB2gLJnMFp",
        "colab": {
          "base_uri": "https://localhost:8080/",
          "height": 411
        },
        "outputId": "825072a1-a40b-4ebf-99dc-bf283c58955a"
      },
      "execution_count": null,
      "outputs": [
        {
          "output_type": "execute_result",
          "data": {
            "text/plain": [
              "            id  prompt_id                                               text  \\\n",
              "0     0059830c          0  Cars. Cars have been around since they became ...   \n",
              "1     005db917          0  Transportation is a large necessity in most co...   \n",
              "2     008f63e3          0  \"America's love affair with it's vehicles seem...   \n",
              "3     00940276          0  How often do you ride in a car? Do you drive a...   \n",
              "4     00c39458          0  Cars are a wonderful thing. They are perhaps o...   \n",
              "...        ...        ...                                                ...   \n",
              "2773      1395          1  Dear Senator,\\n\\nI am writing to express my su...   \n",
              "2774      1396          1  Dear State Senator,\\n\\nI am writing to express...   \n",
              "2775      1397          1  Dear Senator,\\n\\nI am writing to you today to ...   \n",
              "2776      1398          1  Dear Senator,\\n\\nI am writing to express my su...   \n",
              "2777      1399          1  Dear Senator,\\n\\nI am writing to you today to ...   \n",
              "\n",
              "      generated  \n",
              "0             0  \n",
              "1             0  \n",
              "2             0  \n",
              "3             0  \n",
              "4             0  \n",
              "...         ...  \n",
              "2773          1  \n",
              "2774          1  \n",
              "2775          1  \n",
              "2776          1  \n",
              "2777          1  \n",
              "\n",
              "[2778 rows x 4 columns]"
            ],
            "text/html": [
              "\n",
              "  <div id=\"df-2a5acef9-d6c7-444f-a43d-6eb8e579820d\" class=\"colab-df-container\">\n",
              "    <div>\n",
              "<style scoped>\n",
              "    .dataframe tbody tr th:only-of-type {\n",
              "        vertical-align: middle;\n",
              "    }\n",
              "\n",
              "    .dataframe tbody tr th {\n",
              "        vertical-align: top;\n",
              "    }\n",
              "\n",
              "    .dataframe thead th {\n",
              "        text-align: right;\n",
              "    }\n",
              "</style>\n",
              "<table border=\"1\" class=\"dataframe\">\n",
              "  <thead>\n",
              "    <tr style=\"text-align: right;\">\n",
              "      <th></th>\n",
              "      <th>id</th>\n",
              "      <th>prompt_id</th>\n",
              "      <th>text</th>\n",
              "      <th>generated</th>\n",
              "    </tr>\n",
              "  </thead>\n",
              "  <tbody>\n",
              "    <tr>\n",
              "      <th>0</th>\n",
              "      <td>0059830c</td>\n",
              "      <td>0</td>\n",
              "      <td>Cars. Cars have been around since they became ...</td>\n",
              "      <td>0</td>\n",
              "    </tr>\n",
              "    <tr>\n",
              "      <th>1</th>\n",
              "      <td>005db917</td>\n",
              "      <td>0</td>\n",
              "      <td>Transportation is a large necessity in most co...</td>\n",
              "      <td>0</td>\n",
              "    </tr>\n",
              "    <tr>\n",
              "      <th>2</th>\n",
              "      <td>008f63e3</td>\n",
              "      <td>0</td>\n",
              "      <td>\"America's love affair with it's vehicles seem...</td>\n",
              "      <td>0</td>\n",
              "    </tr>\n",
              "    <tr>\n",
              "      <th>3</th>\n",
              "      <td>00940276</td>\n",
              "      <td>0</td>\n",
              "      <td>How often do you ride in a car? Do you drive a...</td>\n",
              "      <td>0</td>\n",
              "    </tr>\n",
              "    <tr>\n",
              "      <th>4</th>\n",
              "      <td>00c39458</td>\n",
              "      <td>0</td>\n",
              "      <td>Cars are a wonderful thing. They are perhaps o...</td>\n",
              "      <td>0</td>\n",
              "    </tr>\n",
              "    <tr>\n",
              "      <th>...</th>\n",
              "      <td>...</td>\n",
              "      <td>...</td>\n",
              "      <td>...</td>\n",
              "      <td>...</td>\n",
              "    </tr>\n",
              "    <tr>\n",
              "      <th>2773</th>\n",
              "      <td>1395</td>\n",
              "      <td>1</td>\n",
              "      <td>Dear Senator,\\n\\nI am writing to express my su...</td>\n",
              "      <td>1</td>\n",
              "    </tr>\n",
              "    <tr>\n",
              "      <th>2774</th>\n",
              "      <td>1396</td>\n",
              "      <td>1</td>\n",
              "      <td>Dear State Senator,\\n\\nI am writing to express...</td>\n",
              "      <td>1</td>\n",
              "    </tr>\n",
              "    <tr>\n",
              "      <th>2775</th>\n",
              "      <td>1397</td>\n",
              "      <td>1</td>\n",
              "      <td>Dear Senator,\\n\\nI am writing to you today to ...</td>\n",
              "      <td>1</td>\n",
              "    </tr>\n",
              "    <tr>\n",
              "      <th>2776</th>\n",
              "      <td>1398</td>\n",
              "      <td>1</td>\n",
              "      <td>Dear Senator,\\n\\nI am writing to express my su...</td>\n",
              "      <td>1</td>\n",
              "    </tr>\n",
              "    <tr>\n",
              "      <th>2777</th>\n",
              "      <td>1399</td>\n",
              "      <td>1</td>\n",
              "      <td>Dear Senator,\\n\\nI am writing to you today to ...</td>\n",
              "      <td>1</td>\n",
              "    </tr>\n",
              "  </tbody>\n",
              "</table>\n",
              "<p>2778 rows × 4 columns</p>\n",
              "</div>\n",
              "    <div class=\"colab-df-buttons\">\n",
              "\n",
              "  <div class=\"colab-df-container\">\n",
              "    <button class=\"colab-df-convert\" onclick=\"convertToInteractive('df-2a5acef9-d6c7-444f-a43d-6eb8e579820d')\"\n",
              "            title=\"Convert this dataframe to an interactive table.\"\n",
              "            style=\"display:none;\">\n",
              "\n",
              "  <svg xmlns=\"http://www.w3.org/2000/svg\" height=\"24px\" viewBox=\"0 -960 960 960\">\n",
              "    <path d=\"M120-120v-720h720v720H120Zm60-500h600v-160H180v160Zm220 220h160v-160H400v160Zm0 220h160v-160H400v160ZM180-400h160v-160H180v160Zm440 0h160v-160H620v160ZM180-180h160v-160H180v160Zm440 0h160v-160H620v160Z\"/>\n",
              "  </svg>\n",
              "    </button>\n",
              "\n",
              "  <style>\n",
              "    .colab-df-container {\n",
              "      display:flex;\n",
              "      gap: 12px;\n",
              "    }\n",
              "\n",
              "    .colab-df-convert {\n",
              "      background-color: #E8F0FE;\n",
              "      border: none;\n",
              "      border-radius: 50%;\n",
              "      cursor: pointer;\n",
              "      display: none;\n",
              "      fill: #1967D2;\n",
              "      height: 32px;\n",
              "      padding: 0 0 0 0;\n",
              "      width: 32px;\n",
              "    }\n",
              "\n",
              "    .colab-df-convert:hover {\n",
              "      background-color: #E2EBFA;\n",
              "      box-shadow: 0px 1px 2px rgba(60, 64, 67, 0.3), 0px 1px 3px 1px rgba(60, 64, 67, 0.15);\n",
              "      fill: #174EA6;\n",
              "    }\n",
              "\n",
              "    .colab-df-buttons div {\n",
              "      margin-bottom: 4px;\n",
              "    }\n",
              "\n",
              "    [theme=dark] .colab-df-convert {\n",
              "      background-color: #3B4455;\n",
              "      fill: #D2E3FC;\n",
              "    }\n",
              "\n",
              "    [theme=dark] .colab-df-convert:hover {\n",
              "      background-color: #434B5C;\n",
              "      box-shadow: 0px 1px 3px 1px rgba(0, 0, 0, 0.15);\n",
              "      filter: drop-shadow(0px 1px 2px rgba(0, 0, 0, 0.3));\n",
              "      fill: #FFFFFF;\n",
              "    }\n",
              "  </style>\n",
              "\n",
              "    <script>\n",
              "      const buttonEl =\n",
              "        document.querySelector('#df-2a5acef9-d6c7-444f-a43d-6eb8e579820d button.colab-df-convert');\n",
              "      buttonEl.style.display =\n",
              "        google.colab.kernel.accessAllowed ? 'block' : 'none';\n",
              "\n",
              "      async function convertToInteractive(key) {\n",
              "        const element = document.querySelector('#df-2a5acef9-d6c7-444f-a43d-6eb8e579820d');\n",
              "        const dataTable =\n",
              "          await google.colab.kernel.invokeFunction('convertToInteractive',\n",
              "                                                    [key], {});\n",
              "        if (!dataTable) return;\n",
              "\n",
              "        const docLinkHtml = 'Like what you see? Visit the ' +\n",
              "          '<a target=\"_blank\" href=https://colab.research.google.com/notebooks/data_table.ipynb>data table notebook</a>'\n",
              "          + ' to learn more about interactive tables.';\n",
              "        element.innerHTML = '';\n",
              "        dataTable['output_type'] = 'display_data';\n",
              "        await google.colab.output.renderOutput(dataTable, element);\n",
              "        const docLink = document.createElement('div');\n",
              "        docLink.innerHTML = docLinkHtml;\n",
              "        element.appendChild(docLink);\n",
              "      }\n",
              "    </script>\n",
              "  </div>\n",
              "\n",
              "\n",
              "<div id=\"df-122eacc2-af17-4638-9986-87dd8400b733\">\n",
              "  <button class=\"colab-df-quickchart\" onclick=\"quickchart('df-122eacc2-af17-4638-9986-87dd8400b733')\"\n",
              "            title=\"Suggest charts\"\n",
              "            style=\"display:none;\">\n",
              "\n",
              "<svg xmlns=\"http://www.w3.org/2000/svg\" height=\"24px\"viewBox=\"0 0 24 24\"\n",
              "     width=\"24px\">\n",
              "    <g>\n",
              "        <path d=\"M19 3H5c-1.1 0-2 .9-2 2v14c0 1.1.9 2 2 2h14c1.1 0 2-.9 2-2V5c0-1.1-.9-2-2-2zM9 17H7v-7h2v7zm4 0h-2V7h2v10zm4 0h-2v-4h2v4z\"/>\n",
              "    </g>\n",
              "</svg>\n",
              "  </button>\n",
              "\n",
              "<style>\n",
              "  .colab-df-quickchart {\n",
              "      --bg-color: #E8F0FE;\n",
              "      --fill-color: #1967D2;\n",
              "      --hover-bg-color: #E2EBFA;\n",
              "      --hover-fill-color: #174EA6;\n",
              "      --disabled-fill-color: #AAA;\n",
              "      --disabled-bg-color: #DDD;\n",
              "  }\n",
              "\n",
              "  [theme=dark] .colab-df-quickchart {\n",
              "      --bg-color: #3B4455;\n",
              "      --fill-color: #D2E3FC;\n",
              "      --hover-bg-color: #434B5C;\n",
              "      --hover-fill-color: #FFFFFF;\n",
              "      --disabled-bg-color: #3B4455;\n",
              "      --disabled-fill-color: #666;\n",
              "  }\n",
              "\n",
              "  .colab-df-quickchart {\n",
              "    background-color: var(--bg-color);\n",
              "    border: none;\n",
              "    border-radius: 50%;\n",
              "    cursor: pointer;\n",
              "    display: none;\n",
              "    fill: var(--fill-color);\n",
              "    height: 32px;\n",
              "    padding: 0;\n",
              "    width: 32px;\n",
              "  }\n",
              "\n",
              "  .colab-df-quickchart:hover {\n",
              "    background-color: var(--hover-bg-color);\n",
              "    box-shadow: 0 1px 2px rgba(60, 64, 67, 0.3), 0 1px 3px 1px rgba(60, 64, 67, 0.15);\n",
              "    fill: var(--button-hover-fill-color);\n",
              "  }\n",
              "\n",
              "  .colab-df-quickchart-complete:disabled,\n",
              "  .colab-df-quickchart-complete:disabled:hover {\n",
              "    background-color: var(--disabled-bg-color);\n",
              "    fill: var(--disabled-fill-color);\n",
              "    box-shadow: none;\n",
              "  }\n",
              "\n",
              "  .colab-df-spinner {\n",
              "    border: 2px solid var(--fill-color);\n",
              "    border-color: transparent;\n",
              "    border-bottom-color: var(--fill-color);\n",
              "    animation:\n",
              "      spin 1s steps(1) infinite;\n",
              "  }\n",
              "\n",
              "  @keyframes spin {\n",
              "    0% {\n",
              "      border-color: transparent;\n",
              "      border-bottom-color: var(--fill-color);\n",
              "      border-left-color: var(--fill-color);\n",
              "    }\n",
              "    20% {\n",
              "      border-color: transparent;\n",
              "      border-left-color: var(--fill-color);\n",
              "      border-top-color: var(--fill-color);\n",
              "    }\n",
              "    30% {\n",
              "      border-color: transparent;\n",
              "      border-left-color: var(--fill-color);\n",
              "      border-top-color: var(--fill-color);\n",
              "      border-right-color: var(--fill-color);\n",
              "    }\n",
              "    40% {\n",
              "      border-color: transparent;\n",
              "      border-right-color: var(--fill-color);\n",
              "      border-top-color: var(--fill-color);\n",
              "    }\n",
              "    60% {\n",
              "      border-color: transparent;\n",
              "      border-right-color: var(--fill-color);\n",
              "    }\n",
              "    80% {\n",
              "      border-color: transparent;\n",
              "      border-right-color: var(--fill-color);\n",
              "      border-bottom-color: var(--fill-color);\n",
              "    }\n",
              "    90% {\n",
              "      border-color: transparent;\n",
              "      border-bottom-color: var(--fill-color);\n",
              "    }\n",
              "  }\n",
              "</style>\n",
              "\n",
              "  <script>\n",
              "    async function quickchart(key) {\n",
              "      const quickchartButtonEl =\n",
              "        document.querySelector('#' + key + ' button');\n",
              "      quickchartButtonEl.disabled = true;  // To prevent multiple clicks.\n",
              "      quickchartButtonEl.classList.add('colab-df-spinner');\n",
              "      try {\n",
              "        const charts = await google.colab.kernel.invokeFunction(\n",
              "            'suggestCharts', [key], {});\n",
              "      } catch (error) {\n",
              "        console.error('Error during call to suggestCharts:', error);\n",
              "      }\n",
              "      quickchartButtonEl.classList.remove('colab-df-spinner');\n",
              "      quickchartButtonEl.classList.add('colab-df-quickchart-complete');\n",
              "    }\n",
              "    (() => {\n",
              "      let quickchartButtonEl =\n",
              "        document.querySelector('#df-122eacc2-af17-4638-9986-87dd8400b733 button');\n",
              "      quickchartButtonEl.style.display =\n",
              "        google.colab.kernel.accessAllowed ? 'block' : 'none';\n",
              "    })();\n",
              "  </script>\n",
              "</div>\n",
              "\n",
              "  <div id=\"id_d0f5c460-b1eb-4119-8930-d7373f74a5c4\">\n",
              "    <style>\n",
              "      .colab-df-generate {\n",
              "        background-color: #E8F0FE;\n",
              "        border: none;\n",
              "        border-radius: 50%;\n",
              "        cursor: pointer;\n",
              "        display: none;\n",
              "        fill: #1967D2;\n",
              "        height: 32px;\n",
              "        padding: 0 0 0 0;\n",
              "        width: 32px;\n",
              "      }\n",
              "\n",
              "      .colab-df-generate:hover {\n",
              "        background-color: #E2EBFA;\n",
              "        box-shadow: 0px 1px 2px rgba(60, 64, 67, 0.3), 0px 1px 3px 1px rgba(60, 64, 67, 0.15);\n",
              "        fill: #174EA6;\n",
              "      }\n",
              "\n",
              "      [theme=dark] .colab-df-generate {\n",
              "        background-color: #3B4455;\n",
              "        fill: #D2E3FC;\n",
              "      }\n",
              "\n",
              "      [theme=dark] .colab-df-generate:hover {\n",
              "        background-color: #434B5C;\n",
              "        box-shadow: 0px 1px 3px 1px rgba(0, 0, 0, 0.15);\n",
              "        filter: drop-shadow(0px 1px 2px rgba(0, 0, 0, 0.3));\n",
              "        fill: #FFFFFF;\n",
              "      }\n",
              "    </style>\n",
              "    <button class=\"colab-df-generate\" onclick=\"generateWithVariable('result_df')\"\n",
              "            title=\"Generate code using this dataframe.\"\n",
              "            style=\"display:none;\">\n",
              "\n",
              "  <svg xmlns=\"http://www.w3.org/2000/svg\" height=\"24px\"viewBox=\"0 0 24 24\"\n",
              "       width=\"24px\">\n",
              "    <path d=\"M7,19H8.4L18.45,9,17,7.55,7,17.6ZM5,21V16.75L18.45,3.32a2,2,0,0,1,2.83,0l1.4,1.43a1.91,1.91,0,0,1,.58,1.4,1.91,1.91,0,0,1-.58,1.4L9.25,21ZM18.45,9,17,7.55Zm-12,3A5.31,5.31,0,0,0,4.9,8.1,5.31,5.31,0,0,0,1,6.5,5.31,5.31,0,0,0,4.9,4.9,5.31,5.31,0,0,0,6.5,1,5.31,5.31,0,0,0,8.1,4.9,5.31,5.31,0,0,0,12,6.5,5.46,5.46,0,0,0,6.5,12Z\"/>\n",
              "  </svg>\n",
              "    </button>\n",
              "    <script>\n",
              "      (() => {\n",
              "      const buttonEl =\n",
              "        document.querySelector('#id_d0f5c460-b1eb-4119-8930-d7373f74a5c4 button.colab-df-generate');\n",
              "      buttonEl.style.display =\n",
              "        google.colab.kernel.accessAllowed ? 'block' : 'none';\n",
              "\n",
              "      buttonEl.onclick = () => {\n",
              "        google.colab.notebook.generateWithVariable('result_df');\n",
              "      }\n",
              "      })();\n",
              "    </script>\n",
              "  </div>\n",
              "\n",
              "    </div>\n",
              "  </div>\n"
            ],
            "application/vnd.google.colaboratory.intrinsic+json": {
              "type": "dataframe",
              "variable_name": "result_df",
              "summary": "{\n  \"name\": \"result_df\",\n  \"rows\": 2778,\n  \"fields\": [\n    {\n      \"column\": \"id\",\n      \"properties\": {\n        \"dtype\": \"string\",\n        \"num_unique_values\": 2778,\n        \"samples\": [\n          \"9ec053c0\",\n          612,\n          \"a09bc43c\"\n        ],\n        \"semantic_type\": \"\",\n        \"description\": \"\"\n      }\n    },\n    {\n      \"column\": \"prompt_id\",\n      \"properties\": {\n        \"dtype\": \"number\",\n        \"std\": 0,\n        \"min\": 0,\n        \"max\": 1,\n        \"num_unique_values\": 2,\n        \"samples\": [\n          1,\n          0\n        ],\n        \"semantic_type\": \"\",\n        \"description\": \"\"\n      }\n    },\n    {\n      \"column\": \"text\",\n      \"properties\": {\n        \"dtype\": \"string\",\n        \"num_unique_values\": 2778,\n        \"samples\": [\n          \"In America, presidents are voted in by the electoral college. The electoral college is a process of electors from all the states that vote for the president and vice president. There are 538 electors, and you need 270 votes of that 538 to be elected. The electoral college is how we have been electing all of the presidents in America, but the president ought to be elected by a majority vote of the people, not by some fascist in a room voting for us.\\n\\nFurthermore, the office of the federal register gladly explains the process of the electoral college and it has some holes. bradford Plumer explains in his article \\\"The Indefensible Electoral College: Why Even The best laid defenses are wrong\\\" says \\\"at the most basic level, the electoral college is unfair to voters.\\\" He goes on and exemplifies the fact that the way the votes are cast and counted could be in fact more individually based. Maybe Mr. Plumer is wrong and the electoral college is the best thing for us, but, most people would agree that if we could all vote and have every individual vote counted, we would have a fair election and the true winner would be voted in.\\n\\nPerhaps in \\\"Five Reasons to keep our despised method of choosing the president\\\" by Richard A. Posner, an electoral college would be good to have because of run off and big states and so forth. But plainly put, if we could just count voters as people of one nation, not individual states, we could have an efficient running election. For example: say there is 300 million people in America and the president needed 150,000,001 votes to win, then the majority rules factor can be initiated and there will be no run off, no problems with big states, no problem with swing states, and the certainty of outcome of everyone's president will be decided by majority.\\n\\nLast but not least, all of the authors of the articles have great arguments and have concluded as so. \\\"what have Richard Nixon, Jimmy Carter, Bob Dole, the U.S. Chamber of commerce, and the AFLCIO all, in their time, agreed on? Answer: Abolishing the electoral college!\\\" Bradford Plumer couldnt have summarized it better. If former presidents and other powerful organizations can can agree on abolishing the outdated electoral college then why cant we just get rid of it.\\n\\nFinally, the electoral college is an old and untrustworthy system of lection currently used in the united states. perhaps if we could try the majority rules and have every legal voter counted as an individual, the election process would be more faithful. All in all, with time comes changes, and with chnges comes broad new spectrums of possibilities. But for the time being we should all be proactive in staying in motion with modernization, and every little change counts. Abolishing the electoral college is an innocent and small step in the right direction.\",\n          \"Limiting car usage in cities can bring about several advantages for both the environment and the community. The passages provide insights into innovative initiatives in various cities worldwide, such as Vauban in Germany, Paris in France, and Bogota in Colombia, where restrictions on car usage have been implemented with positive outcomes. One significant advantage of reducing reliance on cars is the significant decrease in greenhouse gas emissions. Cars are a major contributor to pollution, with passenger cars alone responsible for a substantial percentage of greenhouse gas emissions in both Europe and the United States. By promoting car-free or car-reduced cities, like Vauban, urban planners are aiming to combat climate change by minimizing the environmental impact of transportation.\\n\\nFurthermore, limiting car usage can lead to improved public health and well-being. The passages highlight how car-free initiatives in cities like Bogota have encouraged alternative modes of transportation such as biking, walking, and public transit. Not only does this reduce pollution, but it also promotes physical activity and a healthier lifestyle among residents. In Bogota, the Day Without Cars event has successfully brought people together to engage in active modes of transportation, creating a sense of community and shared responsibility for the environment. By fostering a culture of sustainable mobility, cities can enhance the overall quality of life for their residents.\\n\\nIn addition to environmental and health benefits, limiting car usage in cities can also lead to enhanced urban planning and infrastructure development. The passages mention how car-free neighborhoods like Vauban prioritize pedestrian-friendly streets, public transportation access, and proximity to essential services. This type of smart planning not only reduces traffic congestion but also creates more compact, accessible, and vibrant urban spaces. By reimagining suburbs and city centers as places designed for people rather than cars, communities can foster social interaction, economic growth, and cultural diversity.\\n\\nIn conclusion, the examples provided in the passages demonstrate that transitioning towards car-free cities can have numerous advantages, including reducing greenhouse gas emissions, promoting public health, and improving urban planning. By adopting innovative approaches like car-free days, pedestrian-friendly neighborhoods, and enhanced public transportation systems, cities can create more sustainable, livable, and resilient environments for their residents. Encouraging alternative modes of transportation and prioritizing community well-being over car dependency are crucial steps towards building a greener and healthier future for our cities.\"\n        ],\n        \"semantic_type\": \"\",\n        \"description\": \"\"\n      }\n    },\n    {\n      \"column\": \"generated\",\n      \"properties\": {\n        \"dtype\": \"number\",\n        \"std\": 0,\n        \"min\": 0,\n        \"max\": 1,\n        \"num_unique_values\": 2,\n        \"samples\": [\n          1,\n          0\n        ],\n        \"semantic_type\": \"\",\n        \"description\": \"\"\n      }\n    }\n  ]\n}"
            }
          },
          "metadata": {},
          "execution_count": 26
        }
      ]
    },
    {
      "cell_type": "code",
      "source": [
        "result_df.describe()"
      ],
      "metadata": {
        "id": "dVEFqeafohHl",
        "colab": {
          "base_uri": "https://localhost:8080/",
          "height": 291
        },
        "outputId": "fe02600b-4549-46b1-8ce8-71b4a5de3a8f"
      },
      "execution_count": null,
      "outputs": [
        {
          "output_type": "execute_result",
          "data": {
            "text/plain": [
              "         prompt_id    generated\n",
              "count  2778.000000  2778.000000\n",
              "mean      0.493161     0.505040\n",
              "std       0.500043     0.500065\n",
              "min       0.000000     0.000000\n",
              "25%       0.000000     0.000000\n",
              "50%       0.000000     1.000000\n",
              "75%       1.000000     1.000000\n",
              "max       1.000000     1.000000"
            ],
            "text/html": [
              "\n",
              "  <div id=\"df-9542b648-b179-4b18-bca5-a1fc9fd17073\" class=\"colab-df-container\">\n",
              "    <div>\n",
              "<style scoped>\n",
              "    .dataframe tbody tr th:only-of-type {\n",
              "        vertical-align: middle;\n",
              "    }\n",
              "\n",
              "    .dataframe tbody tr th {\n",
              "        vertical-align: top;\n",
              "    }\n",
              "\n",
              "    .dataframe thead th {\n",
              "        text-align: right;\n",
              "    }\n",
              "</style>\n",
              "<table border=\"1\" class=\"dataframe\">\n",
              "  <thead>\n",
              "    <tr style=\"text-align: right;\">\n",
              "      <th></th>\n",
              "      <th>prompt_id</th>\n",
              "      <th>generated</th>\n",
              "    </tr>\n",
              "  </thead>\n",
              "  <tbody>\n",
              "    <tr>\n",
              "      <th>count</th>\n",
              "      <td>2778.000000</td>\n",
              "      <td>2778.000000</td>\n",
              "    </tr>\n",
              "    <tr>\n",
              "      <th>mean</th>\n",
              "      <td>0.493161</td>\n",
              "      <td>0.505040</td>\n",
              "    </tr>\n",
              "    <tr>\n",
              "      <th>std</th>\n",
              "      <td>0.500043</td>\n",
              "      <td>0.500065</td>\n",
              "    </tr>\n",
              "    <tr>\n",
              "      <th>min</th>\n",
              "      <td>0.000000</td>\n",
              "      <td>0.000000</td>\n",
              "    </tr>\n",
              "    <tr>\n",
              "      <th>25%</th>\n",
              "      <td>0.000000</td>\n",
              "      <td>0.000000</td>\n",
              "    </tr>\n",
              "    <tr>\n",
              "      <th>50%</th>\n",
              "      <td>0.000000</td>\n",
              "      <td>1.000000</td>\n",
              "    </tr>\n",
              "    <tr>\n",
              "      <th>75%</th>\n",
              "      <td>1.000000</td>\n",
              "      <td>1.000000</td>\n",
              "    </tr>\n",
              "    <tr>\n",
              "      <th>max</th>\n",
              "      <td>1.000000</td>\n",
              "      <td>1.000000</td>\n",
              "    </tr>\n",
              "  </tbody>\n",
              "</table>\n",
              "</div>\n",
              "    <div class=\"colab-df-buttons\">\n",
              "\n",
              "  <div class=\"colab-df-container\">\n",
              "    <button class=\"colab-df-convert\" onclick=\"convertToInteractive('df-9542b648-b179-4b18-bca5-a1fc9fd17073')\"\n",
              "            title=\"Convert this dataframe to an interactive table.\"\n",
              "            style=\"display:none;\">\n",
              "\n",
              "  <svg xmlns=\"http://www.w3.org/2000/svg\" height=\"24px\" viewBox=\"0 -960 960 960\">\n",
              "    <path d=\"M120-120v-720h720v720H120Zm60-500h600v-160H180v160Zm220 220h160v-160H400v160Zm0 220h160v-160H400v160ZM180-400h160v-160H180v160Zm440 0h160v-160H620v160ZM180-180h160v-160H180v160Zm440 0h160v-160H620v160Z\"/>\n",
              "  </svg>\n",
              "    </button>\n",
              "\n",
              "  <style>\n",
              "    .colab-df-container {\n",
              "      display:flex;\n",
              "      gap: 12px;\n",
              "    }\n",
              "\n",
              "    .colab-df-convert {\n",
              "      background-color: #E8F0FE;\n",
              "      border: none;\n",
              "      border-radius: 50%;\n",
              "      cursor: pointer;\n",
              "      display: none;\n",
              "      fill: #1967D2;\n",
              "      height: 32px;\n",
              "      padding: 0 0 0 0;\n",
              "      width: 32px;\n",
              "    }\n",
              "\n",
              "    .colab-df-convert:hover {\n",
              "      background-color: #E2EBFA;\n",
              "      box-shadow: 0px 1px 2px rgba(60, 64, 67, 0.3), 0px 1px 3px 1px rgba(60, 64, 67, 0.15);\n",
              "      fill: #174EA6;\n",
              "    }\n",
              "\n",
              "    .colab-df-buttons div {\n",
              "      margin-bottom: 4px;\n",
              "    }\n",
              "\n",
              "    [theme=dark] .colab-df-convert {\n",
              "      background-color: #3B4455;\n",
              "      fill: #D2E3FC;\n",
              "    }\n",
              "\n",
              "    [theme=dark] .colab-df-convert:hover {\n",
              "      background-color: #434B5C;\n",
              "      box-shadow: 0px 1px 3px 1px rgba(0, 0, 0, 0.15);\n",
              "      filter: drop-shadow(0px 1px 2px rgba(0, 0, 0, 0.3));\n",
              "      fill: #FFFFFF;\n",
              "    }\n",
              "  </style>\n",
              "\n",
              "    <script>\n",
              "      const buttonEl =\n",
              "        document.querySelector('#df-9542b648-b179-4b18-bca5-a1fc9fd17073 button.colab-df-convert');\n",
              "      buttonEl.style.display =\n",
              "        google.colab.kernel.accessAllowed ? 'block' : 'none';\n",
              "\n",
              "      async function convertToInteractive(key) {\n",
              "        const element = document.querySelector('#df-9542b648-b179-4b18-bca5-a1fc9fd17073');\n",
              "        const dataTable =\n",
              "          await google.colab.kernel.invokeFunction('convertToInteractive',\n",
              "                                                    [key], {});\n",
              "        if (!dataTable) return;\n",
              "\n",
              "        const docLinkHtml = 'Like what you see? Visit the ' +\n",
              "          '<a target=\"_blank\" href=https://colab.research.google.com/notebooks/data_table.ipynb>data table notebook</a>'\n",
              "          + ' to learn more about interactive tables.';\n",
              "        element.innerHTML = '';\n",
              "        dataTable['output_type'] = 'display_data';\n",
              "        await google.colab.output.renderOutput(dataTable, element);\n",
              "        const docLink = document.createElement('div');\n",
              "        docLink.innerHTML = docLinkHtml;\n",
              "        element.appendChild(docLink);\n",
              "      }\n",
              "    </script>\n",
              "  </div>\n",
              "\n",
              "\n",
              "<div id=\"df-fa40a5bb-3687-4714-b8ad-c33c84c5f34c\">\n",
              "  <button class=\"colab-df-quickchart\" onclick=\"quickchart('df-fa40a5bb-3687-4714-b8ad-c33c84c5f34c')\"\n",
              "            title=\"Suggest charts\"\n",
              "            style=\"display:none;\">\n",
              "\n",
              "<svg xmlns=\"http://www.w3.org/2000/svg\" height=\"24px\"viewBox=\"0 0 24 24\"\n",
              "     width=\"24px\">\n",
              "    <g>\n",
              "        <path d=\"M19 3H5c-1.1 0-2 .9-2 2v14c0 1.1.9 2 2 2h14c1.1 0 2-.9 2-2V5c0-1.1-.9-2-2-2zM9 17H7v-7h2v7zm4 0h-2V7h2v10zm4 0h-2v-4h2v4z\"/>\n",
              "    </g>\n",
              "</svg>\n",
              "  </button>\n",
              "\n",
              "<style>\n",
              "  .colab-df-quickchart {\n",
              "      --bg-color: #E8F0FE;\n",
              "      --fill-color: #1967D2;\n",
              "      --hover-bg-color: #E2EBFA;\n",
              "      --hover-fill-color: #174EA6;\n",
              "      --disabled-fill-color: #AAA;\n",
              "      --disabled-bg-color: #DDD;\n",
              "  }\n",
              "\n",
              "  [theme=dark] .colab-df-quickchart {\n",
              "      --bg-color: #3B4455;\n",
              "      --fill-color: #D2E3FC;\n",
              "      --hover-bg-color: #434B5C;\n",
              "      --hover-fill-color: #FFFFFF;\n",
              "      --disabled-bg-color: #3B4455;\n",
              "      --disabled-fill-color: #666;\n",
              "  }\n",
              "\n",
              "  .colab-df-quickchart {\n",
              "    background-color: var(--bg-color);\n",
              "    border: none;\n",
              "    border-radius: 50%;\n",
              "    cursor: pointer;\n",
              "    display: none;\n",
              "    fill: var(--fill-color);\n",
              "    height: 32px;\n",
              "    padding: 0;\n",
              "    width: 32px;\n",
              "  }\n",
              "\n",
              "  .colab-df-quickchart:hover {\n",
              "    background-color: var(--hover-bg-color);\n",
              "    box-shadow: 0 1px 2px rgba(60, 64, 67, 0.3), 0 1px 3px 1px rgba(60, 64, 67, 0.15);\n",
              "    fill: var(--button-hover-fill-color);\n",
              "  }\n",
              "\n",
              "  .colab-df-quickchart-complete:disabled,\n",
              "  .colab-df-quickchart-complete:disabled:hover {\n",
              "    background-color: var(--disabled-bg-color);\n",
              "    fill: var(--disabled-fill-color);\n",
              "    box-shadow: none;\n",
              "  }\n",
              "\n",
              "  .colab-df-spinner {\n",
              "    border: 2px solid var(--fill-color);\n",
              "    border-color: transparent;\n",
              "    border-bottom-color: var(--fill-color);\n",
              "    animation:\n",
              "      spin 1s steps(1) infinite;\n",
              "  }\n",
              "\n",
              "  @keyframes spin {\n",
              "    0% {\n",
              "      border-color: transparent;\n",
              "      border-bottom-color: var(--fill-color);\n",
              "      border-left-color: var(--fill-color);\n",
              "    }\n",
              "    20% {\n",
              "      border-color: transparent;\n",
              "      border-left-color: var(--fill-color);\n",
              "      border-top-color: var(--fill-color);\n",
              "    }\n",
              "    30% {\n",
              "      border-color: transparent;\n",
              "      border-left-color: var(--fill-color);\n",
              "      border-top-color: var(--fill-color);\n",
              "      border-right-color: var(--fill-color);\n",
              "    }\n",
              "    40% {\n",
              "      border-color: transparent;\n",
              "      border-right-color: var(--fill-color);\n",
              "      border-top-color: var(--fill-color);\n",
              "    }\n",
              "    60% {\n",
              "      border-color: transparent;\n",
              "      border-right-color: var(--fill-color);\n",
              "    }\n",
              "    80% {\n",
              "      border-color: transparent;\n",
              "      border-right-color: var(--fill-color);\n",
              "      border-bottom-color: var(--fill-color);\n",
              "    }\n",
              "    90% {\n",
              "      border-color: transparent;\n",
              "      border-bottom-color: var(--fill-color);\n",
              "    }\n",
              "  }\n",
              "</style>\n",
              "\n",
              "  <script>\n",
              "    async function quickchart(key) {\n",
              "      const quickchartButtonEl =\n",
              "        document.querySelector('#' + key + ' button');\n",
              "      quickchartButtonEl.disabled = true;  // To prevent multiple clicks.\n",
              "      quickchartButtonEl.classList.add('colab-df-spinner');\n",
              "      try {\n",
              "        const charts = await google.colab.kernel.invokeFunction(\n",
              "            'suggestCharts', [key], {});\n",
              "      } catch (error) {\n",
              "        console.error('Error during call to suggestCharts:', error);\n",
              "      }\n",
              "      quickchartButtonEl.classList.remove('colab-df-spinner');\n",
              "      quickchartButtonEl.classList.add('colab-df-quickchart-complete');\n",
              "    }\n",
              "    (() => {\n",
              "      let quickchartButtonEl =\n",
              "        document.querySelector('#df-fa40a5bb-3687-4714-b8ad-c33c84c5f34c button');\n",
              "      quickchartButtonEl.style.display =\n",
              "        google.colab.kernel.accessAllowed ? 'block' : 'none';\n",
              "    })();\n",
              "  </script>\n",
              "</div>\n",
              "\n",
              "    </div>\n",
              "  </div>\n"
            ],
            "application/vnd.google.colaboratory.intrinsic+json": {
              "type": "dataframe",
              "summary": "{\n  \"name\": \"result_df\",\n  \"rows\": 8,\n  \"fields\": [\n    {\n      \"column\": \"prompt_id\",\n      \"properties\": {\n        \"dtype\": \"number\",\n        \"std\": 982.0202277026275,\n        \"min\": 0.0,\n        \"max\": 2778.0,\n        \"num_unique_values\": 5,\n        \"samples\": [\n          0.4931605471562275,\n          1.0,\n          0.5000432283783417\n        ],\n        \"semantic_type\": \"\",\n        \"description\": \"\"\n      }\n    },\n    {\n      \"column\": \"generated\",\n      \"properties\": {\n        \"dtype\": \"number\",\n        \"std\": 981.9691190334623,\n        \"min\": 0.0,\n        \"max\": 2778.0,\n        \"num_unique_values\": 5,\n        \"samples\": [\n          0.5050395968322534,\n          1.0,\n          0.5000646143501335\n        ],\n        \"semantic_type\": \"\",\n        \"description\": \"\"\n      }\n    }\n  ]\n}"
            }
          },
          "metadata": {},
          "execution_count": 27
        }
      ]
    },
    {
      "cell_type": "code",
      "source": [
        "result_df.info()"
      ],
      "metadata": {
        "id": "aBctWwU8orUx",
        "colab": {
          "base_uri": "https://localhost:8080/"
        },
        "outputId": "941cc0d2-aeb9-4e12-c286-c717a3ea1b9d"
      },
      "execution_count": null,
      "outputs": [
        {
          "output_type": "stream",
          "name": "stdout",
          "text": [
            "<class 'pandas.core.frame.DataFrame'>\n",
            "RangeIndex: 2778 entries, 0 to 2777\n",
            "Data columns (total 4 columns):\n",
            " #   Column     Non-Null Count  Dtype \n",
            "---  ------     --------------  ----- \n",
            " 0   id         2778 non-null   object\n",
            " 1   prompt_id  2778 non-null   int64 \n",
            " 2   text       2778 non-null   object\n",
            " 3   generated  2778 non-null   int64 \n",
            "dtypes: int64(2), object(2)\n",
            "memory usage: 86.9+ KB\n"
          ]
        }
      ]
    },
    {
      "cell_type": "code",
      "source": [
        "result_df.prompt_id.unique()"
      ],
      "metadata": {
        "id": "xP2J8-AtovCK",
        "colab": {
          "base_uri": "https://localhost:8080/"
        },
        "outputId": "b58eeecd-f3ae-461e-f000-10fb5b3e09a8"
      },
      "execution_count": null,
      "outputs": [
        {
          "output_type": "execute_result",
          "data": {
            "text/plain": [
              "array([0, 1])"
            ]
          },
          "metadata": {},
          "execution_count": 29
        }
      ]
    },
    {
      "cell_type": "code",
      "source": [
        "# Show distribution of answers using a bar plot\n",
        "plt.figure(figsize=(8, 4))\n",
        "result_df.generated.value_counts().plot.bar()\n",
        "plt.xlabel(\"Class\")\n",
        "plt.ylabel(\"Count\")\n",
        "plt.title(\"Class distribution for Train Data\")\n",
        "plt.show()"
      ],
      "metadata": {
        "id": "vgRpTvRHnOAD",
        "colab": {
          "base_uri": "https://localhost:8080/",
          "height": 404
        },
        "outputId": "dd5fc421-cfdd-42ff-ea5f-ff5b33a32e64"
      },
      "execution_count": null,
      "outputs": [
        {
          "output_type": "display_data",
          "data": {
            "text/plain": [
              "<Figure size 800x400 with 1 Axes>"
            ],
            "image/png": "[encoded data removed]"
          },
          "metadata": {}
        }
      ]
    },
    {
      "cell_type": "code",
      "source": [
        "# Show distribution of answers using a bar plot\n",
        "plt.figure(figsize=(8, 4))\n",
        "result_df.prompt_id.value_counts().plot.bar()\n",
        "plt.xlabel(\"Prompt ID\")\n",
        "plt.ylabel(\"Count\")\n",
        "plt.title(\"Distribution of Prompts in Train Data\")\n",
        "plt.show()"
      ],
      "metadata": {
        "id": "jaTakKoQngt6",
        "colab": {
          "base_uri": "https://localhost:8080/",
          "height": 404
        },
        "outputId": "9195c648-0af7-4314-e50c-0419ea5067e1"
      },
      "execution_count": null,
      "outputs": [
        {
          "output_type": "display_data",
          "data": {
            "text/plain": [
              "<Figure size 800x400 with 1 Axes>"
            ],
            "image/png": "[encoded data removed]"
          },
          "metadata": {}
        }
      ]
    },
    {
      "cell_type": "code",
      "source": [
        "# Store the combined df to a csv file for later analysis in phase 2\n",
        "\n",
        "# from google.colab import drive\n",
        "# drive.mount('/content/drive')\n",
        "\n",
        "# file_path = '/content/drive/MyDrive/HSLU/ML&DS/Project/data/phase1_dataset.csv'  # Replace with your desired path\n",
        "\n",
        "# result_df.to_csv(file_path, index=False)  # index=False prevents writing row indices to the CSV"
      ],
      "metadata": {
        "id": "MaQ5GtFreKow"
      },
      "execution_count": null,
      "outputs": []
    },
    {
      "cell_type": "markdown",
      "source": [
        "# 5 - Exploratory Data Analysis\n"
      ],
      "metadata": {
        "id": "Tw27Pvjmbjp-"
      }
    },
    {
      "cell_type": "markdown",
      "source": [
        "## 5.1 - Missing Values"
      ],
      "metadata": {
        "id": "u043EwhCdXVv"
      }
    },
    {
      "cell_type": "code",
      "source": [
        "def func_missing_values(df):\n",
        "    \"\"\"\n",
        "    Computes the number and percentage of missing values for each column in a pandas DataFrame.\n",
        "\n",
        "    Parameters:\n",
        "    df (DataFrame): The input DataFrame to analyze for missing values.\n",
        "\n",
        "    Returns:\n",
        "    DataFrame: A DataFrame containing the number of missing values and their percentages for each column.\n",
        "    \"\"\"\n",
        "\n",
        "    # Calculate the total number of missing values for each column.\n",
        "    missing_values =df.isnull().sum()\n",
        "\n",
        "    # Retrieve the total number of rows (samples) in the DataFrame.\n",
        "    nb_samples =df.shape[0]\n",
        "\n",
        "    # Calculate the percentage of missing values for each column.\n",
        "    missing_percent = missing_values/nb_samples\n",
        "\n",
        "    # Create a DataFrame to store the missing values and their percentages for each column.\n",
        "    missing_df = pd.DataFrame({'missing_values': missing_values, 'missing_percent': missing_percent })\n",
        "\n",
        "    # Return the resulting DataFrame containing missing value information.\n",
        "    return missing_df\n"
      ],
      "metadata": {
        "id": "SRdbuJVQdmO9"
      },
      "execution_count": null,
      "outputs": []
    },
    {
      "cell_type": "code",
      "source": [
        "# Call the `func_missing_values` function on the training DataFrame `df_train`.\n",
        "df_train_missing = func_missing_values(result_df)  # Assign the result to `df_train_missing`\n",
        "\n",
        "# Print the DataFrame to display the missing value statistics for the training dataset.\n",
        "print(df_train_missing)"
      ],
      "metadata": {
        "colab": {
          "base_uri": "https://localhost:8080/"
        },
        "id": "l6v5OBcadmKx",
        "outputId": "ff6518c0-6d60-47dc-f890-6722398b7f93"
      },
      "execution_count": null,
      "outputs": [
        {
          "output_type": "stream",
          "name": "stdout",
          "text": [
            "           missing_values  missing_percent\n",
            "id                      0              0.0\n",
            "prompt_id               0              0.0\n",
            "text                    0              0.0\n",
            "generated               0              0.0\n"
          ]
        }
      ]
    },
    {
      "cell_type": "markdown",
      "source": [
        "There are no missing values in the dataset"
      ],
      "metadata": {
        "id": "xBusG_BttkAz"
      }
    },
    {
      "cell_type": "markdown",
      "source": [
        "## 5.2 - Duplicate Values"
      ],
      "metadata": {
        "id": "C6CVHBdrdhJX"
      }
    },
    {
      "cell_type": "code",
      "source": [
        "def func_duplicate_values(df):\n",
        "    \"\"\"\n",
        "    Identifies and computes the number and percentage of duplicate rows in a pandas DataFrame.\n",
        "\n",
        "    Parameters:\n",
        "    df (DataFrame): The input DataFrame to analyze for duplicate rows.\n",
        "\n",
        "    Returns:\n",
        "    DataFrame: A DataFrame containing the total number of duplicate rows and their percentage relative to the total number of rows in the input DataFrame.\n",
        "    \"\"\"\n",
        "\n",
        "    # Count the total number of duplicate rows in the DataFrame.\n",
        "    duplicate_values = df.duplicated().sum()\n",
        "\n",
        "    # Get the total number of rows (samples) in the DataFrame.\n",
        "    nb_samples = df.shape[0]\n",
        "\n",
        "    # Calculate the percentage of duplicate rows relative to the total number of rows.\n",
        "    duplicate_percent = duplicate_values / nb_samples\n",
        "\n",
        "    # Create a DataFrame to store the number and percentage of duplicate rows.\n",
        "    duplicate_df = pd.DataFrame({'duplicate_values': [duplicate_values], 'duplicate_percent': [duplicate_percent]})\n",
        "\n",
        "    # Return the resulting DataFrame containing duplicate row information.\n",
        "    return duplicate_df\n"
      ],
      "metadata": {
        "id": "0IOc4ytLdmwP"
      },
      "execution_count": null,
      "outputs": []
    },
    {
      "cell_type": "code",
      "source": [
        "df_train_duplicates =func_duplicate_values(result_df) # Call the `func_duplicate_values` function on the training DataFrame `df_train`.\n",
        "\n",
        "print(df_train_duplicates)  #"
      ],
      "metadata": {
        "colab": {
          "base_uri": "https://localhost:8080/"
        },
        "id": "Xp7Nhph3dmtQ",
        "outputId": "e0e6d2c0-dccf-4f0e-974d-575e7b5f8770"
      },
      "execution_count": null,
      "outputs": [
        {
          "output_type": "stream",
          "name": "stdout",
          "text": [
            "   duplicate_values  duplicate_percent\n",
            "0                 0                0.0\n"
          ]
        }
      ]
    },
    {
      "cell_type": "markdown",
      "source": [
        "There are no Duplicate values in the dataset"
      ],
      "metadata": {
        "id": "MedbUqX5t1Zb"
      }
    },
    {
      "cell_type": "markdown",
      "source": [
        "## 5.3 - Data Visualization"
      ],
      "metadata": {
        "id": "ucgCLNP1uT_B"
      }
    },
    {
      "cell_type": "code",
      "source": [
        "def func_plot_distribution(df, column_name='sentiment'):\n",
        "    \"\"\"\n",
        "    Visualizes the distribution of values in a specified column of a DataFrame using a count plot and a pie chart.\n",
        "\n",
        "    Parameters:\n",
        "    df (DataFrame): The input DataFrame to analyze.\n",
        "    column_name (str): The name of the column whose distribution will be visualized (default is 'sentiment').\n",
        "\n",
        "    Returns:\n",
        "    None: This function displays the visualizations directly using matplotlib.\n",
        "    \"\"\"\n",
        "\n",
        "    # Create a figure with two subplots arranged horizontally\n",
        "    fig, axs = plt.subplots(nrows=1, ncols=2, figsize=(15, 5), gridspec_kw={'width_ratios': [1, 1]})\n",
        "\n",
        "    # Add a main title to the entire figure\n",
        "    fig.suptitle('Dataframe Distribution: {}'.format(column_name), fontsize=16, weight='bold')\n",
        "\n",
        "    # Create a count plot on the first subplot\n",
        "    ax0 = axs[0]  # Reference to the first subplot\n",
        "    sns.countplot(data=df, x=column_name, ax=ax0, palette='viridis')\n",
        "       # Plot a count plot of the column's values\n",
        "    ax0.set_title('Count Plot', fontsize=14, weight='bold')  # Set the title for the count plot\n",
        "    ax0.set_xlabel(column_name, fontsize=12)  # Label the x-axis with the column name\n",
        "    ax0.set_ylabel('Count', fontsize=12)  # Label the y-axis as 'Count'\n",
        "    ax0.tick_params(axis='x', labelsize=12)  # Adjust the size of x-axis labels\n",
        "    ax0.tick_params(axis='y', labelsize=12)  # Adjust the size of y-axis labels\n",
        "    ax0.grid(axis='y', linestyle='--', alpha=0.7)  # Add a grid to the y-axis for better readability\n",
        "\n",
        "    # Create a pie chart on the second subplot\n",
        "    ax1 = axs[1]  # Reference to the second subplot\n",
        "    column_counts =df[column_name].value_counts() # Get the count of each unique value in the column\n",
        "    colors = sns.color_palette('viridis', len(column_counts))  # Generate a color palette for the pie chart\n",
        "    ax1.pie(column_counts, labels=column_counts.index, colors=colors, autopct='%1.1f%%')  # Plot the pie chart\n",
        "    ax1.set_title('Pie Chart', fontsize=14, weight='bold')  # Set the title for the pie chart\n",
        "    ax1.axis('equal')  # Ensure the pie chart is displayed as a perfect circle\n",
        "\n",
        "    # Adjust the layout to prevent overlapping elements and display the plots\n",
        "    plt.tight_layout()\n",
        "    plt.show()"
      ],
      "metadata": {
        "id": "CFDWp9But8rJ"
      },
      "execution_count": null,
      "outputs": []
    },
    {
      "cell_type": "code",
      "source": [
        "func_plot_distribution(result_df, column_name='generated')"
      ],
      "metadata": {
        "colab": {
          "base_uri": "https://localhost:8080/",
          "height": 505
        },
        "id": "EeTnWkSouAAQ",
        "outputId": "ee0c10f8-09d1-47b1-b839-90ebe4f2527d"
      },
      "execution_count": null,
      "outputs": [
        {
          "output_type": "stream",
          "name": "stderr",
          "text": [
            "<ipython-input-37-f3e29f10798c>:21: FutureWarning: \n",
            "\n",
            "Passing `palette` without assigning `hue` is deprecated and will be removed in v0.14.0. Assign the `x` variable to `hue` and set `legend=False` for the same effect.\n",
            "\n",
            "  sns.countplot(data=df, x=column_name, ax=ax0, palette='viridis')\n"
          ]
        },
        {
          "output_type": "display_data",
          "data": {
            "text/plain": [
              "<Figure size 1500x500 with 2 Axes>"
            ],
            "image/png": "[encoded data removed]"
          },
          "metadata": {}
        }
      ]
    },
    {
      "cell_type": "code",
      "source": [
        "# Add a new column for word count\n",
        "result_df['word_count'] = result_df['text'].apply(lambda x: len(str(x).split()))\n"
      ],
      "metadata": {
        "id": "Mrw4ISIhBaw2"
      },
      "execution_count": null,
      "outputs": []
    },
    {
      "cell_type": "code",
      "source": [
        "print(result_df['word_count'].describe())\n"
      ],
      "metadata": {
        "colab": {
          "base_uri": "https://localhost:8080/"
        },
        "id": "fY9aG78-CPXo",
        "outputId": "993004c8-18a7-4b7b-9675-daed0b2a7b45"
      },
      "execution_count": null,
      "outputs": [
        {
          "output_type": "stream",
          "name": "stdout",
          "text": [
            "count    2778.000000\n",
            "mean      466.985241\n",
            "std       145.266557\n",
            "min       235.000000\n",
            "25%       371.250000\n",
            "50%       413.000000\n",
            "75%       523.000000\n",
            "max      1360.000000\n",
            "Name: word_count, dtype: float64\n"
          ]
        }
      ]
    },
    {
      "cell_type": "code",
      "source": [
        "import matplotlib.pyplot as plt\n",
        "\n",
        "result_df['word_count'].hist(bins=40, color='skyblue', edgecolor='black', figsize=(8, 6))\n",
        "plt.title('Word Count Distribution')\n",
        "plt.xlabel('Word Count')\n",
        "plt.ylabel('Frequency')\n",
        "plt.show()"
      ],
      "metadata": {
        "colab": {
          "base_uri": "https://localhost:8080/",
          "height": 563
        },
        "id": "l1tpIgmOCXks",
        "outputId": "e532274b-f979-4bb1-bf2c-436b1947d350"
      },
      "execution_count": null,
      "outputs": [
        {
          "output_type": "display_data",
          "data": {
            "text/plain": [
              "<Figure size 800x600 with 1 Axes>"
            ],
            "image/png": "[encoded data removed]"
          },
          "metadata": {}
        }
      ]
    },
    {
      "cell_type": "code",
      "source": [],
      "metadata": {
        "id": "iClQm9ID18di"
      },
      "execution_count": null,
      "outputs": []
    },
    {
      "cell_type": "markdown",
      "source": [
        "# 6 - Data Preprocessing"
      ],
      "metadata": {
        "id": "yibJNzXuenLO"
      }
    },
    {
      "cell_type": "markdown",
      "source": [
        "\n",
        "\n",
        "> Data preprocessing ensures that the text data is clean, consistent, and in a format that machine learning models can process.\n",
        "\n",
        "\n",
        "\n",
        "\n",
        "\n"
      ],
      "metadata": {
        "id": "-YKxa1RZwIyy"
      }
    },
    {
      "cell_type": "markdown",
      "source": [
        "Data preprocessing is done in a multiple stages, including:\n",
        "1.   Data Cleaning\n",
        "  - removing special characters\n",
        "  - removing emojis\n",
        "  - removing URLs\n",
        "  - leaving periods, qustion marks and exclamation marks\n",
        "  - removing unneccassary white spaces\n",
        "  - Expanding contractions\n",
        "2.  Handling stop words\n",
        "3.  Tokenization\n",
        "4.  Vectorization (TFIDF)"
      ],
      "metadata": {
        "id": "mXinDIIxfIkx"
      }
    },
    {
      "cell_type": "markdown",
      "source": [
        "## 6.1 - Data Cleaning\n",
        "Data Cleaning involves:\n",
        "- removing unwanted special characters\n",
        "- unnecessary whitespaces\n",
        "- irrelevant elements\n",
        "  * URLs\n",
        "  * Emojis\n",
        "- Retaining periods, commas, question marks, and exclamation marks.\n",
        "\n",
        "- The text is also converted to **lowercase** to ensure uniformity, helping the model interpret words correctly without case sensitivity issues."
      ],
      "metadata": {
        "id": "lVUp1pqabjlQ"
      }
    },
    {
      "cell_type": "code",
      "source": [
        "def clean_text(text):\n",
        "    \"\"\"\n",
        "    Cleans the text by removing unwanted characters while retaining periods, commas,\n",
        "    question marks, and exclamation marks. Converts text to lowercase.\n",
        "    \"\"\"\n",
        "    # Keep only letters, spaces, periods, commas, question marks, and exclamation marks\n",
        "    text = re.sub(r\"[^a-zA-Z\\s.,!?]\", \"\", text)\n",
        "    # Remove extra spaces\n",
        "    text = re.sub(r\"\\s+\", \" \", text).strip()\n",
        "\n",
        "    # Remove URLs\n",
        "    text = re.sub(r'http\\S+|www\\S+|https\\S+', '', text)  # Remove any URLs from the text.\n",
        "\n",
        "    # Handle emojis\n",
        "    text = emoji.demojize(text, delimiters=(\" \", \" \"))  # Convert emojis to text descriptions if `demojize` is True.\n",
        "\n",
        "    # Expand contractions\n",
        "    text = contractions.fix(text)  # Replace contractions with their expanded form (e.g., \"can't\" -> \"cannot\").\n",
        "\n",
        "    # Convert to lowercase\n",
        "    return text.lower()\n",
        "\n",
        "\n",
        "\n",
        "# Apply the cleaning function to the 'text' column\n",
        "result_df['cleaned_text'] = result_df['text'].apply(clean_text)\n",
        "\n",
        "# Preview the cleaned text\n",
        "print(result_df[['text', 'cleaned_text']].head())\n"
      ],
      "metadata": {
        "colab": {
          "base_uri": "https://localhost:8080/"
        },
        "id": "WNcwFMFbdnS5",
        "outputId": "d1ec3051-c710-42af-c679-4725ebd2ec7a"
      },
      "execution_count": null,
      "outputs": [
        {
          "output_type": "stream",
          "name": "stdout",
          "text": [
            "                                                text  \\\n",
            "0  Cars. Cars have been around since they became ...   \n",
            "1  Transportation is a large necessity in most co...   \n",
            "2  \"America's love affair with it's vehicles seem...   \n",
            "3  How often do you ride in a car? Do you drive a...   \n",
            "4  Cars are a wonderful thing. They are perhaps o...   \n",
            "\n",
            "                                        cleaned_text  \n",
            "0  cars. cars have been around since they became ...  \n",
            "1  transportation is a large necessity in most co...  \n",
            "2  americas love affair with its vehicles seems t...  \n",
            "3  how often do you ride in a car? do you drive a...  \n",
            "4  cars are a wonderful thing. they are perhaps o...  \n"
          ]
        }
      ]
    },
    {
      "cell_type": "markdown",
      "source": [
        "## 6.2 - Handling Stop-Words\n",
        "\n",
        "- Stopwords like \"and,\" \"is,\" or \"the\" can often be irrelevant for the task, but their removal depends on the problem.\n",
        "- For classification tasks focusing on semantics, retaining them may help, especially if they contribute to the context."
      ],
      "metadata": {
        "id": "Ky0RGlYL2C5O"
      }
    },
    {
      "cell_type": "code",
      "source": [
        "# Download stopwords if not already available\n",
        "nltk.download('stopwords')\n",
        "nltk.download('wordnet')"
      ],
      "metadata": {
        "colab": {
          "base_uri": "https://localhost:8080/"
        },
        "id": "BGw6fvhNNPql",
        "outputId": "d4f1e06d-fab6-4686-f4da-8b12ac2e060e"
      },
      "execution_count": null,
      "outputs": [
        {
          "output_type": "stream",
          "name": "stderr",
          "text": [
            "[nltk_data] Downloading package stopwords to /root/nltk_data...\n",
            "[nltk_data]   Unzipping corpora/stopwords.zip.\n",
            "[nltk_data] Downloading package wordnet to /root/nltk_data...\n"
          ]
        },
        {
          "output_type": "execute_result",
          "data": {
            "text/plain": [
              "True"
            ]
          },
          "metadata": {},
          "execution_count": 28
        }
      ]
    },
    {
      "cell_type": "code",
      "source": [
        "\n",
        "stop_words = set(stopwords.words('english'))\n",
        "\n",
        "def remove_stopwords(text):\n",
        "    tokens = text.split()  # Split the text into individual words (tokens).\n",
        "    tokens = [word for word in tokens if word not in stop_words]\n",
        "    # Join tokens back into a single string\n",
        "    return ' '.join(tokens)  # Combine the cleaned tokens back into a single string.\n",
        "\n",
        "# Remove stopwords\n",
        "result_df['cleaned_text'] = result_df['cleaned_text'].apply(remove_stopwords)\n",
        "\n",
        "# Preview tokens after stopword removal\n",
        "print(result_df[['cleaned_text']].head())\n"
      ],
      "metadata": {
        "colab": {
          "base_uri": "https://localhost:8080/"
        },
        "id": "4nkx6-7f1_49",
        "outputId": "ece8aed7-d227-42ec-b6b3-0adcb56e7d63"
      },
      "execution_count": null,
      "outputs": [
        {
          "output_type": "stream",
          "name": "stdout",
          "text": [
            "                                        cleaned_text\n",
            "0  cars. cars around since became famous s, henry...\n",
            "1  transportation large necessity countries world...\n",
            "2  americas love affair vehicles seems cooling sa...\n",
            "3  often ride car? drive one motor vehicle work? ...\n",
            "4  cars wonderful thing. perhaps one worlds great...\n"
          ]
        }
      ]
    },
    {
      "cell_type": "markdown",
      "source": [
        "# 7 - Feature Extraction\n",
        "Text must be converted into numerical format to feed into machine learning models.\n",
        "\n",
        "BPopular techniques include\n",
        "- Bag of Words (BoW)\n",
        "- TF-IDF for statistical representation\n",
        "- Word Embeddings\n",
        "  * like Word2Vec, GloVe\n",
        "  * or Contextual embeddings (like BERT) for semantic representations.\n",
        "  \n",
        "These methods capture word importance, relationships, or context, enabling models to make more accurate predictions.\n",
        "\n",
        "\n",
        "---\n",
        "\n",
        "\n",
        "\n",
        "In this Notebook we will explore two methods:\n",
        "1. TF-IDF\n",
        "2. Contexual Embeddings with BERT\n",
        "  - This will be explained and implemented in section 9.2 of the notebook\n"
      ],
      "metadata": {
        "id": "kg4sNLXYRXVn"
      }
    },
    {
      "cell_type": "markdown",
      "source": [
        "## 7.1 Text Vectorization (TF-IDF)"
      ],
      "metadata": {
        "id": "GsE-zPh9xXru"
      }
    },
    {
      "cell_type": "markdown",
      "source": [
        "#### Explanation of Parameters\n",
        "\n",
        "- **`lowercase=True`**: Converts all text to lowercase.\n",
        "\n",
        "- **`stop_words='english'`**: Removes common English stopwords.\n",
        "\n",
        "- **`token_pattern`**:\n",
        "  - The default regex (`r\"(?u)\\b\\w\\w+\\b\"`) matches tokens of 2 or more characters.\n",
        "  - The adjusted regex (`r\"(?u)\\b\\w+\\b\"`) includes single-character tokens, which can be important for retaining punctuation marks like `.` or `?`.\n",
        "\n",
        "- **`ngram_range=(1, 1)`**: Specifies unigrams (individual words). You can adjust to include bigrams (`(2, 2)`) or a range (`(1, 2)`).\n",
        "\n",
        "- **`max_features=5000`**: Limits the number of tokens to the top 5,000 by TF-IDF score. Remove this parameter if you don't want a limit.\n"
      ],
      "metadata": {
        "id": "gI3p9kM60PHK"
      }
    },
    {
      "cell_type": "code",
      "source": [
        "# Define the custom vectorizer\n",
        "vectorizer = TfidfVectorizer(\n",
        "    lowercase=True,                   # Convert text to lowercase\n",
        "    stop_words='english',             # Remove stopwords\n",
        "    token_pattern=r\"(?u)\\b\\w+\\b\",     # Tokenization pattern to match words\n",
        "    ngram_range=(1, 1),               # Use unigrams (single words); adjust for n-grams\n",
        "    max_features=100                 # Limit the number of features (optional)\n",
        ")\n",
        "\n",
        "# Apply the vectorizer to your cleaned text column\n",
        "# X_tfidf = vectorizer.fit_transform(combined_df['text'])\n",
        "X_tfidf = vectorizer.fit_transform(result_df['cleaned_text'])\n",
        "\n",
        "# Get the feature names (tokens) generated by the vectorizer\n",
        "feature_names = vectorizer.get_feature_names_out()\n",
        "\n",
        "# Print the feature names and TF-IDF matrix\n",
        "print(\"Feature names:\", feature_names[:10])  # Show first 10 tokens\n",
        "print(\"TF-IDF matrix shape:\", X_tfidf.shape)\n"
      ],
      "metadata": {
        "id": "oMAas8-F0PHK",
        "colab": {
          "base_uri": "https://localhost:8080/"
        },
        "outputId": "ab9a60bc-be75-43a2-c88d-5e69146deabc"
      },
      "execution_count": null,
      "outputs": [
        {
          "output_type": "stream",
          "name": "stdout",
          "text": [
            "Feature names: ['additionally' 'advantages' 'air' 'alternative' 'appeal' 'areas'\n",
            " 'attention' 'believe' 'benefits' 'bogota']\n",
            "TF-IDF matrix shape: (2778, 100)\n"
          ]
        }
      ]
    },
    {
      "cell_type": "code",
      "source": [
        "X_tfidf"
      ],
      "metadata": {
        "id": "1d1n9qCX0PHK",
        "colab": {
          "base_uri": "https://localhost:8080/"
        },
        "outputId": "680a74a9-a0a0-4ea0-f162-e6178f944ec5"
      },
      "execution_count": null,
      "outputs": [
        {
          "output_type": "execute_result",
          "data": {
            "text/plain": [
              "<2778x100 sparse matrix of type '<class 'numpy.float64'>'\n",
              "\twith 99716 stored elements in Compressed Sparse Row format>"
            ]
          },
          "metadata": {},
          "execution_count": 31
        }
      ]
    },
    {
      "cell_type": "markdown",
      "source": [
        "The output of `TfidfVectorizer` is a **sparse matrix** where each row represents a document (in your case, a piece of text), and each column corresponds to a token (word or n-gram) extracted during the vectorization process. The values in this matrix represent the **TF-IDF scores** for each token in each document.\n",
        "\n",
        "---\n",
        "\n",
        "#### **Breaking Down the Output**\n",
        "\n",
        "#### **1. Sparse Matrix**\n",
        "The output is a sparse matrix of shape `(n_samples, n_features)`, where:\n",
        "- `n_samples` = Number of documents (rows in your dataset).\n",
        "- `n_features` = Number of unique tokens (columns, also called the vocabulary size).\n",
        "\n",
        "For example, if you have 5 text samples and the vectorizer identifies 10 unique tokens, the matrix shape will be `(5, 10)`.\n",
        "\n",
        "#### **2. TF-IDF Scores**\n",
        "Each value in the matrix is the **TF-IDF score** for a specific token in a specific document. This score indicates the importance of the token in that document relative to the entire corpus.\n",
        "\n",
        "**TF-IDF Formula:**\n",
        "\n",
        "TF-IDF(t, d) = TF(t, d) * IDF(t)\n",
        "\n",
        "\n",
        "- **Term Frequency (TF):** How often a term `t` appears in a document `d`, normalized by the total number of terms in `d`:\n",
        "\n",
        "TF(t, d) = (count of t in document d) / (total terms in document d)\n",
        "\n",
        "\n",
        "- **Inverse Document Frequency (IDF):** Measures how unique a term is across all documents. It is calculated as:\n",
        "\n",
        "IDF(t) = log(N / (1 + n_t))\n",
        "\n",
        "\n",
        "Where:\n",
        "- `N` is the total number of documents.\n",
        "- `n_t` is the number of documents containing the term `t`.\n",
        "\n",
        "#### **3. Feature Names**\n",
        "The vectorizer also provides the names of the tokens (features) it extracted. You can get them using:\n",
        "\n",
        "\n",
        "\n",
        "```\n",
        "feature_names = vectorizer.get_feature_names_out()\n",
        "```\n",
        "\n",
        "\n"
      ],
      "metadata": {
        "id": "WNMq6j770PHL"
      }
    },
    {
      "cell_type": "markdown",
      "source": [
        "# 8 - Train/Test Data Split"
      ],
      "metadata": {
        "id": "6arebfAreuAl"
      }
    },
    {
      "cell_type": "markdown",
      "source": [
        "The vectorized data (data in their numerical form) resulting from the previous section are split into Training and test datasets with a reation of 70% to 30% respectively\n",
        "\n",
        "The split Function recieves the:\n",
        "- Features: X_tfidf => sparse matrix generated after vecorization\n",
        "- Lables: result_df['generated'] => the label from the original Dataset"
      ],
      "metadata": {
        "id": "3aBms9Jpy6Mh"
      }
    },
    {
      "cell_type": "code",
      "source": [
        "# Split the dataset\n",
        "X_train, X_test, y_train, y_test = train_test_split(\n",
        "    X_tfidf,                   # Feature matrix from TfidfVectorizer\n",
        "    result_df['generated'],         # Target labels (0 = human, 1 = AI-generated)\n",
        "    test_size=0.3,             # 30% of the data for testing\n",
        "    random_state=42,           # For reproducibility\n",
        "    stratify=result_df['generated'] # Maintain class distribution\n",
        ")\n",
        "\n",
        "print(\"Training set shape:\", X_train.shape)\n",
        "print(\"Test set shape:\", X_test.shape)\n"
      ],
      "metadata": {
        "id": "Hvl0C3rbe5qO",
        "colab": {
          "base_uri": "https://localhost:8080/"
        },
        "outputId": "bc8c40aa-e1d7-4c17-86cb-94407762aa7d"
      },
      "execution_count": null,
      "outputs": [
        {
          "output_type": "stream",
          "name": "stdout",
          "text": [
            "Training set shape: (1944, 100)\n",
            "Test set shape: (834, 100)\n"
          ]
        }
      ]
    },
    {
      "cell_type": "markdown",
      "source": [
        "# 9 - Classification"
      ],
      "metadata": {
        "id": "5fF9ahQ0e7h-"
      }
    },
    {
      "cell_type": "markdown",
      "source": [
        "## 9.1 - Classical Machine Learning"
      ],
      "metadata": {
        "id": "JOzTXmggfmNI"
      }
    },
    {
      "cell_type": "markdown",
      "source": [
        "### 9.1.1 - Logistic Regression"
      ],
      "metadata": {
        "id": "8h_DAYTffr6e"
      }
    },
    {
      "cell_type": "code",
      "source": [
        "# Initialize the logistic regression model\n",
        "model = LogisticRegression(max_iter=50, random_state=42)\n",
        "\n",
        "# Train the model on the training data\n",
        "model.fit(X_train, y_train)\n",
        "\n",
        "\n",
        "# Calculate accuracies\n",
        "train_acc = accuracy_score(y_train, model.predict(X_train))\n",
        "test_acc = accuracy_score(y_test, model.predict(X_test))\n",
        "\n",
        "print(f\"Training Accuracy: {train_acc * 100:.2f}%\")\n",
        "print(f\"Test Accuracy: {test_acc * 100:.2f}%\")"
      ],
      "metadata": {
        "id": "L_7MQ-_Lfydr",
        "colab": {
          "base_uri": "https://localhost:8080/"
        },
        "outputId": "9effb54e-7ffb-4d90-a0b6-2614631335e8"
      },
      "execution_count": null,
      "outputs": [
        {
          "output_type": "stream",
          "name": "stdout",
          "text": [
            "Training Accuracy: 99.90%\n",
            "Test Accuracy: 99.64%\n"
          ]
        }
      ]
    },
    {
      "cell_type": "code",
      "source": [
        "# Make predictions on the test set\n",
        "y_pred = model.predict(X_test)\n",
        "\n",
        "# Evaluate the model\n",
        "print(\"Accuracy:\", accuracy_score(y_test, y_pred))\n",
        "print(\"\\nClassification Report:\\n\", classification_report(y_test, y_pred))"
      ],
      "metadata": {
        "id": "zxJk0eM2fyZV",
        "colab": {
          "base_uri": "https://localhost:8080/"
        },
        "outputId": "e0bceb3b-ec43-44d6-fa90-77bdb2e72da6"
      },
      "execution_count": null,
      "outputs": [
        {
          "output_type": "stream",
          "name": "stdout",
          "text": [
            "Accuracy: 0.9964028776978417\n",
            "\n",
            "Classification Report:\n",
            "               precision    recall  f1-score   support\n",
            "\n",
            "           0       1.00      1.00      1.00       413\n",
            "           1       1.00      1.00      1.00       421\n",
            "\n",
            "    accuracy                           1.00       834\n",
            "   macro avg       1.00      1.00      1.00       834\n",
            "weighted avg       1.00      1.00      1.00       834\n",
            "\n"
          ]
        }
      ]
    },
    {
      "cell_type": "code",
      "source": [
        "from sklearn.metrics import confusion_matrix, ConfusionMatrixDisplay\n",
        "\n",
        "\n",
        "y_pred = model.predict(X_test)\n",
        "# Compute the confusion matrix\n",
        "cm = confusion_matrix(y_test, y_pred)\n",
        "\n",
        "# Print the raw confusion matrix\n",
        "print(\"Confusion Matrix:\\n\", cm)\n",
        "\n",
        "# Visualize the confusion matrix\n",
        "disp = ConfusionMatrixDisplay(confusion_matrix=cm, display_labels=model.classes_)\n",
        "disp.plot(cmap='Blues')  # Adjust `cmap` for a color scheme\n"
      ],
      "metadata": {
        "id": "c9T1iG9U1Ick",
        "colab": {
          "base_uri": "https://localhost:8080/",
          "height": 521
        },
        "outputId": "22fd4f80-ddb6-4448-a109-28c8b471be79"
      },
      "execution_count": null,
      "outputs": [
        {
          "output_type": "stream",
          "name": "stdout",
          "text": [
            "Confusion Matrix:\n",
            " [[412   1]\n",
            " [  2 419]]\n"
          ]
        },
        {
          "output_type": "execute_result",
          "data": {
            "text/plain": [
              "<sklearn.metrics._plot.confusion_matrix.ConfusionMatrixDisplay at 0x7a69b5554dc0>"
            ]
          },
          "metadata": {},
          "execution_count": 35
        },
        {
          "output_type": "display_data",
          "data": {
            "text/plain": [
              "<Figure size 640x480 with 2 Axes>"
            ],
            "image/png": "[encoded data removed]"
          },
          "metadata": {}
        }
      ]
    },
    {
      "cell_type": "markdown",
      "source": [
        "### 9.1.2 - Random Forest"
      ],
      "metadata": {
        "id": "kz-66kEPfxr1"
      }
    },
    {
      "cell_type": "code",
      "source": [
        "from sklearn.ensemble import RandomForestClassifier"
      ],
      "metadata": {
        "id": "GDI_F2nVXhmP"
      },
      "execution_count": null,
      "outputs": []
    },
    {
      "cell_type": "code",
      "source": [
        "# Initialize the Random Forest model\n",
        "model = RandomForestClassifier(n_estimators=100, random_state=42)\n",
        "\n",
        "# Train the model on the training data\n",
        "model.fit(X_train, y_train)\n",
        "\n",
        "# Calculate accuracies\n",
        "train_acc = accuracy_score(y_train, model.predict(X_train))\n",
        "test_acc = accuracy_score(y_test, model.predict(X_test))\n",
        "\n",
        "print(f\"Training Accuracy: {train_acc * 100:.2f}%\")\n",
        "print(f\"Test Accuracy: {test_acc * 100:.2f}%\")\n",
        "\n",
        "# Print classification report for detailed metrics\n",
        "y_pred = model.predict(X_test)\n",
        "print(classification_report(y_test, y_pred))"
      ],
      "metadata": {
        "id": "bklbKaWEfD8-",
        "colab": {
          "base_uri": "https://localhost:8080/"
        },
        "outputId": "c3357b6d-27ee-4ecd-9603-cee1e6529857"
      },
      "execution_count": null,
      "outputs": [
        {
          "output_type": "stream",
          "name": "stdout",
          "text": [
            "Training Accuracy: 100.00%\n",
            "Test Accuracy: 99.76%\n",
            "              precision    recall  f1-score   support\n",
            "\n",
            "           0       1.00      1.00      1.00       413\n",
            "           1       1.00      1.00      1.00       421\n",
            "\n",
            "    accuracy                           1.00       834\n",
            "   macro avg       1.00      1.00      1.00       834\n",
            "weighted avg       1.00      1.00      1.00       834\n",
            "\n"
          ]
        }
      ]
    },
    {
      "cell_type": "markdown",
      "source": [
        "### 9.1. - KNN"
      ],
      "metadata": {
        "id": "WLg2vqvDU29J"
      }
    },
    {
      "cell_type": "code",
      "source": [
        "from sklearn.neighbors import KNeighborsClassifier\n",
        "from sklearn.metrics import accuracy_score, classification_report\n",
        "\n",
        "# Initialize KNN with k=5\n",
        "knn_model = KNeighborsClassifier(n_neighbors=5, metric='cosine', weights='uniform')\n",
        "\n",
        "# Train the model\n",
        "knn_model.fit(X_train, y_train)"
      ],
      "metadata": {
        "id": "5vzDAQ6wVUJ4",
        "colab": {
          "base_uri": "https://localhost:8080/",
          "height": 81
        },
        "outputId": "b159a136-3162-48c5-e61e-d1d379ba72dd"
      },
      "execution_count": null,
      "outputs": [
        {
          "output_type": "execute_result",
          "data": {
            "text/plain": [
              "KNeighborsClassifier(metric='cosine')"
            ],
            "text/html": [
              "<style>#sk-container-id-1 {\n",
              "  /* Definition of color scheme common for light and dark mode */\n",
              "  --sklearn-color-text: black;\n",
              "  --sklearn-color-line: gray;\n",
              "  /* Definition of color scheme for unfitted estimators */\n",
              "  --sklearn-color-unfitted-level-0: #fff5e6;\n",
              "  --sklearn-color-unfitted-level-1: #f6e4d2;\n",
              "  --sklearn-color-unfitted-level-2: #ffe0b3;\n",
              "  --sklearn-color-unfitted-level-3: chocolate;\n",
              "  /* Definition of color scheme for fitted estimators */\n",
              "  --sklearn-color-fitted-level-0: #f0f8ff;\n",
              "  --sklearn-color-fitted-level-1: #d4ebff;\n",
              "  --sklearn-color-fitted-level-2: #b3dbfd;\n",
              "  --sklearn-color-fitted-level-3: cornflowerblue;\n",
              "\n",
              "  /* Specific color for light theme */\n",
              "  --sklearn-color-text-on-default-background: var(--sg-text-color, var(--theme-code-foreground, var(--jp-content-font-color1, black)));\n",
              "  --sklearn-color-background: var(--sg-background-color, var(--theme-background, var(--jp-layout-color0, white)));\n",
              "  --sklearn-color-border-box: var(--sg-text-color, var(--theme-code-foreground, var(--jp-content-font-color1, black)));\n",
              "  --sklearn-color-icon: #696969;\n",
              "\n",
              "  @media (prefers-color-scheme: dark) {\n",
              "    /* Redefinition of color scheme for dark theme */\n",
              "    --sklearn-color-text-on-default-background: var(--sg-text-color, var(--theme-code-foreground, var(--jp-content-font-color1, white)));\n",
              "    --sklearn-color-background: var(--sg-background-color, var(--theme-background, var(--jp-layout-color0, #111)));\n",
              "    --sklearn-color-border-box: var(--sg-text-color, var(--theme-code-foreground, var(--jp-content-font-color1, white)));\n",
              "    --sklearn-color-icon: #878787;\n",
              "  }\n",
              "}\n",
              "\n",
              "#sk-container-id-1 {\n",
              "  color: var(--sklearn-color-text);\n",
              "}\n",
              "\n",
              "#sk-container-id-1 pre {\n",
              "  padding: 0;\n",
              "}\n",
              "\n",
              "#sk-container-id-1 input.sk-hidden--visually {\n",
              "  border: 0;\n",
              "  clip: rect(1px 1px 1px 1px);\n",
              "  clip: rect(1px, 1px, 1px, 1px);\n",
              "  height: 1px;\n",
              "  margin: -1px;\n",
              "  overflow: hidden;\n",
              "  padding: 0;\n",
              "  position: absolute;\n",
              "  width: 1px;\n",
              "}\n",
              "\n",
              "#sk-container-id-1 div.sk-dashed-wrapped {\n",
              "  border: 1px dashed var(--sklearn-color-line);\n",
              "  margin: 0 0.4em 0.5em 0.4em;\n",
              "  box-sizing: border-box;\n",
              "  padding-bottom: 0.4em;\n",
              "  background-color: var(--sklearn-color-background);\n",
              "}\n",
              "\n",
              "#sk-container-id-1 div.sk-container {\n",
              "  /* jupyter's `normalize.less` sets `[hidden] { display: none; }`\n",
              "     but bootstrap.min.css set `[hidden] { display: none !important; }`\n",
              "     so we also need the `!important` here to be able to override the\n",
              "     default hidden behavior on the sphinx rendered scikit-learn.org.\n",
              "     See: https://github.com/scikit-learn/scikit-learn/issues/21755 */\n",
              "  display: inline-block !important;\n",
              "  position: relative;\n",
              "}\n",
              "\n",
              "#sk-container-id-1 div.sk-text-repr-fallback {\n",
              "  display: none;\n",
              "}\n",
              "\n",
              "div.sk-parallel-item,\n",
              "div.sk-serial,\n",
              "div.sk-item {\n",
              "  /* draw centered vertical line to link estimators */\n",
              "  background-image: linear-gradient(var(--sklearn-color-text-on-default-background), var(--sklearn-color-text-on-default-background));\n",
              "  background-size: 2px 100%;\n",
              "  background-repeat: no-repeat;\n",
              "  background-position: center center;\n",
              "}\n",
              "\n",
              "/* Parallel-specific style estimator block */\n",
              "\n",
              "#sk-container-id-1 div.sk-parallel-item::after {\n",
              "  content: \"\";\n",
              "  width: 100%;\n",
              "  border-bottom: 2px solid var(--sklearn-color-text-on-default-background);\n",
              "  flex-grow: 1;\n",
              "}\n",
              "\n",
              "#sk-container-id-1 div.sk-parallel {\n",
              "  display: flex;\n",
              "  align-items: stretch;\n",
              "  justify-content: center;\n",
              "  background-color: var(--sklearn-color-background);\n",
              "  position: relative;\n",
              "}\n",
              "\n",
              "#sk-container-id-1 div.sk-parallel-item {\n",
              "  display: flex;\n",
              "  flex-direction: column;\n",
              "}\n",
              "\n",
              "#sk-container-id-1 div.sk-parallel-item:first-child::after {\n",
              "  align-self: flex-end;\n",
              "  width: 50%;\n",
              "}\n",
              "\n",
              "#sk-container-id-1 div.sk-parallel-item:last-child::after {\n",
              "  align-self: flex-start;\n",
              "  width: 50%;\n",
              "}\n",
              "\n",
              "#sk-container-id-1 div.sk-parallel-item:only-child::after {\n",
              "  width: 0;\n",
              "}\n",
              "\n",
              "/* Serial-specific style estimator block */\n",
              "\n",
              "#sk-container-id-1 div.sk-serial {\n",
              "  display: flex;\n",
              "  flex-direction: column;\n",
              "  align-items: center;\n",
              "  background-color: var(--sklearn-color-background);\n",
              "  padding-right: 1em;\n",
              "  padding-left: 1em;\n",
              "}\n",
              "\n",
              "\n",
              "/* Toggleable style: style used for estimator/Pipeline/ColumnTransformer box that is\n",
              "clickable and can be expanded/collapsed.\n",
              "- Pipeline and ColumnTransformer use this feature and define the default style\n",
              "- Estimators will overwrite some part of the style using the `sk-estimator` class\n",
              "*/\n",
              "\n",
              "/* Pipeline and ColumnTransformer style (default) */\n",
              "\n",
              "#sk-container-id-1 div.sk-toggleable {\n",
              "  /* Default theme specific background. It is overwritten whether we have a\n",
              "  specific estimator or a Pipeline/ColumnTransformer */\n",
              "  background-color: var(--sklearn-color-background);\n",
              "}\n",
              "\n",
              "/* Toggleable label */\n",
              "#sk-container-id-1 label.sk-toggleable__label {\n",
              "  cursor: pointer;\n",
              "  display: block;\n",
              "  width: 100%;\n",
              "  margin-bottom: 0;\n",
              "  padding: 0.5em;\n",
              "  box-sizing: border-box;\n",
              "  text-align: center;\n",
              "}\n",
              "\n",
              "#sk-container-id-1 label.sk-toggleable__label-arrow:before {\n",
              "  /* Arrow on the left of the label */\n",
              "  content: \"▸\";\n",
              "  float: left;\n",
              "  margin-right: 0.25em;\n",
              "  color: var(--sklearn-color-icon);\n",
              "}\n",
              "\n",
              "#sk-container-id-1 label.sk-toggleable__label-arrow:hover:before {\n",
              "  color: var(--sklearn-color-text);\n",
              "}\n",
              "\n",
              "/* Toggleable content - dropdown */\n",
              "\n",
              "#sk-container-id-1 div.sk-toggleable__content {\n",
              "  max-height: 0;\n",
              "  max-width: 0;\n",
              "  overflow: hidden;\n",
              "  text-align: left;\n",
              "  /* unfitted */\n",
              "  background-color: var(--sklearn-color-unfitted-level-0);\n",
              "}\n",
              "\n",
              "#sk-container-id-1 div.sk-toggleable__content.fitted {\n",
              "  /* fitted */\n",
              "  background-color: var(--sklearn-color-fitted-level-0);\n",
              "}\n",
              "\n",
              "#sk-container-id-1 div.sk-toggleable__content pre {\n",
              "  margin: 0.2em;\n",
              "  border-radius: 0.25em;\n",
              "  color: var(--sklearn-color-text);\n",
              "  /* unfitted */\n",
              "  background-color: var(--sklearn-color-unfitted-level-0);\n",
              "}\n",
              "\n",
              "#sk-container-id-1 div.sk-toggleable__content.fitted pre {\n",
              "  /* unfitted */\n",
              "  background-color: var(--sklearn-color-fitted-level-0);\n",
              "}\n",
              "\n",
              "#sk-container-id-1 input.sk-toggleable__control:checked~div.sk-toggleable__content {\n",
              "  /* Expand drop-down */\n",
              "  max-height: 200px;\n",
              "  max-width: 100%;\n",
              "  overflow: auto;\n",
              "}\n",
              "\n",
              "#sk-container-id-1 input.sk-toggleable__control:checked~label.sk-toggleable__label-arrow:before {\n",
              "  content: \"▾\";\n",
              "}\n",
              "\n",
              "/* Pipeline/ColumnTransformer-specific style */\n",
              "\n",
              "#sk-container-id-1 div.sk-label input.sk-toggleable__control:checked~label.sk-toggleable__label {\n",
              "  color: var(--sklearn-color-text);\n",
              "  background-color: var(--sklearn-color-unfitted-level-2);\n",
              "}\n",
              "\n",
              "#sk-container-id-1 div.sk-label.fitted input.sk-toggleable__control:checked~label.sk-toggleable__label {\n",
              "  background-color: var(--sklearn-color-fitted-level-2);\n",
              "}\n",
              "\n",
              "/* Estimator-specific style */\n",
              "\n",
              "/* Colorize estimator box */\n",
              "#sk-container-id-1 div.sk-estimator input.sk-toggleable__control:checked~label.sk-toggleable__label {\n",
              "  /* unfitted */\n",
              "  background-color: var(--sklearn-color-unfitted-level-2);\n",
              "}\n",
              "\n",
              "#sk-container-id-1 div.sk-estimator.fitted input.sk-toggleable__control:checked~label.sk-toggleable__label {\n",
              "  /* fitted */\n",
              "  background-color: var(--sklearn-color-fitted-level-2);\n",
              "}\n",
              "\n",
              "#sk-container-id-1 div.sk-label label.sk-toggleable__label,\n",
              "#sk-container-id-1 div.sk-label label {\n",
              "  /* The background is the default theme color */\n",
              "  color: var(--sklearn-color-text-on-default-background);\n",
              "}\n",
              "\n",
              "/* On hover, darken the color of the background */\n",
              "#sk-container-id-1 div.sk-label:hover label.sk-toggleable__label {\n",
              "  color: var(--sklearn-color-text);\n",
              "  background-color: var(--sklearn-color-unfitted-level-2);\n",
              "}\n",
              "\n",
              "/* Label box, darken color on hover, fitted */\n",
              "#sk-container-id-1 div.sk-label.fitted:hover label.sk-toggleable__label.fitted {\n",
              "  color: var(--sklearn-color-text);\n",
              "  background-color: var(--sklearn-color-fitted-level-2);\n",
              "}\n",
              "\n",
              "/* Estimator label */\n",
              "\n",
              "#sk-container-id-1 div.sk-label label {\n",
              "  font-family: monospace;\n",
              "  font-weight: bold;\n",
              "  display: inline-block;\n",
              "  line-height: 1.2em;\n",
              "}\n",
              "\n",
              "#sk-container-id-1 div.sk-label-container {\n",
              "  text-align: center;\n",
              "}\n",
              "\n",
              "/* Estimator-specific */\n",
              "#sk-container-id-1 div.sk-estimator {\n",
              "  font-family: monospace;\n",
              "  border: 1px dotted var(--sklearn-color-border-box);\n",
              "  border-radius: 0.25em;\n",
              "  box-sizing: border-box;\n",
              "  margin-bottom: 0.5em;\n",
              "  /* unfitted */\n",
              "  background-color: var(--sklearn-color-unfitted-level-0);\n",
              "}\n",
              "\n",
              "#sk-container-id-1 div.sk-estimator.fitted {\n",
              "  /* fitted */\n",
              "  background-color: var(--sklearn-color-fitted-level-0);\n",
              "}\n",
              "\n",
              "/* on hover */\n",
              "#sk-container-id-1 div.sk-estimator:hover {\n",
              "  /* unfitted */\n",
              "  background-color: var(--sklearn-color-unfitted-level-2);\n",
              "}\n",
              "\n",
              "#sk-container-id-1 div.sk-estimator.fitted:hover {\n",
              "  /* fitted */\n",
              "  background-color: var(--sklearn-color-fitted-level-2);\n",
              "}\n",
              "\n",
              "/* Specification for estimator info (e.g. \"i\" and \"?\") */\n",
              "\n",
              "/* Common style for \"i\" and \"?\" */\n",
              "\n",
              ".sk-estimator-doc-link,\n",
              "a:link.sk-estimator-doc-link,\n",
              "a:visited.sk-estimator-doc-link {\n",
              "  float: right;\n",
              "  font-size: smaller;\n",
              "  line-height: 1em;\n",
              "  font-family: monospace;\n",
              "  background-color: var(--sklearn-color-background);\n",
              "  border-radius: 1em;\n",
              "  height: 1em;\n",
              "  width: 1em;\n",
              "  text-decoration: none !important;\n",
              "  margin-left: 1ex;\n",
              "  /* unfitted */\n",
              "  border: var(--sklearn-color-unfitted-level-1) 1pt solid;\n",
              "  color: var(--sklearn-color-unfitted-level-1);\n",
              "}\n",
              "\n",
              ".sk-estimator-doc-link.fitted,\n",
              "a:link.sk-estimator-doc-link.fitted,\n",
              "a:visited.sk-estimator-doc-link.fitted {\n",
              "  /* fitted */\n",
              "  border: var(--sklearn-color-fitted-level-1) 1pt solid;\n",
              "  color: var(--sklearn-color-fitted-level-1);\n",
              "}\n",
              "\n",
              "/* On hover */\n",
              "div.sk-estimator:hover .sk-estimator-doc-link:hover,\n",
              ".sk-estimator-doc-link:hover,\n",
              "div.sk-label-container:hover .sk-estimator-doc-link:hover,\n",
              ".sk-estimator-doc-link:hover {\n",
              "  /* unfitted */\n",
              "  background-color: var(--sklearn-color-unfitted-level-3);\n",
              "  color: var(--sklearn-color-background);\n",
              "  text-decoration: none;\n",
              "}\n",
              "\n",
              "div.sk-estimator.fitted:hover .sk-estimator-doc-link.fitted:hover,\n",
              ".sk-estimator-doc-link.fitted:hover,\n",
              "div.sk-label-container:hover .sk-estimator-doc-link.fitted:hover,\n",
              ".sk-estimator-doc-link.fitted:hover {\n",
              "  /* fitted */\n",
              "  background-color: var(--sklearn-color-fitted-level-3);\n",
              "  color: var(--sklearn-color-background);\n",
              "  text-decoration: none;\n",
              "}\n",
              "\n",
              "/* Span, style for the box shown on hovering the info icon */\n",
              ".sk-estimator-doc-link span {\n",
              "  display: none;\n",
              "  z-index: 9999;\n",
              "  position: relative;\n",
              "  font-weight: normal;\n",
              "  right: .2ex;\n",
              "  padding: .5ex;\n",
              "  margin: .5ex;\n",
              "  width: min-content;\n",
              "  min-width: 20ex;\n",
              "  max-width: 50ex;\n",
              "  color: var(--sklearn-color-text);\n",
              "  box-shadow: 2pt 2pt 4pt #999;\n",
              "  /* unfitted */\n",
              "  background: var(--sklearn-color-unfitted-level-0);\n",
              "  border: .5pt solid var(--sklearn-color-unfitted-level-3);\n",
              "}\n",
              "\n",
              ".sk-estimator-doc-link.fitted span {\n",
              "  /* fitted */\n",
              "  background: var(--sklearn-color-fitted-level-0);\n",
              "  border: var(--sklearn-color-fitted-level-3);\n",
              "}\n",
              "\n",
              ".sk-estimator-doc-link:hover span {\n",
              "  display: block;\n",
              "}\n",
              "\n",
              "/* \"?\"-specific style due to the `<a>` HTML tag */\n",
              "\n",
              "#sk-container-id-1 a.estimator_doc_link {\n",
              "  float: right;\n",
              "  font-size: 1rem;\n",
              "  line-height: 1em;\n",
              "  font-family: monospace;\n",
              "  background-color: var(--sklearn-color-background);\n",
              "  border-radius: 1rem;\n",
              "  height: 1rem;\n",
              "  width: 1rem;\n",
              "  text-decoration: none;\n",
              "  /* unfitted */\n",
              "  color: var(--sklearn-color-unfitted-level-1);\n",
              "  border: var(--sklearn-color-unfitted-level-1) 1pt solid;\n",
              "}\n",
              "\n",
              "#sk-container-id-1 a.estimator_doc_link.fitted {\n",
              "  /* fitted */\n",
              "  border: var(--sklearn-color-fitted-level-1) 1pt solid;\n",
              "  color: var(--sklearn-color-fitted-level-1);\n",
              "}\n",
              "\n",
              "/* On hover */\n",
              "#sk-container-id-1 a.estimator_doc_link:hover {\n",
              "  /* unfitted */\n",
              "  background-color: var(--sklearn-color-unfitted-level-3);\n",
              "  color: var(--sklearn-color-background);\n",
              "  text-decoration: none;\n",
              "}\n",
              "\n",
              "#sk-container-id-1 a.estimator_doc_link.fitted:hover {\n",
              "  /* fitted */\n",
              "  background-color: var(--sklearn-color-fitted-level-3);\n",
              "}\n",
              "</style><div id=\"sk-container-id-1\" class=\"sk-top-container\"><div class=\"sk-text-repr-fallback\"><pre>KNeighborsClassifier(metric=&#x27;cosine&#x27;)</pre><b>In a Jupyter environment, please rerun this cell to show the HTML representation or trust the notebook. <br />On GitHub, the HTML representation is unable to render, please try loading this page with nbviewer.org.</b></div><div class=\"sk-container\" hidden><div class=\"sk-item\"><div class=\"sk-estimator fitted sk-toggleable\"><input class=\"sk-toggleable__control sk-hidden--visually\" id=\"sk-estimator-id-1\" type=\"checkbox\" checked><label for=\"sk-estimator-id-1\" class=\"sk-toggleable__label fitted sk-toggleable__label-arrow fitted\">&nbsp;&nbsp;KNeighborsClassifier<a class=\"sk-estimator-doc-link fitted\" rel=\"noreferrer\" target=\"_blank\" href=\"https://scikit-learn.org/1.5/modules/generated/sklearn.neighbors.KNeighborsClassifier.html\">?<span>Documentation for KNeighborsClassifier</span></a><span class=\"sk-estimator-doc-link fitted\">i<span>Fitted</span></span></label><div class=\"sk-toggleable__content fitted\"><pre>KNeighborsClassifier(metric=&#x27;cosine&#x27;)</pre></div> </div></div></div></div>"
            ]
          },
          "metadata": {},
          "execution_count": 38
        }
      ]
    },
    {
      "cell_type": "code",
      "source": [
        "# Make predictions on training and test data\n",
        "y_train_pred = knn_model.predict(X_train)\n",
        "y_test_pred = knn_model.predict(X_test)\n",
        "\n",
        "# Calculate accuracies\n",
        "train_acc = accuracy_score(y_train, y_train_pred)\n",
        "test_acc = accuracy_score(y_test, y_test_pred)\n",
        "\n",
        "print(f\"Training Accuracy: {train_acc * 100:.2f}%\")\n",
        "print(f\"Test Accuracy: {test_acc * 100:.2f}%\")\n",
        "\n",
        "# Classification report\n",
        "print(\"Classification Report:\\n\", classification_report(y_test, y_test_pred))\n"
      ],
      "metadata": {
        "id": "4E0NoXnIVUUX",
        "colab": {
          "base_uri": "https://localhost:8080/"
        },
        "outputId": "3f866ac4-bd67-4cb0-ae83-c43d6bc807d5"
      },
      "execution_count": null,
      "outputs": [
        {
          "output_type": "stream",
          "name": "stdout",
          "text": [
            "Training Accuracy: 99.74%\n",
            "Test Accuracy: 99.52%\n",
            "Classification Report:\n",
            "               precision    recall  f1-score   support\n",
            "\n",
            "           0       1.00      1.00      1.00       413\n",
            "           1       1.00      1.00      1.00       421\n",
            "\n",
            "    accuracy                           1.00       834\n",
            "   macro avg       1.00      1.00      1.00       834\n",
            "weighted avg       1.00      1.00      1.00       834\n",
            "\n"
          ]
        }
      ]
    },
    {
      "cell_type": "code",
      "source": [
        "from sklearn.model_selection import GridSearchCV\n",
        "\n",
        "# Define a parameter grid\n",
        "param_grid = {\n",
        "    'n_neighbors': [3, 5, 7, 10],\n",
        "    'weights': ['uniform', 'distance'],\n",
        "    'metric': ['euclidean', 'cosine']\n",
        "}\n",
        "\n",
        "# Perform grid search\n",
        "grid_search = GridSearchCV(KNeighborsClassifier(), param_grid, cv=5, scoring='accuracy')\n",
        "grid_search.fit(X_train, y_train)\n",
        "\n",
        "# Print the best parameters and accuracy\n",
        "print(\"Best Parameters:\", grid_search.best_params_)\n",
        "print(\"Best Cross-Validation Accuracy:\", grid_search.best_score_)\n"
      ],
      "metadata": {
        "id": "9oAUq1YzVHub",
        "colab": {
          "base_uri": "https://localhost:8080/"
        },
        "outputId": "a335bc91-668b-403a-8b0b-3cd6733310a9"
      },
      "execution_count": null,
      "outputs": [
        {
          "output_type": "stream",
          "name": "stdout",
          "text": [
            "Best Parameters: {'metric': 'euclidean', 'n_neighbors': 3, 'weights': 'uniform'}\n",
            "Best Cross-Validation Accuracy: 0.9969111917949807\n"
          ]
        },
        {
          "output_type": "stream",
          "name": "stderr",
          "text": [
            "/usr/local/lib/python3.10/dist-packages/numpy/ma/core.py:2820: RuntimeWarning: invalid value encountered in cast\n",
            "  _data = np.array(data, dtype=dtype, copy=copy,\n"
          ]
        }
      ]
    },
    {
      "cell_type": "code",
      "source": [
        "from sklearn.metrics import confusion_matrix, ConfusionMatrixDisplay\n",
        "\n",
        "# Compute confusion matrix\n",
        "cm = confusion_matrix(y_test, y_test_pred)\n",
        "disp = ConfusionMatrixDisplay(confusion_matrix=cm, display_labels=knn_model.classes_)\n",
        "disp.plot(cmap='Blues')\n",
        "plt.show()\n"
      ],
      "metadata": {
        "id": "gUSL8LgZXt-F",
        "colab": {
          "base_uri": "https://localhost:8080/",
          "height": 449
        },
        "outputId": "02632be4-e0ef-490c-c3a5-19d7504fba18"
      },
      "execution_count": null,
      "outputs": [
        {
          "output_type": "display_data",
          "data": {
            "text/plain": [
              "<Figure size 640x480 with 2 Axes>"
            ],
            "image/png": "[encoded data removed]"
          },
          "metadata": {}
        }
      ]
    },
    {
      "cell_type": "markdown",
      "source": [
        "### 9.1.4 - SVMs"
      ],
      "metadata": {
        "id": "L_aF2PYcf6NR"
      }
    },
    {
      "cell_type": "code",
      "source": [
        "from sklearn.svm import SVC\n",
        "\n",
        "# Initialize the SVM model\n",
        "svm_model = SVC(kernel='linear', C=1, random_state=42) # linear kernel, Gamma = 1\n",
        "\n",
        "# Train the model\n",
        "svm_model.fit(X_train, y_train)\n",
        "\n",
        "# Make predictions\n",
        "y_pred_svm = svm_model.predict(X_test)\n",
        "\n",
        "# Evaluate the model\n",
        "train_acc_svm = accuracy_score(y_train, svm_model.predict(X_train))\n",
        "test_acc_svm = accuracy_score(y_test, y_pred_svm)\n",
        "\n",
        "print(f\"SVM Training Accuracy: {train_acc_svm * 100:.2f}%\")\n",
        "print(f\"SVM Test Accuracy: {test_acc_svm * 100:.2f}%\")\n",
        "\n",
        "print(\"\\nSVM Classification Report:\\n\", classification_report(y_test, y_pred_svm))\n",
        "\n",
        "# Confusion Matrix\n",
        "cm_svm = confusion_matrix(y_test, y_pred_svm)\n",
        "print(\"SVM Confusion Matrix:\\n\", cm_svm)\n",
        "disp_svm = ConfusionMatrixDisplay(confusion_matrix=cm_svm, display_labels=svm_model.classes_)\n",
        "disp_svm.plot(cmap='Blues')\n",
        "plt.show()"
      ],
      "metadata": {
        "id": "q0quKyZ2f9we",
        "colab": {
          "base_uri": "https://localhost:8080/",
          "height": 736
        },
        "outputId": "174a00dc-c841-43cc-fa01-f9ea77bc17d1"
      },
      "execution_count": null,
      "outputs": [
        {
          "output_type": "stream",
          "name": "stdout",
          "text": [
            "SVM Training Accuracy: 99.95%\n",
            "SVM Test Accuracy: 99.76%\n",
            "\n",
            "SVM Classification Report:\n",
            "               precision    recall  f1-score   support\n",
            "\n",
            "           0       1.00      1.00      1.00       413\n",
            "           1       1.00      1.00      1.00       421\n",
            "\n",
            "    accuracy                           1.00       834\n",
            "   macro avg       1.00      1.00      1.00       834\n",
            "weighted avg       1.00      1.00      1.00       834\n",
            "\n",
            "SVM Confusion Matrix:\n",
            " [[413   0]\n",
            " [  2 419]]\n"
          ]
        },
        {
          "output_type": "display_data",
          "data": {
            "text/plain": [
              "<Figure size 640x480 with 2 Axes>"
            ],
            "image/png": "[encoded data removed]"
          },
          "metadata": {}
        }
      ]
    },
    {
      "cell_type": "markdown",
      "source": [
        "## 9.2 - Neural Networks\n",
        "\n",
        "In this section, we classify text using a deep learning approach, which is going to be different than the previous approaches in:\n",
        "- The Data representation\n",
        "- The Classification Algorithm\n",
        "\n",
        "### Key Difference in Data Representation\n",
        "The primary distinction between this approach and the previous one lies in how we represent text data numerically (feature extraction). Previously, we used **TF-IDF (Term Frequency-Inverse Document Frequency)**, a statistical representation of text. While TF-IDF performed well for our use case, it has a limitations. It fails to capture the context and semantics of the text, as it treats each word independently and disregards word order or meaning.\n",
        "\n",
        "### Vector Embeddings for Semantic Representation\n",
        "To overcome these limitations, we use **vector embeddings**, a more sophisticated method of text representation.\n",
        "\n",
        "**Vector embeddings** are dense, fixed-length representations of text where semantically similar pieces of text are closer in the vector space. These embeddings capture rich contextual and semantic information, making them particularly suitable for downstream tasks like classification.\n",
        "\n",
        "We generate these embeddings by passing the text through a **large language model (LLM)** optimized for embedding generation. Some examples of such models include:\n",
        "- **BERT (Bidirectional Encoder Representations from Transformers)**: Captures context from both directions (left and right).\n",
        "- **DistilBERT**: A smaller, faster, and efficient version of BERT with minimal performance loss.\n",
        "- **RoBERTa**: A robustly optimized version of BERT.\n",
        "\n",
        "### Classification Using Neural Networks\n",
        "Once we obtain the embeddings, we can approach classification in two ways:\n",
        "1. Using classical statistical machine learning methods, such as logistic regression or support vector machines (SVM).\n",
        "2. Using a neural network with a binary classification output head.\n",
        "\n",
        "\n",
        "\n"
      ],
      "metadata": {
        "id": "0RXCCSgvgHkR"
      }
    },
    {
      "cell_type": "markdown",
      "source": [
        "### 9.1 - Our Chosen Approach\n",
        "\n",
        "For this project, we chose the second approach, as it offers the potential to better leverage the rich contextual information encapsulated in the embeddings.\n",
        "\n",
        "### Why BERT for Embeddings?\n",
        "We decided to use **BERT** for generating embeddings because of its proven effectiveness in capturing semantic and contextual information. BERT is pre-trained on a massive corpus of text and excels in transfer learning, making it suitable for our use case.\n",
        "\n",
        "Additionally, BERT offers a variety of implementations including **DistilBERTForSequenceClassification**, which we decided to work with in our approach because it:\n",
        "- Reduces the computational overhead compared to the full BERT model.\n",
        "- Comes with a pre-defined classification head, simplifying our implementation process.\n",
        "\n",
        "\n",
        "\n",
        "By leveraging this deep learning approach, we aim to achieve a more accurate classification performance compared to traditional statistical methods.\n",
        "\n",
        "---\n",
        "\n",
        "### Architecture\n",
        "\n",
        "![1*Z72vqIjczkN-DlaXyIhBcQ.webp](data:image/webp;base64,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)\n",
        "\n",
        "**DistilBERTForSequenceClassification** consists of two parts:\n",
        "- Core Pretrained Distil BERT model\n",
        "- A pre-designed MLP classification head for classifcation\n",
        "\n",
        "We are going to freeze the parameters of the core BERT Model, and only train the classification head parameters.\n",
        "\n",
        "\n",
        "\n",
        "\n",
        "#### Steps to Modify and Fine-Tune BERT for Text Classification\n",
        "1. The Pretrained Distil-BERT Model generates embeddings, which will be fed into a classification head.\n",
        "2. The Classification Layer is a simple fully connected (dense) layer on top of BERT's pooled output (token embedding) for binary classification.\n",
        "3. Parameters of Distil-BERT Layers are freezed. We Only train  the classification layer.\n",
        "4. Train on Your Dataset: Train the model using the labeled dataset"
      ],
      "metadata": {
        "id": "9IL0OICVkLJM"
      }
    },
    {
      "cell_type": "code",
      "source": [
        "! pip install datasets"
      ],
      "metadata": {
        "collapsed": true,
        "id": "6JDUUAgXUWO9",
        "colab": {
          "base_uri": "https://localhost:8080/"
        },
        "outputId": "667ed444-203b-4446-e468-3a7ecba43914"
      },
      "execution_count": null,
      "outputs": [
        {
          "output_type": "stream",
          "name": "stdout",
          "text": [
            "Requirement already satisfied: datasets in /usr/local/lib/python3.10/dist-packages (3.1.0)\n",
            "Requirement already satisfied: filelock in /usr/local/lib/python3.10/dist-packages (from datasets) (3.16.1)\n",
            "Requirement already satisfied: numpy>=1.17 in /usr/local/lib/python3.10/dist-packages (from datasets) (1.26.4)\n",
            "Requirement already satisfied: pyarrow>=15.0.0 in /usr/local/lib/python3.10/dist-packages (from datasets) (17.0.0)\n",
            "Requirement already satisfied: dill<0.3.9,>=0.3.0 in /usr/local/lib/python3.10/dist-packages (from datasets) (0.3.8)\n",
            "Requirement already satisfied: pandas in /usr/local/lib/python3.10/dist-packages (from datasets) (2.2.2)\n",
            "Requirement already satisfied: requests>=2.32.2 in /usr/local/lib/python3.10/dist-packages (from datasets) (2.32.3)\n",
            "Requirement already satisfied: tqdm>=4.66.3 in /usr/local/lib/python3.10/dist-packages (from datasets) (4.66.6)\n",
            "Requirement already satisfied: xxhash in /usr/local/lib/python3.10/dist-packages (from datasets) (3.5.0)\n",
            "Requirement already satisfied: multiprocess<0.70.17 in /usr/local/lib/python3.10/dist-packages (from datasets) (0.70.16)\n",
            "Requirement already satisfied: fsspec<=2024.9.0,>=2023.1.0 in /usr/local/lib/python3.10/dist-packages (from fsspec[http]<=2024.9.0,>=2023.1.0->datasets) (2024.9.0)\n",
            "Requirement already satisfied: aiohttp in /usr/local/lib/python3.10/dist-packages (from datasets) (3.11.9)\n",
            "Requirement already satisfied: huggingface-hub>=0.23.0 in /usr/local/lib/python3.10/dist-packages (from datasets) (0.26.3)\n",
            "Requirement already satisfied: packaging in /usr/local/lib/python3.10/dist-packages (from datasets) (24.2)\n",
            "Requirement already satisfied: pyyaml>=5.1 in /usr/local/lib/python3.10/dist-packages (from datasets) (6.0.2)\n",
            "Requirement already satisfied: aiohappyeyeballs>=2.3.0 in /usr/local/lib/python3.10/dist-packages (from aiohttp->datasets) (2.4.4)\n",
            "Requirement already satisfied: aiosignal>=1.1.2 in /usr/local/lib/python3.10/dist-packages (from aiohttp->datasets) (1.3.1)\n",
            "Requirement already satisfied: async-timeout<6.0,>=4.0 in /usr/local/lib/python3.10/dist-packages (from aiohttp->datasets) (4.0.3)\n",
            "Requirement already satisfied: attrs>=17.3.0 in /usr/local/lib/python3.10/dist-packages (from aiohttp->datasets) (24.2.0)\n",
            "Requirement already satisfied: frozenlist>=1.1.1 in /usr/local/lib/python3.10/dist-packages (from aiohttp->datasets) (1.5.0)\n",
            "Requirement already satisfied: multidict<7.0,>=4.5 in /usr/local/lib/python3.10/dist-packages (from aiohttp->datasets) (6.1.0)\n",
            "Requirement already satisfied: propcache>=0.2.0 in /usr/local/lib/python3.10/dist-packages (from aiohttp->datasets) (0.2.1)\n",
            "Requirement already satisfied: yarl<2.0,>=1.17.0 in /usr/local/lib/python3.10/dist-packages (from aiohttp->datasets) (1.18.3)\n",
            "Requirement already satisfied: typing-extensions>=3.7.4.3 in /usr/local/lib/python3.10/dist-packages (from huggingface-hub>=0.23.0->datasets) (4.12.2)\n",
            "Requirement already satisfied: charset-normalizer<4,>=2 in /usr/local/lib/python3.10/dist-packages (from requests>=2.32.2->datasets) (3.4.0)\n",
            "Requirement already satisfied: idna<4,>=2.5 in /usr/local/lib/python3.10/dist-packages (from requests>=2.32.2->datasets) (3.10)\n",
            "Requirement already satisfied: urllib3<3,>=1.21.1 in /usr/local/lib/python3.10/dist-packages (from requests>=2.32.2->datasets) (2.2.3)\n",
            "Requirement already satisfied: certifi>=2017.4.17 in /usr/local/lib/python3.10/dist-packages (from requests>=2.32.2->datasets) (2024.8.30)\n",
            "Requirement already satisfied: python-dateutil>=2.8.2 in /usr/local/lib/python3.10/dist-packages (from pandas->datasets) (2.8.2)\n",
            "Requirement already satisfied: pytz>=2020.1 in /usr/local/lib/python3.10/dist-packages (from pandas->datasets) (2024.2)\n",
            "Requirement already satisfied: tzdata>=2022.7 in /usr/local/lib/python3.10/dist-packages (from pandas->datasets) (2024.2)\n",
            "Requirement already satisfied: six>=1.5 in /usr/local/lib/python3.10/dist-packages (from python-dateutil>=2.8.2->pandas->datasets) (1.16.0)\n"
          ]
        }
      ]
    },
    {
      "cell_type": "code",
      "source": [
        "import torch\n",
        "from transformers import BertTokenizer, BertForSequenceClassification, Trainer, TrainingArguments\n",
        "from datasets import load_dataset\n",
        "from sklearn.model_selection import train_test_split\n",
        "import re"
      ],
      "metadata": {
        "id": "9Bxnk1OvR6Pf"
      },
      "execution_count": null,
      "outputs": []
    },
    {
      "cell_type": "code",
      "source": [
        "# Split into train and test\n",
        "texts = result_df['cleaned_text']\n",
        "labels = result_df['generated']\n",
        "X_train, X_test, y_train, y_test = train_test_split(texts, labels, test_size=0.2, random_state=42)\n"
      ],
      "metadata": {
        "id": "SgaVLJljUJja"
      },
      "execution_count": null,
      "outputs": []
    },
    {
      "cell_type": "markdown",
      "source": [
        "### 9.2 - Tokenization\n",
        "\n",
        "We use the **DistilBERT Tokenizer** to convert text into token IDs suitable for the DistilBERT model.\n",
        "\n",
        "- **Tokenizer**: `DistilBertTokenizer.from_pretrained('distilbert-base-uncased')`\n",
        "- **Tokenization Parameters**:\n",
        "  - `max_length=128`: Maximum token length.\n",
        "  - `padding=\"max_length\"`: Pads sequences to the maximum length.\n",
        "  - `truncation=True`: Truncates sequences longer than `max_length`.\n",
        "\n",
        "---"
      ],
      "metadata": {
        "id": "gUIRurBUGQFU"
      }
    },
    {
      "cell_type": "code",
      "source": [
        "# 3. **Tokenization using BERT Tokenizer**\n",
        "tokenizer = BertTokenizer.from_pretrained('bert-base-uncased')\n",
        "\n",
        "def tokenize_function(examples):\n",
        "    return tokenizer(examples['cleaned_text'], padding='max_length', truncation=True, max_length=128)"
      ],
      "metadata": {
        "id": "Gtst7KlvUnPJ"
      },
      "execution_count": null,
      "outputs": []
    },
    {
      "cell_type": "markdown",
      "source": [
        "### 9.3 - Dataset Preprocessing\n",
        "\n",
        "The `TextDataset` class is preprocess the text datset before it is passed to the Bert model.\n",
        "It performs the following key functions:\n",
        "\n"
      ],
      "metadata": {
        "id": "Rj6jqLKRHAcU"
      }
    },
    {
      "cell_type": "code",
      "source": [
        "from transformers import BertTokenizer, BertModel, BertForSequenceClassification, DistilBertTokenizer, DistilBertForSequenceClassification\n",
        "from torch.utils.data import DataLoader, Dataset\n",
        "from torch.optim import AdamW\n",
        "from torch.nn import CrossEntropyLoss\n",
        "import torch"
      ],
      "metadata": {
        "id": "kd6e6T7GIxdw"
      },
      "execution_count": null,
      "outputs": []
    },
    {
      "cell_type": "markdown",
      "source": [],
      "metadata": {
        "id": "4vacnX6hI4Sm"
      }
    },
    {
      "cell_type": "code",
      "source": [
        "\n",
        "\n",
        "# Step 1: Define a custom dataset\n",
        "class TextDataset(Dataset):\n",
        "    def __init__(self, texts, labels, tokenizer, max_len):\n",
        "        self.texts = texts\n",
        "        self.labels = labels\n",
        "        self.tokenizer = tokenizer\n",
        "        self.max_len = max_len\n",
        "\n",
        "    def __len__(self):\n",
        "        return len(self.texts)\n",
        "\n",
        "    def __getitem__(self, idx):\n",
        "        text = self.texts.iloc[idx]\n",
        "        label = self.labels.iloc[idx]\n",
        "        encoding = self.tokenizer(\n",
        "            text,\n",
        "            max_length=self.max_len,\n",
        "            padding=\"max_length\",\n",
        "            truncation=True,\n",
        "            return_tensors=\"pt\",\n",
        "        )\n",
        "        return {\n",
        "            \"input_ids\": encoding[\"input_ids\"].squeeze(0),\n",
        "            \"attention_mask\": encoding[\"attention_mask\"].squeeze(0),\n",
        "            \"label\": torch.tensor(label, dtype=torch.long),\n",
        "        }"
      ],
      "metadata": {
        "id": "5LMs0e_tI1cF"
      },
      "execution_count": null,
      "outputs": []
    },
    {
      "cell_type": "markdown",
      "source": [
        "### 9.4 - Loading  Model and Training"
      ],
      "metadata": {
        "id": "ICT22RlRQC4-"
      }
    },
    {
      "cell_type": "code",
      "source": [
        "# Load pre-trained Distil-BERT model with classification head\n",
        "model = DistilBertForSequenceClassification.from_pretrained(\"distilbert-base-uncased\", num_labels=2)\n",
        "tokenizer = DistilBertTokenizer.from_pretrained(\"distilbert-base-uncased\")"
      ],
      "metadata": {
        "colab": {
          "base_uri": "https://localhost:8080/"
        },
        "id": "ohxMbm74QUNL",
        "outputId": "71611c4e-49f7-4a9a-b308-8d05e8bddfc7"
      },
      "execution_count": null,
      "outputs": [
        {
          "output_type": "stream",
          "name": "stderr",
          "text": [
            "Some weights of DistilBertForSequenceClassification were not initialized from the model checkpoint at distilbert-base-uncased and are newly initialized: ['classifier.bias', 'classifier.weight', 'pre_classifier.bias', 'pre_classifier.weight']\n",
            "You should probably TRAIN this model on a down-stream task to be able to use it for predictions and inference.\n"
          ]
        }
      ]
    },
    {
      "cell_type": "code",
      "source": [
        "\n",
        "\n",
        "# Freeze the parameters of BERT model (only classification head will be trained)\n",
        "for param in model.distilbert.parameters():\n",
        "    param.requires_grad = False\n",
        "\n",
        "#  Prepare dataset and dataloader\n",
        "texts = X_train\n",
        "labels = y_train\n",
        "\n",
        "dataset = TextDataset(texts, labels, tokenizer, max_len=128)\n",
        "dataloader = DataLoader(dataset, batch_size=32, shuffle=True)\n",
        "\n",
        "#  Define optimizer and loss\n",
        "optimizer = AdamW(model.parameters(), lr=5e-3)\n",
        "loss_fn = CrossEntropyLoss()\n",
        "\n",
        "#  Training loop\n",
        "device = torch.device(\"cuda\" if torch.cuda.is_available() else \"cpu\")\n",
        "model.to(device)\n",
        "\n",
        "for epoch in range(3):  # Number of epochs\n",
        "    model.train()\n",
        "    for batch in dataloader:\n",
        "        input_ids = batch[\"input_ids\"].to(device)\n",
        "        attention_mask = batch[\"attention_mask\"].to(device)\n",
        "        labels = batch[\"label\"].to(device)\n",
        "\n",
        "        # Forward pass\n",
        "        outputs = model(input_ids=input_ids, attention_mask=attention_mask, labels=labels)\n",
        "        loss = outputs.loss  # Classification loss\n",
        "        logits = outputs.logits  # Predicted scores\n",
        "\n",
        "        # Backward pass and optimization\n",
        "        optimizer.zero_grad()\n",
        "        loss.backward()\n",
        "        optimizer.step()\n",
        "\n",
        "        print(f\"Epoch {epoch}, Loss: {loss.item()}\")\n",
        "\n",
        "# Step 6: Save the fine-tuned model\n",
        "model.save_pretrained(\"./fine_tuned_bert\")\n",
        "tokenizer.save_pretrained(\"./fine_tuned_bert\")\n"
      ],
      "metadata": {
        "id": "kgu_aypGqDco",
        "colab": {
          "base_uri": "https://localhost:8080/"
        },
        "outputId": "9a7a4093-7f98-464f-adb4-c1779c9b0435"
      },
      "execution_count": null,
      "outputs": [
        {
          "output_type": "stream",
          "name": "stdout",
          "text": [
            "Epoch 0, Loss: 0.7010154724121094\n",
            "Epoch 0, Loss: 0.42748206853866577\n",
            "Epoch 0, Loss: 1.2700436115264893\n",
            "Epoch 0, Loss: 0.24975568056106567\n",
            "Epoch 0, Loss: 0.7304835319519043\n",
            "Epoch 0, Loss: 0.12947523593902588\n",
            "Epoch 0, Loss: 0.1349378526210785\n",
            "Epoch 0, Loss: 0.16917482018470764\n",
            "Epoch 0, Loss: 0.13955260813236237\n",
            "Epoch 0, Loss: 0.2253650575876236\n",
            "Epoch 0, Loss: 0.025055037811398506\n",
            "Epoch 0, Loss: 0.04773847013711929\n",
            "Epoch 0, Loss: 0.12113944441080093\n",
            "Epoch 0, Loss: 0.11364512145519257\n",
            "Epoch 0, Loss: 0.04939364641904831\n",
            "Epoch 0, Loss: 0.030360328033566475\n",
            "Epoch 0, Loss: 0.018251681700348854\n",
            "Epoch 0, Loss: 0.006893020123243332\n",
            "Epoch 0, Loss: 0.07910246402025223\n",
            "Epoch 0, Loss: 0.00798255205154419\n",
            "Epoch 0, Loss: 0.00394628569483757\n",
            "Epoch 0, Loss: 0.0013099091593176126\n",
            "Epoch 0, Loss: 0.0016309090424329042\n",
            "Epoch 0, Loss: 0.008048264309763908\n",
            "Epoch 0, Loss: 0.0025106787215918303\n",
            "Epoch 0, Loss: 0.000764101161621511\n",
            "Epoch 0, Loss: 0.004343648906797171\n",
            "Epoch 0, Loss: 0.011509339325129986\n",
            "Epoch 0, Loss: 0.0004219159309286624\n",
            "Epoch 0, Loss: 0.003927682060748339\n",
            "Epoch 0, Loss: 0.0019214951898902655\n",
            "Epoch 0, Loss: 0.0003481500316411257\n",
            "Epoch 0, Loss: 0.000366199150448665\n",
            "Epoch 0, Loss: 0.0009758746600709856\n",
            "Epoch 0, Loss: 0.0005851731402799487\n",
            "Epoch 0, Loss: 0.0019367545610293746\n",
            "Epoch 0, Loss: 0.0007936432375572622\n",
            "Epoch 0, Loss: 0.11712051928043365\n",
            "Epoch 0, Loss: 0.02052377350628376\n",
            "Epoch 0, Loss: 0.004601879045367241\n",
            "Epoch 0, Loss: 0.000949476845562458\n",
            "Epoch 0, Loss: 0.0005084549193270504\n",
            "Epoch 0, Loss: 0.05216195061802864\n",
            "Epoch 0, Loss: 0.0013773683458566666\n",
            "Epoch 0, Loss: 0.0013056357856839895\n",
            "Epoch 0, Loss: 0.0007512687589041889\n",
            "Epoch 0, Loss: 0.0008464943966828287\n",
            "Epoch 0, Loss: 0.38122695684432983\n",
            "Epoch 0, Loss: 0.014904441311955452\n",
            "Epoch 0, Loss: 0.00011799555795732886\n",
            "Epoch 0, Loss: 0.004793479107320309\n",
            "Epoch 0, Loss: 7.54876818973571e-05\n",
            "Epoch 0, Loss: 0.002683415077626705\n",
            "Epoch 0, Loss: 3.923749682144262e-05\n",
            "Epoch 0, Loss: 0.02434166520833969\n",
            "Epoch 0, Loss: 0.0049136728048324585\n",
            "Epoch 0, Loss: 0.001707914867438376\n",
            "Epoch 0, Loss: 0.0007479141349904239\n",
            "Epoch 0, Loss: 0.0005993811064399779\n",
            "Epoch 0, Loss: 0.0003393942315597087\n",
            "Epoch 0, Loss: 0.00012152994167990983\n",
            "Epoch 0, Loss: 0.0003280329692643136\n",
            "Epoch 0, Loss: 0.0021289789583534002\n",
            "Epoch 0, Loss: 0.020562853664159775\n",
            "Epoch 0, Loss: 0.00017481758550275117\n",
            "Epoch 0, Loss: 0.012125254608690739\n",
            "Epoch 0, Loss: 0.0003116138104815036\n",
            "Epoch 0, Loss: 0.000925313273910433\n",
            "Epoch 0, Loss: 0.0008611525408923626\n",
            "Epoch 0, Loss: 0.02241087518632412\n",
            "Epoch 1, Loss: 0.26070839166641235\n",
            "Epoch 1, Loss: 0.0014592912048101425\n",
            "Epoch 1, Loss: 0.022616202011704445\n",
            "Epoch 1, Loss: 0.09365148097276688\n",
            "Epoch 1, Loss: 0.0024225404486060143\n",
            "Epoch 1, Loss: 0.03413916379213333\n",
            "Epoch 1, Loss: 0.06867466121912003\n",
            "Epoch 1, Loss: 0.008455759845674038\n",
            "Epoch 1, Loss: 0.009212388657033443\n",
            "Epoch 1, Loss: 0.0004132987232878804\n",
            "Epoch 1, Loss: 0.07166031748056412\n",
            "Epoch 1, Loss: 0.0014406959526240826\n",
            "Epoch 1, Loss: 0.016323382034897804\n",
            "Epoch 1, Loss: 0.02587995119392872\n",
            "Epoch 1, Loss: 0.024402132257819176\n",
            "Epoch 1, Loss: 0.02542140707373619\n",
            "Epoch 1, Loss: 0.004998210817575455\n",
            "Epoch 1, Loss: 0.0007887764368206263\n",
            "Epoch 1, Loss: 0.022123588249087334\n",
            "Epoch 1, Loss: 0.002461882308125496\n",
            "Epoch 1, Loss: 0.0001718499988783151\n",
            "Epoch 1, Loss: 0.030148375779390335\n",
            "Epoch 1, Loss: 0.0007949760765768588\n",
            "Epoch 1, Loss: 0.002455710433423519\n",
            "Epoch 1, Loss: 0.0031119701452553272\n",
            "Epoch 1, Loss: 0.0006913963006809354\n",
            "Epoch 1, Loss: 0.0025071934796869755\n",
            "Epoch 1, Loss: 0.0007888799882493913\n",
            "Epoch 1, Loss: 0.0001960858644451946\n",
            "Epoch 1, Loss: 0.027267929166555405\n",
            "Epoch 1, Loss: 0.00014818420459050685\n",
            "Epoch 1, Loss: 0.0001927933335537091\n",
            "Epoch 1, Loss: 0.23831288516521454\n",
            "Epoch 1, Loss: 6.916413258295506e-05\n",
            "Epoch 1, Loss: 0.0001235756790265441\n",
            "Epoch 1, Loss: 0.00029720261227339506\n",
            "Epoch 1, Loss: 0.000364657083991915\n",
            "Epoch 1, Loss: 0.0010922931833192706\n",
            "Epoch 1, Loss: 3.513128831400536e-05\n",
            "Epoch 1, Loss: 4.5058444811729714e-05\n",
            "Epoch 1, Loss: 0.0724494457244873\n",
            "Epoch 1, Loss: 0.00014715432189404964\n",
            "Epoch 1, Loss: 0.0006722040707245469\n",
            "Epoch 1, Loss: 0.00016232460620813072\n",
            "Epoch 1, Loss: 0.0005884899292141199\n",
            "Epoch 1, Loss: 0.011709583923220634\n",
            "Epoch 1, Loss: 0.00038685102481395006\n",
            "Epoch 1, Loss: 0.01685616932809353\n",
            "Epoch 1, Loss: 0.007936365902423859\n",
            "Epoch 1, Loss: 0.0003398350963834673\n",
            "Epoch 1, Loss: 0.0001659680565353483\n",
            "Epoch 1, Loss: 0.0002423601399641484\n",
            "Epoch 1, Loss: 0.005866968538612127\n",
            "Epoch 1, Loss: 6.218443741090596e-05\n",
            "Epoch 1, Loss: 0.00030473939841613173\n",
            "Epoch 1, Loss: 1.748577597027179e-05\n",
            "Epoch 1, Loss: 0.00018431847274769098\n",
            "Epoch 1, Loss: 0.0003928934456780553\n",
            "Epoch 1, Loss: 0.09245692193508148\n",
            "Epoch 1, Loss: 0.0003825795429293066\n",
            "Epoch 1, Loss: 0.00026321542100049555\n",
            "Epoch 1, Loss: 0.00012502401659730822\n",
            "Epoch 1, Loss: 0.0011251491960138083\n",
            "Epoch 1, Loss: 0.002204455202445388\n",
            "Epoch 1, Loss: 0.03487306833267212\n",
            "Epoch 1, Loss: 0.010804648511111736\n",
            "Epoch 1, Loss: 0.0017377377953380346\n",
            "Epoch 1, Loss: 0.00012511697423178703\n",
            "Epoch 1, Loss: 0.001408201060257852\n",
            "Epoch 1, Loss: 0.014339028857648373\n",
            "Epoch 2, Loss: 5.528641850105487e-05\n",
            "Epoch 2, Loss: 0.00011045052815461531\n",
            "Epoch 2, Loss: 0.004600778687745333\n",
            "Epoch 2, Loss: 4.4086165871704e-05\n",
            "Epoch 2, Loss: 0.0005635141860693693\n",
            "Epoch 2, Loss: 0.0004239196132402867\n",
            "Epoch 2, Loss: 0.00377500057220459\n",
            "Epoch 2, Loss: 6.388976908056065e-05\n",
            "Epoch 2, Loss: 2.6131438062293455e-05\n",
            "Epoch 2, Loss: 8.856504427967593e-05\n",
            "Epoch 2, Loss: 0.0012584853684529662\n",
            "Epoch 2, Loss: 7.41512340027839e-05\n",
            "Epoch 2, Loss: 0.0004592173791024834\n",
            "Epoch 2, Loss: 0.1989946812391281\n",
            "Epoch 2, Loss: 0.0007986673736013472\n",
            "Epoch 2, Loss: 0.03740372881293297\n",
            "Epoch 2, Loss: 0.0008174400427378714\n",
            "Epoch 2, Loss: 0.0011541405692696571\n",
            "Epoch 2, Loss: 0.00017321432824246585\n",
            "Epoch 2, Loss: 0.0019190836464986205\n",
            "Epoch 2, Loss: 9.531313116895035e-05\n",
            "Epoch 2, Loss: 0.0005133548402227461\n",
            "Epoch 2, Loss: 0.016398319974541664\n",
            "Epoch 2, Loss: 7.208354509202763e-05\n",
            "Epoch 2, Loss: 0.000529195589479059\n",
            "Epoch 2, Loss: 0.0004456690512597561\n",
            "Epoch 2, Loss: 0.0006125030340626836\n",
            "Epoch 2, Loss: 0.0023408185224980116\n",
            "Epoch 2, Loss: 0.010744488798081875\n",
            "Epoch 2, Loss: 0.0031539686024188995\n",
            "Epoch 2, Loss: 0.0007404637872241437\n",
            "Epoch 2, Loss: 0.0013275665696710348\n",
            "Epoch 2, Loss: 0.0007165224524214864\n",
            "Epoch 2, Loss: 0.32901695370674133\n",
            "Epoch 2, Loss: 0.0008135433308780193\n",
            "Epoch 2, Loss: 0.0003664472314994782\n",
            "Epoch 2, Loss: 0.011035903356969357\n",
            "Epoch 2, Loss: 0.013704671524465084\n",
            "Epoch 2, Loss: 0.029134053736925125\n",
            "Epoch 2, Loss: 0.00886143185198307\n",
            "Epoch 2, Loss: 0.013496666215360165\n",
            "Epoch 2, Loss: 0.0003170186828356236\n",
            "Epoch 2, Loss: 0.0006961883045732975\n",
            "Epoch 2, Loss: 0.0003843807498924434\n",
            "Epoch 2, Loss: 0.0017388199921697378\n",
            "Epoch 2, Loss: 0.001693993923254311\n",
            "Epoch 2, Loss: 0.03068345971405506\n",
            "Epoch 2, Loss: 0.36789271235466003\n",
            "Epoch 2, Loss: 0.0002846140996553004\n",
            "Epoch 2, Loss: 0.0007250630296766758\n",
            "Epoch 2, Loss: 9.733930346556008e-05\n",
            "Epoch 2, Loss: 0.0007710581994615495\n",
            "Epoch 2, Loss: 0.05030757933855057\n",
            "Epoch 2, Loss: 0.009092116728425026\n",
            "Epoch 2, Loss: 0.0012895845575258136\n",
            "Epoch 2, Loss: 0.0008479030802845955\n",
            "Epoch 2, Loss: 0.001172134536318481\n",
            "Epoch 2, Loss: 0.00035451864823699\n",
            "Epoch 2, Loss: 0.004809985868632793\n",
            "Epoch 2, Loss: 0.00017557691899128258\n",
            "Epoch 2, Loss: 0.001743683242239058\n",
            "Epoch 2, Loss: 0.0013515606988221407\n",
            "Epoch 2, Loss: 0.002615425968542695\n",
            "Epoch 2, Loss: 0.011813298799097538\n",
            "Epoch 2, Loss: 0.0005451024044305086\n",
            "Epoch 2, Loss: 0.004345874302089214\n",
            "Epoch 2, Loss: 0.0006096698925830424\n",
            "Epoch 2, Loss: 0.00012027598131680861\n",
            "Epoch 2, Loss: 6.984404899412766e-05\n",
            "Epoch 2, Loss: 0.0006771357730031013\n"
          ]
        },
        {
          "output_type": "execute_result",
          "data": {
            "text/plain": [
              "('./fine_tuned_bert/tokenizer_config.json',\n",
              " './fine_tuned_bert/special_tokens_map.json',\n",
              " './fine_tuned_bert/vocab.txt',\n",
              " './fine_tuned_bert/added_tokens.json')"
            ]
          },
          "metadata": {},
          "execution_count": 91
        }
      ]
    },
    {
      "cell_type": "code",
      "source": [
        "# Load the fine-tuned model and tokenizer\n",
        "tokenizer = DistilBertTokenizer.from_pretrained(\"./fine_tuned_bert\")\n",
        "model = DistilBertForSequenceClassification.from_pretrained(\"./fine_tuned_bert\")\n",
        "\n",
        "# Test with a new example\n",
        "text = \"This is a test of the fine-tuned model.\"\n",
        "inputs = tokenizer(text, return_tensors=\"pt\", padding=True, truncation=True, max_length=128)\n",
        "with torch.no_grad():\n",
        "    outputs = model(**inputs)\n",
        "\n",
        "logits = outputs.logits\n",
        "predictions = torch.argmax(logits, dim=-1)\n",
        "print(f\"Prediction: {'AI' if predictions.item() == 1 else 'Human'}\")\n"
      ],
      "metadata": {
        "id": "vYwoJtjhqDZ3",
        "colab": {
          "base_uri": "https://localhost:8080/"
        },
        "outputId": "619d1b45-a818-4cff-a48a-af150ca61c5f"
      },
      "execution_count": null,
      "outputs": [
        {
          "output_type": "stream",
          "name": "stdout",
          "text": [
            "Prediction: Human\n"
          ]
        }
      ]
    },
    {
      "cell_type": "code",
      "source": [
        "from sklearn.metrics import accuracy_score\n",
        "from sklearn.metrics import precision_recall_fscore_support"
      ],
      "metadata": {
        "id": "46ngrVZz-kVp"
      },
      "execution_count": null,
      "outputs": []
    },
    {
      "cell_type": "code",
      "source": [
        "texts = X_test\n",
        "labels = y_test\n",
        "\n",
        "dataset = TextDataset(texts, labels, tokenizer, max_len=128)\n",
        "test_dataloader = DataLoader(dataset, batch_size=32, shuffle=False)\n",
        "\n",
        "\n",
        "# Step 2: Load the fine-tuned model\n",
        "from transformers import DistilBertTokenizer, DistilBertForSequenceClassification\n",
        "model = DistilBertForSequenceClassification.from_pretrained(\"./fine_tuned_bert\")\n",
        "tokenizer = DistilBertTokenizer.from_pretrained(\"./fine_tuned_bert\")\n",
        "\n",
        "# Step 3: Evaluate the model\n",
        "device = torch.device(\"cuda\" if torch.cuda.is_available() else \"cpu\")\n",
        "model.to(device)\n",
        "model.eval()  # Set the model to evaluation mode\n",
        "\n",
        "all_preds = []\n",
        "all_labels = []\n",
        "\n",
        "with torch.no_grad():\n",
        "    for batch in test_dataloader:\n",
        "        input_ids = batch[\"input_ids\"].to(device)\n",
        "        attention_mask = batch[\"attention_mask\"].to(device)\n",
        "        labels = batch[\"label\"].to(device)\n",
        "\n",
        "        # Forward pass to get predictions\n",
        "        outputs = model(input_ids=input_ids, attention_mask=attention_mask)\n",
        "        logits = outputs.logits\n",
        "        preds = torch.argmax(logits, dim=-1)  # Get class predictions\n",
        "\n",
        "        # Collect predictions and true labels\n",
        "        all_preds.extend(preds.cpu().numpy())\n",
        "        all_labels.extend(labels.cpu().numpy())\n",
        "\n",
        "# Step 4: Calculate evaluation metrics\n",
        "accuracy = accuracy_score(all_labels, all_preds)\n",
        "precision, recall, f1, _ = precision_recall_fscore_support(all_labels, all_preds, average=\"binary\")\n",
        "\n",
        "print(f\"Accuracy: {accuracy:.2f}\")\n",
        "print(f\"Precision: {precision:.2f}\")\n",
        "print(f\"Recall: {recall:.2f}\")\n",
        "print(f\"F1 Score: {f1:.2f}\")\n"
      ],
      "metadata": {
        "id": "Q1Z0iTP0qDW7",
        "colab": {
          "base_uri": "https://localhost:8080/"
        },
        "outputId": "f0e6b6c9-7e6a-4912-9cb6-343e564e87cc"
      },
      "execution_count": null,
      "outputs": [
        {
          "output_type": "stream",
          "name": "stdout",
          "text": [
            "Accuracy: 1.00\n",
            "Precision: 1.00\n",
            "Recall: 1.00\n",
            "F1 Score: 1.00\n"
          ]
        }
      ]
    },
    {
      "cell_type": "code",
      "source": [],
      "metadata": {
        "id": "JoUlyzUMqDQx"
      },
      "execution_count": null,
      "outputs": []
    },
    {
      "cell_type": "code",
      "source": [],
      "metadata": {
        "id": "jXcly7mIgB-c"
      },
      "execution_count": null,
      "outputs": []
    },
    {
      "cell_type": "markdown",
      "source": [
        "# 10 - Analysis\n",
        "\n",
        "\n",
        "## Analysis\n",
        "\n",
        "In this project, we implemented a range of classification techniques to distinguish between AI-generated and human-generated text. While the models achieved very high accuracies (above 99% for both training and test datasets), these results prompted us to investigate potential issues.\n",
        "\n",
        "### Observations\n",
        "\n",
        "1. **Dataset Size and Complexity**\n",
        "   - The dataset may lack sufficient complexity to challenge the models effectively.\n",
        "   - The dataset's small size may lead to overfitting.\n",
        "\n",
        "2. **Data Leakage**\n",
        "   - Similarities between the training and test datasets suggest data leakage.\n",
        "   - This issue arises from the repetitive nature of the dataset, as it was designed for a Kaggle competition. The dataset comprises answers written for just two prompts, with both AI and human responses generated based on a finite, fixed list of source texts.\n",
        "\n",
        "### Proposed Solution\n",
        "\n",
        "To address these challenges, we identified the following steps:\n",
        "\n",
        "1. **Dataset Expansion**\n",
        "   - Increase the dataset size by appending a more varied and larger dataset.\n",
        "   - This approach aims to reduce repetitiveness and mitigate data leakage issues.\n",
        "\n",
        "2. **Prompt Engineering**\n",
        "   - Redesign prompts to ensure the LLM processes fewer source texts (one or two at most).\n",
        "   - Introduce additional prompts to diversify the dataset.\n",
        "\n",
        "3. **Limitations of AI-Generated Data**\n",
        "   - While we can generate new AI data using updated prompts and dummy source texts, balancing this with corresponding human-generated text remains a challenge.\n",
        "   - This method does not entirely resolve the repetitiveness of answers.\n",
        "\n",
        "### Next Steps\n",
        "\n",
        "We have identified and obtained a new, larger dataset that offers greater diversity. This dataset will be concatenated with the current dataset. Following this, we will repeat our analysis in a new notebook (`phase2.ipynb`) to evaluate the impact of the updated dataset.\n",
        "\n",
        "---\n"
      ],
      "metadata": {
        "id": "OMd8yOPxq5B3"
      }
    },
    {
      "cell_type": "markdown",
      "source": [
        "# Further Research"
      ],
      "metadata": {
        "id": "nOFaIa6VYaMD"
      }
    },
    {
      "cell_type": "code",
      "source": [],
      "metadata": {
        "id": "Wc_G4HaXVJzS"
      },
      "execution_count": null,
      "outputs": []
    }
  ]
}